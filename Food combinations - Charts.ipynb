{
 "cells": [
  {
   "cell_type": "markdown",
   "metadata": {},
   "source": [
    "# Charts of food combinations\n",
    "This Jupyter Notebook aims at creating polar charts and food tables for the food combinations found (for now, found incrementally---ideally it should come from an algorithm that should be more objective, see the Optimization notebook)"
   ]
  },
  {
   "cell_type": "code",
   "execution_count": 1,
   "metadata": {},
   "outputs": [],
   "source": [
    "import numpy as np\n",
    "import matplotlib.pyplot as plt\n",
    "import pandas as pd\n",
    "import seaborn as sns\n",
    "from scipy import linalg, optimize\n",
    "import plotly.express as px\n",
    "import plotly.graph_objects as go\n",
    "from plotly.subplots import make_subplots\n",
    "import os\n",
    "import dataframe_image as dfi"
   ]
  },
  {
   "cell_type": "code",
   "execution_count": 2,
   "metadata": {},
   "outputs": [],
   "source": [
    "nut_calc = pd.read_excel('Nutrition Calculator.xlsx', sheet_name='Nutrition Calculator (p100kcal)',\n",
    "                         skiprows=(0,1,3), index_col=0)\n",
    "nut_needs = pd.read_excel('Nutrition Calculator.xlsx', sheet_name='Human Nutritional Needs',\n",
    "                          nrows=5, skiprows=(0,2), index_col=0)"
   ]
  },
  {
   "cell_type": "code",
   "execution_count": 3,
   "metadata": {},
   "outputs": [],
   "source": [
    "nut_calc = nut_calc.fillna(0)"
   ]
  },
  {
   "cell_type": "code",
   "execution_count": 4,
   "metadata": {
    "scrolled": false
   },
   "outputs": [
    {
     "data": {
      "text/html": [
       "<div>\n",
       "<style scoped>\n",
       "    .dataframe tbody tr th:only-of-type {\n",
       "        vertical-align: middle;\n",
       "    }\n",
       "\n",
       "    .dataframe tbody tr th {\n",
       "        vertical-align: top;\n",
       "    }\n",
       "\n",
       "    .dataframe thead th {\n",
       "        text-align: right;\n",
       "    }\n",
       "</style>\n",
       "<table border=\"1\" class=\"dataframe\">\n",
       "  <thead>\n",
       "    <tr style=\"text-align: right;\">\n",
       "      <th></th>\n",
       "      <th>Protein</th>\n",
       "      <th>Fat total</th>\n",
       "      <th>Saturated fats</th>\n",
       "      <th>Trans fats</th>\n",
       "      <th>Carbohydrates</th>\n",
       "      <th>Fiber</th>\n",
       "      <th>Sugars</th>\n",
       "      <th>Vitamin A</th>\n",
       "      <th>Vitamin E</th>\n",
       "      <th>Vitamin D</th>\n",
       "      <th>...</th>\n",
       "      <th>Lysine</th>\n",
       "      <th>Methionine</th>\n",
       "      <th>Cysteine</th>\n",
       "      <th>Phenylalanine</th>\n",
       "      <th>Tyrosine</th>\n",
       "      <th>Threonine</th>\n",
       "      <th>Tryptophan</th>\n",
       "      <th>Valine</th>\n",
       "      <th>Omega-3 (ALA)</th>\n",
       "      <th>Omega-6 (LA)</th>\n",
       "    </tr>\n",
       "  </thead>\n",
       "  <tbody>\n",
       "    <tr>\n",
       "      <th>Lower (severe risk)</th>\n",
       "      <td>46.00</td>\n",
       "      <td>35.00</td>\n",
       "      <td>1.000000e-99</td>\n",
       "      <td>1.000000e-99</td>\n",
       "      <td>5.000000e+01</td>\n",
       "      <td>2.500000e+01</td>\n",
       "      <td>1.000000e-99</td>\n",
       "      <td>5.000000e+02</td>\n",
       "      <td>1.000000e+04</td>\n",
       "      <td>3.8</td>\n",
       "      <td>...</td>\n",
       "      <td>1.860000e+00</td>\n",
       "      <td>6.200000e-01</td>\n",
       "      <td>2.480000e-01</td>\n",
       "      <td>9.300000e-01</td>\n",
       "      <td>2.480000e-01</td>\n",
       "      <td>9.300000e-01</td>\n",
       "      <td>2.480000e-01</td>\n",
       "      <td>1.612000e+00</td>\n",
       "      <td>1.350000e+00</td>\n",
       "      <td>1.000000e+01</td>\n",
       "    </tr>\n",
       "    <tr>\n",
       "      <th>Lower (moderate risk)</th>\n",
       "      <td>51.00</td>\n",
       "      <td>46.67</td>\n",
       "      <td>1.000000e-99</td>\n",
       "      <td>1.000000e-99</td>\n",
       "      <td>1.300000e+02</td>\n",
       "      <td>2.500000e+01</td>\n",
       "      <td>1.000000e-99</td>\n",
       "      <td>7.000000e+02</td>\n",
       "      <td>1.500000e+04</td>\n",
       "      <td>15.0</td>\n",
       "      <td>...</td>\n",
       "      <td>1.860000e+00</td>\n",
       "      <td>6.200000e-01</td>\n",
       "      <td>2.480000e-01</td>\n",
       "      <td>9.300000e-01</td>\n",
       "      <td>2.480000e-01</td>\n",
       "      <td>9.300000e-01</td>\n",
       "      <td>2.480000e-01</td>\n",
       "      <td>1.612000e+00</td>\n",
       "      <td>2.000000e+00</td>\n",
       "      <td>1.450000e+01</td>\n",
       "    </tr>\n",
       "    <tr>\n",
       "      <th>Higher (safe)</th>\n",
       "      <td>78.75</td>\n",
       "      <td>70.00</td>\n",
       "      <td>2.333000e+01</td>\n",
       "      <td>2.300000e+00</td>\n",
       "      <td>4.000000e+02</td>\n",
       "      <td>7.000000e+01</td>\n",
       "      <td>5.250000e+01</td>\n",
       "      <td>3.000000e+03</td>\n",
       "      <td>3.000000e+05</td>\n",
       "      <td>250.0</td>\n",
       "      <td>...</td>\n",
       "      <td>7.440000e+00</td>\n",
       "      <td>2.480000e+00</td>\n",
       "      <td>9.920000e-01</td>\n",
       "      <td>3.720000e+00</td>\n",
       "      <td>9.920000e-01</td>\n",
       "      <td>3.720000e+00</td>\n",
       "      <td>9.920000e-01</td>\n",
       "      <td>6.448000e+00</td>\n",
       "      <td>2.800000e+00</td>\n",
       "      <td>1.867000e+01</td>\n",
       "    </tr>\n",
       "    <tr>\n",
       "      <th>Higher (moderate risk)</th>\n",
       "      <td>140.00</td>\n",
       "      <td>81.67</td>\n",
       "      <td>2.333000e+01</td>\n",
       "      <td>2.300000e+00</td>\n",
       "      <td>5.000000e+02</td>\n",
       "      <td>5.000000e+02</td>\n",
       "      <td>1.312500e+02</td>\n",
       "      <td>8.000000e+03</td>\n",
       "      <td>1.000000e+06</td>\n",
       "      <td>1925.0</td>\n",
       "      <td>...</td>\n",
       "      <td>1.000000e+99</td>\n",
       "      <td>1.000000e+99</td>\n",
       "      <td>1.000000e+99</td>\n",
       "      <td>1.000000e+99</td>\n",
       "      <td>1.000000e+99</td>\n",
       "      <td>1.000000e+99</td>\n",
       "      <td>1.000000e+99</td>\n",
       "      <td>1.000000e+99</td>\n",
       "      <td>4.670000e+00</td>\n",
       "      <td>2.333000e+01</td>\n",
       "    </tr>\n",
       "    <tr>\n",
       "      <th>Higher (severe risk)</th>\n",
       "      <td>400.00</td>\n",
       "      <td>200.00</td>\n",
       "      <td>2.000000e+02</td>\n",
       "      <td>2.000000e+02</td>\n",
       "      <td>1.000000e+99</td>\n",
       "      <td>1.000000e+99</td>\n",
       "      <td>1.000000e+99</td>\n",
       "      <td>1.000000e+99</td>\n",
       "      <td>1.000000e+99</td>\n",
       "      <td>15000.0</td>\n",
       "      <td>...</td>\n",
       "      <td>1.000000e+99</td>\n",
       "      <td>1.000000e+99</td>\n",
       "      <td>1.000000e+99</td>\n",
       "      <td>1.000000e+99</td>\n",
       "      <td>1.000000e+99</td>\n",
       "      <td>1.000000e+99</td>\n",
       "      <td>1.000000e+99</td>\n",
       "      <td>1.000000e+99</td>\n",
       "      <td>1.000000e+99</td>\n",
       "      <td>1.000000e+99</td>\n",
       "    </tr>\n",
       "  </tbody>\n",
       "</table>\n",
       "<p>5 rows × 45 columns</p>\n",
       "</div>"
      ],
      "text/plain": [
       "                        Protein  Fat total  Saturated fats    Trans fats  \\\n",
       "Lower (severe risk)       46.00      35.00    1.000000e-99  1.000000e-99   \n",
       "Lower (moderate risk)     51.00      46.67    1.000000e-99  1.000000e-99   \n",
       "Higher (safe)             78.75      70.00    2.333000e+01  2.300000e+00   \n",
       "Higher (moderate risk)   140.00      81.67    2.333000e+01  2.300000e+00   \n",
       "Higher (severe risk)     400.00     200.00    2.000000e+02  2.000000e+02   \n",
       "\n",
       "                        Carbohydrates         Fiber        Sugars  \\\n",
       "Lower (severe risk)      5.000000e+01  2.500000e+01  1.000000e-99   \n",
       "Lower (moderate risk)    1.300000e+02  2.500000e+01  1.000000e-99   \n",
       "Higher (safe)            4.000000e+02  7.000000e+01  5.250000e+01   \n",
       "Higher (moderate risk)   5.000000e+02  5.000000e+02  1.312500e+02   \n",
       "Higher (severe risk)     1.000000e+99  1.000000e+99  1.000000e+99   \n",
       "\n",
       "                           Vitamin A     Vitamin E  Vitamin D  ...  \\\n",
       "Lower (severe risk)     5.000000e+02  1.000000e+04        3.8  ...   \n",
       "Lower (moderate risk)   7.000000e+02  1.500000e+04       15.0  ...   \n",
       "Higher (safe)           3.000000e+03  3.000000e+05      250.0  ...   \n",
       "Higher (moderate risk)  8.000000e+03  1.000000e+06     1925.0  ...   \n",
       "Higher (severe risk)    1.000000e+99  1.000000e+99    15000.0  ...   \n",
       "\n",
       "                              Lysine    Methionine      Cysteine  \\\n",
       "Lower (severe risk)     1.860000e+00  6.200000e-01  2.480000e-01   \n",
       "Lower (moderate risk)   1.860000e+00  6.200000e-01  2.480000e-01   \n",
       "Higher (safe)           7.440000e+00  2.480000e+00  9.920000e-01   \n",
       "Higher (moderate risk)  1.000000e+99  1.000000e+99  1.000000e+99   \n",
       "Higher (severe risk)    1.000000e+99  1.000000e+99  1.000000e+99   \n",
       "\n",
       "                        Phenylalanine      Tyrosine     Threonine  \\\n",
       "Lower (severe risk)      9.300000e-01  2.480000e-01  9.300000e-01   \n",
       "Lower (moderate risk)    9.300000e-01  2.480000e-01  9.300000e-01   \n",
       "Higher (safe)            3.720000e+00  9.920000e-01  3.720000e+00   \n",
       "Higher (moderate risk)   1.000000e+99  1.000000e+99  1.000000e+99   \n",
       "Higher (severe risk)     1.000000e+99  1.000000e+99  1.000000e+99   \n",
       "\n",
       "                          Tryptophan        Valine  Omega-3 (ALA)  \\\n",
       "Lower (severe risk)     2.480000e-01  1.612000e+00   1.350000e+00   \n",
       "Lower (moderate risk)   2.480000e-01  1.612000e+00   2.000000e+00   \n",
       "Higher (safe)           9.920000e-01  6.448000e+00   2.800000e+00   \n",
       "Higher (moderate risk)  1.000000e+99  1.000000e+99   4.670000e+00   \n",
       "Higher (severe risk)    1.000000e+99  1.000000e+99   1.000000e+99   \n",
       "\n",
       "                        Omega-6 (LA)  \n",
       "Lower (severe risk)     1.000000e+01  \n",
       "Lower (moderate risk)   1.450000e+01  \n",
       "Higher (safe)           1.867000e+01  \n",
       "Higher (moderate risk)  2.333000e+01  \n",
       "Higher (severe risk)    1.000000e+99  \n",
       "\n",
       "[5 rows x 45 columns]"
      ]
     },
     "execution_count": 4,
     "metadata": {},
     "output_type": "execute_result"
    }
   ],
   "source": [
    "nut_needs"
   ]
  },
  {
   "cell_type": "code",
   "execution_count": 5,
   "metadata": {
    "scrolled": true
   },
   "outputs": [
    {
     "data": {
      "text/html": [
       "<div>\n",
       "<style scoped>\n",
       "    .dataframe tbody tr th:only-of-type {\n",
       "        vertical-align: middle;\n",
       "    }\n",
       "\n",
       "    .dataframe tbody tr th {\n",
       "        vertical-align: top;\n",
       "    }\n",
       "\n",
       "    .dataframe thead th {\n",
       "        text-align: right;\n",
       "    }\n",
       "</style>\n",
       "<table border=\"1\" class=\"dataframe\">\n",
       "  <thead>\n",
       "    <tr style=\"text-align: right;\">\n",
       "      <th></th>\n",
       "      <th>Notes</th>\n",
       "      <th>Source</th>\n",
       "      <th>Energy</th>\n",
       "      <th>Protein digestibility</th>\n",
       "      <th>Protein</th>\n",
       "      <th>Fat total</th>\n",
       "      <th>Saturated fats</th>\n",
       "      <th>Trans fats</th>\n",
       "      <th>Carbohydrates</th>\n",
       "      <th>Fiber</th>\n",
       "      <th>...</th>\n",
       "      <th>Lysine</th>\n",
       "      <th>Methionine</th>\n",
       "      <th>Cysteine</th>\n",
       "      <th>Phenylalanine</th>\n",
       "      <th>Tyrosine</th>\n",
       "      <th>Threonine</th>\n",
       "      <th>Tryptophan</th>\n",
       "      <th>Valine</th>\n",
       "      <th>Omega-3 (ALA)</th>\n",
       "      <th>Omega-6 (LA)</th>\n",
       "    </tr>\n",
       "    <tr>\n",
       "      <th>Food</th>\n",
       "      <th></th>\n",
       "      <th></th>\n",
       "      <th></th>\n",
       "      <th></th>\n",
       "      <th></th>\n",
       "      <th></th>\n",
       "      <th></th>\n",
       "      <th></th>\n",
       "      <th></th>\n",
       "      <th></th>\n",
       "      <th></th>\n",
       "      <th></th>\n",
       "      <th></th>\n",
       "      <th></th>\n",
       "      <th></th>\n",
       "      <th></th>\n",
       "      <th></th>\n",
       "      <th></th>\n",
       "      <th></th>\n",
       "      <th></th>\n",
       "      <th></th>\n",
       "    </tr>\n",
       "  </thead>\n",
       "  <tbody>\n",
       "    <tr>\n",
       "      <th>Fish, tuna, fresh, skipjack, raw</th>\n",
       "      <td>0</td>\n",
       "      <td>https://fdc.nal.usda.gov/fdc-app.html#/food-de...</td>\n",
       "      <td>103.000000</td>\n",
       "      <td>0.900</td>\n",
       "      <td>21.359223</td>\n",
       "      <td>0.980583</td>\n",
       "      <td>0.318447</td>\n",
       "      <td>0.000000</td>\n",
       "      <td>0.000000</td>\n",
       "      <td>0.000000</td>\n",
       "      <td>...</td>\n",
       "      <td>1.961165</td>\n",
       "      <td>0.632039</td>\n",
       "      <td>0.229126</td>\n",
       "      <td>0.833981</td>\n",
       "      <td>0.721359</td>\n",
       "      <td>0.935922</td>\n",
       "      <td>0.238835</td>\n",
       "      <td>1.100000</td>\n",
       "      <td>0.000000</td>\n",
       "      <td>0.015534</td>\n",
       "    </tr>\n",
       "    <tr>\n",
       "      <th>Cattle (meat, mechanically separated)</th>\n",
       "      <td>mechanically separated, raw</td>\n",
       "      <td>https://fdc.nal.usda.gov/fdc-app.html#/food-de...</td>\n",
       "      <td>276.000000</td>\n",
       "      <td>0.950</td>\n",
       "      <td>5.423913</td>\n",
       "      <td>8.521739</td>\n",
       "      <td>4.268116</td>\n",
       "      <td>0.000000</td>\n",
       "      <td>0.000000</td>\n",
       "      <td>0.000000</td>\n",
       "      <td>...</td>\n",
       "      <td>0.420652</td>\n",
       "      <td>0.154348</td>\n",
       "      <td>0.083333</td>\n",
       "      <td>0.233333</td>\n",
       "      <td>0.138043</td>\n",
       "      <td>0.171739</td>\n",
       "      <td>0.060870</td>\n",
       "      <td>0.331522</td>\n",
       "      <td>0.061594</td>\n",
       "      <td>0.213768</td>\n",
       "    </tr>\n",
       "    <tr>\n",
       "      <th>Beef, variety meats and by-products, liver, raw</th>\n",
       "      <td>0</td>\n",
       "      <td>https://fdc.nal.usda.gov/fdc-app.html#/food-de...</td>\n",
       "      <td>135.000000</td>\n",
       "      <td>0.950</td>\n",
       "      <td>15.081481</td>\n",
       "      <td>2.688889</td>\n",
       "      <td>0.913333</td>\n",
       "      <td>0.125926</td>\n",
       "      <td>2.881481</td>\n",
       "      <td>0.000000</td>\n",
       "      <td>...</td>\n",
       "      <td>1.190370</td>\n",
       "      <td>0.402222</td>\n",
       "      <td>0.278519</td>\n",
       "      <td>0.802963</td>\n",
       "      <td>0.597778</td>\n",
       "      <td>0.643704</td>\n",
       "      <td>0.194815</td>\n",
       "      <td>0.933333</td>\n",
       "      <td>0.005185</td>\n",
       "      <td>0.221481</td>\n",
       "    </tr>\n",
       "    <tr>\n",
       "      <th>Chicken, broilers or fryers, meat and skin and giblets and neck, raw</th>\n",
       "      <td>0</td>\n",
       "      <td>https://fdc.nal.usda.gov/fdc-app.html#/food-de...</td>\n",
       "      <td>213.000000</td>\n",
       "      <td>1.000</td>\n",
       "      <td>8.605634</td>\n",
       "      <td>6.962441</td>\n",
       "      <td>1.990610</td>\n",
       "      <td>0.000000</td>\n",
       "      <td>0.061033</td>\n",
       "      <td>0.000000</td>\n",
       "      <td>...</td>\n",
       "      <td>0.690141</td>\n",
       "      <td>0.226291</td>\n",
       "      <td>0.115493</td>\n",
       "      <td>0.337089</td>\n",
       "      <td>0.275117</td>\n",
       "      <td>0.356808</td>\n",
       "      <td>0.095305</td>\n",
       "      <td>0.419249</td>\n",
       "      <td>0.000000</td>\n",
       "      <td>1.328638</td>\n",
       "    </tr>\n",
       "    <tr>\n",
       "      <th>Mushrooms, shiitake, raw</th>\n",
       "      <td>0</td>\n",
       "      <td>https://fdc.nal.usda.gov/fdc-app.html#/food-de...</td>\n",
       "      <td>34.000000</td>\n",
       "      <td>0.690</td>\n",
       "      <td>6.588235</td>\n",
       "      <td>1.441176</td>\n",
       "      <td>0.000000</td>\n",
       "      <td>0.000000</td>\n",
       "      <td>19.970588</td>\n",
       "      <td>7.352941</td>\n",
       "      <td>...</td>\n",
       "      <td>0.394118</td>\n",
       "      <td>0.097059</td>\n",
       "      <td>0.064706</td>\n",
       "      <td>0.326471</td>\n",
       "      <td>0.229412</td>\n",
       "      <td>0.394118</td>\n",
       "      <td>0.032353</td>\n",
       "      <td>0.426471</td>\n",
       "      <td>0.000000</td>\n",
       "      <td>0.000000</td>\n",
       "    </tr>\n",
       "    <tr>\n",
       "      <th>...</th>\n",
       "      <td>...</td>\n",
       "      <td>...</td>\n",
       "      <td>...</td>\n",
       "      <td>...</td>\n",
       "      <td>...</td>\n",
       "      <td>...</td>\n",
       "      <td>...</td>\n",
       "      <td>...</td>\n",
       "      <td>...</td>\n",
       "      <td>...</td>\n",
       "      <td>...</td>\n",
       "      <td>...</td>\n",
       "      <td>...</td>\n",
       "      <td>...</td>\n",
       "      <td>...</td>\n",
       "      <td>...</td>\n",
       "      <td>...</td>\n",
       "      <td>...</td>\n",
       "      <td>...</td>\n",
       "      <td>...</td>\n",
       "      <td>...</td>\n",
       "    </tr>\n",
       "    <tr>\n",
       "      <th>Beef, tripe, cooked, simmered</th>\n",
       "      <td>0</td>\n",
       "      <td>https://fdc.nal.usda.gov/fdc-app.html#/food-de...</td>\n",
       "      <td>94.000000</td>\n",
       "      <td>0.971</td>\n",
       "      <td>12.446809</td>\n",
       "      <td>4.308511</td>\n",
       "      <td>1.446809</td>\n",
       "      <td>0.212766</td>\n",
       "      <td>2.117021</td>\n",
       "      <td>0.000000</td>\n",
       "      <td>...</td>\n",
       "      <td>0.724404</td>\n",
       "      <td>0.296856</td>\n",
       "      <td>0.125090</td>\n",
       "      <td>0.413234</td>\n",
       "      <td>0.465511</td>\n",
       "      <td>0.470489</td>\n",
       "      <td>0.118245</td>\n",
       "      <td>0.000000</td>\n",
       "      <td>0.008511</td>\n",
       "      <td>0.145745</td>\n",
       "    </tr>\n",
       "    <tr>\n",
       "      <th>Cattle (organs)</th>\n",
       "      <td>calculated from individual organ nutritional v...</td>\n",
       "      <td>0</td>\n",
       "      <td>139.808421</td>\n",
       "      <td>0.950</td>\n",
       "      <td>14.722854</td>\n",
       "      <td>3.494903</td>\n",
       "      <td>1.369257</td>\n",
       "      <td>0.144928</td>\n",
       "      <td>1.504420</td>\n",
       "      <td>0.000000</td>\n",
       "      <td>...</td>\n",
       "      <td>1.033903</td>\n",
       "      <td>0.363285</td>\n",
       "      <td>0.127949</td>\n",
       "      <td>0.387572</td>\n",
       "      <td>0.329675</td>\n",
       "      <td>0.606136</td>\n",
       "      <td>0.173915</td>\n",
       "      <td>0.180805</td>\n",
       "      <td>0.012212</td>\n",
       "      <td>0.175925</td>\n",
       "    </tr>\n",
       "    <tr>\n",
       "      <th>Lignocellulosic sugar</th>\n",
       "      <td>sugar from cellulose</td>\n",
       "      <td>0</td>\n",
       "      <td>400.000000</td>\n",
       "      <td>0.000</td>\n",
       "      <td>0.000000</td>\n",
       "      <td>0.000000</td>\n",
       "      <td>0.000000</td>\n",
       "      <td>0.000000</td>\n",
       "      <td>25.000000</td>\n",
       "      <td>0.000000</td>\n",
       "      <td>...</td>\n",
       "      <td>0.000000</td>\n",
       "      <td>0.000000</td>\n",
       "      <td>0.000000</td>\n",
       "      <td>0.000000</td>\n",
       "      <td>0.000000</td>\n",
       "      <td>0.000000</td>\n",
       "      <td>0.000000</td>\n",
       "      <td>0.000000</td>\n",
       "      <td>0.000000</td>\n",
       "      <td>0.000000</td>\n",
       "    </tr>\n",
       "    <tr>\n",
       "      <th>Bread (whole-wheat)</th>\n",
       "      <td>0</td>\n",
       "      <td>https://fdc.nal.usda.gov/fdc-app.html#/food-de...</td>\n",
       "      <td>278.000000</td>\n",
       "      <td>0.970</td>\n",
       "      <td>3.021583</td>\n",
       "      <td>1.942446</td>\n",
       "      <td>0.286331</td>\n",
       "      <td>0.000000</td>\n",
       "      <td>18.489209</td>\n",
       "      <td>2.158273</td>\n",
       "      <td>...</td>\n",
       "      <td>0.087770</td>\n",
       "      <td>0.048921</td>\n",
       "      <td>0.066906</td>\n",
       "      <td>0.144964</td>\n",
       "      <td>0.090647</td>\n",
       "      <td>0.089209</td>\n",
       "      <td>0.043885</td>\n",
       "      <td>0.134892</td>\n",
       "      <td>0.114029</td>\n",
       "      <td>0.942446</td>\n",
       "    </tr>\n",
       "    <tr>\n",
       "      <th>Sugar (beets)</th>\n",
       "      <td>0</td>\n",
       "      <td>0</td>\n",
       "      <td>400.000000</td>\n",
       "      <td>0.000</td>\n",
       "      <td>0.000000</td>\n",
       "      <td>0.000000</td>\n",
       "      <td>0.000000</td>\n",
       "      <td>0.000000</td>\n",
       "      <td>25.000000</td>\n",
       "      <td>0.000000</td>\n",
       "      <td>...</td>\n",
       "      <td>0.000000</td>\n",
       "      <td>0.000000</td>\n",
       "      <td>0.000000</td>\n",
       "      <td>0.000000</td>\n",
       "      <td>0.000000</td>\n",
       "      <td>0.000000</td>\n",
       "      <td>0.000000</td>\n",
       "      <td>0.000000</td>\n",
       "      <td>0.000000</td>\n",
       "      <td>0.000000</td>\n",
       "    </tr>\n",
       "  </tbody>\n",
       "</table>\n",
       "<p>61 rows × 49 columns</p>\n",
       "</div>"
      ],
      "text/plain": [
       "                                                                                                Notes  \\\n",
       "Food                                                                                                    \n",
       "Fish, tuna, fresh, skipjack, raw                                                                    0   \n",
       "Cattle (meat, mechanically separated)                                     mechanically separated, raw   \n",
       "Beef, variety meats and by-products, liver, raw                                                     0   \n",
       "Chicken, broilers or fryers, meat and skin and ...                                                  0   \n",
       "Mushrooms, shiitake, raw                                                                            0   \n",
       "...                                                                                               ...   \n",
       "Beef, tripe, cooked, simmered                                                                       0   \n",
       "Cattle (organs)                                     calculated from individual organ nutritional v...   \n",
       "Lignocellulosic sugar                                                            sugar from cellulose   \n",
       "Bread (whole-wheat)                                                                                 0   \n",
       "Sugar (beets)                                                                                       0   \n",
       "\n",
       "                                                                                               Source  \\\n",
       "Food                                                                                                    \n",
       "Fish, tuna, fresh, skipjack, raw                    https://fdc.nal.usda.gov/fdc-app.html#/food-de...   \n",
       "Cattle (meat, mechanically separated)               https://fdc.nal.usda.gov/fdc-app.html#/food-de...   \n",
       "Beef, variety meats and by-products, liver, raw     https://fdc.nal.usda.gov/fdc-app.html#/food-de...   \n",
       "Chicken, broilers or fryers, meat and skin and ...  https://fdc.nal.usda.gov/fdc-app.html#/food-de...   \n",
       "Mushrooms, shiitake, raw                            https://fdc.nal.usda.gov/fdc-app.html#/food-de...   \n",
       "...                                                                                               ...   \n",
       "Beef, tripe, cooked, simmered                       https://fdc.nal.usda.gov/fdc-app.html#/food-de...   \n",
       "Cattle (organs)                                                                                     0   \n",
       "Lignocellulosic sugar                                                                               0   \n",
       "Bread (whole-wheat)                                 https://fdc.nal.usda.gov/fdc-app.html#/food-de...   \n",
       "Sugar (beets)                                                                                       0   \n",
       "\n",
       "                                                        Energy  \\\n",
       "Food                                                             \n",
       "Fish, tuna, fresh, skipjack, raw                    103.000000   \n",
       "Cattle (meat, mechanically separated)               276.000000   \n",
       "Beef, variety meats and by-products, liver, raw     135.000000   \n",
       "Chicken, broilers or fryers, meat and skin and ...  213.000000   \n",
       "Mushrooms, shiitake, raw                             34.000000   \n",
       "...                                                        ...   \n",
       "Beef, tripe, cooked, simmered                        94.000000   \n",
       "Cattle (organs)                                     139.808421   \n",
       "Lignocellulosic sugar                               400.000000   \n",
       "Bread (whole-wheat)                                 278.000000   \n",
       "Sugar (beets)                                       400.000000   \n",
       "\n",
       "                                                    Protein digestibility  \\\n",
       "Food                                                                        \n",
       "Fish, tuna, fresh, skipjack, raw                                    0.900   \n",
       "Cattle (meat, mechanically separated)                               0.950   \n",
       "Beef, variety meats and by-products, liver, raw                     0.950   \n",
       "Chicken, broilers or fryers, meat and skin and ...                  1.000   \n",
       "Mushrooms, shiitake, raw                                            0.690   \n",
       "...                                                                   ...   \n",
       "Beef, tripe, cooked, simmered                                       0.971   \n",
       "Cattle (organs)                                                     0.950   \n",
       "Lignocellulosic sugar                                               0.000   \n",
       "Bread (whole-wheat)                                                 0.970   \n",
       "Sugar (beets)                                                       0.000   \n",
       "\n",
       "                                                      Protein  Fat total  \\\n",
       "Food                                                                       \n",
       "Fish, tuna, fresh, skipjack, raw                    21.359223   0.980583   \n",
       "Cattle (meat, mechanically separated)                5.423913   8.521739   \n",
       "Beef, variety meats and by-products, liver, raw     15.081481   2.688889   \n",
       "Chicken, broilers or fryers, meat and skin and ...   8.605634   6.962441   \n",
       "Mushrooms, shiitake, raw                             6.588235   1.441176   \n",
       "...                                                       ...        ...   \n",
       "Beef, tripe, cooked, simmered                       12.446809   4.308511   \n",
       "Cattle (organs)                                     14.722854   3.494903   \n",
       "Lignocellulosic sugar                                0.000000   0.000000   \n",
       "Bread (whole-wheat)                                  3.021583   1.942446   \n",
       "Sugar (beets)                                        0.000000   0.000000   \n",
       "\n",
       "                                                    Saturated fats  \\\n",
       "Food                                                                 \n",
       "Fish, tuna, fresh, skipjack, raw                          0.318447   \n",
       "Cattle (meat, mechanically separated)                     4.268116   \n",
       "Beef, variety meats and by-products, liver, raw           0.913333   \n",
       "Chicken, broilers or fryers, meat and skin and ...        1.990610   \n",
       "Mushrooms, shiitake, raw                                  0.000000   \n",
       "...                                                            ...   \n",
       "Beef, tripe, cooked, simmered                             1.446809   \n",
       "Cattle (organs)                                           1.369257   \n",
       "Lignocellulosic sugar                                     0.000000   \n",
       "Bread (whole-wheat)                                       0.286331   \n",
       "Sugar (beets)                                             0.000000   \n",
       "\n",
       "                                                    Trans fats  Carbohydrates  \\\n",
       "Food                                                                            \n",
       "Fish, tuna, fresh, skipjack, raw                      0.000000       0.000000   \n",
       "Cattle (meat, mechanically separated)                 0.000000       0.000000   \n",
       "Beef, variety meats and by-products, liver, raw       0.125926       2.881481   \n",
       "Chicken, broilers or fryers, meat and skin and ...    0.000000       0.061033   \n",
       "Mushrooms, shiitake, raw                              0.000000      19.970588   \n",
       "...                                                        ...            ...   \n",
       "Beef, tripe, cooked, simmered                         0.212766       2.117021   \n",
       "Cattle (organs)                                       0.144928       1.504420   \n",
       "Lignocellulosic sugar                                 0.000000      25.000000   \n",
       "Bread (whole-wheat)                                   0.000000      18.489209   \n",
       "Sugar (beets)                                         0.000000      25.000000   \n",
       "\n",
       "                                                       Fiber  ...    Lysine  \\\n",
       "Food                                                          ...             \n",
       "Fish, tuna, fresh, skipjack, raw                    0.000000  ...  1.961165   \n",
       "Cattle (meat, mechanically separated)               0.000000  ...  0.420652   \n",
       "Beef, variety meats and by-products, liver, raw     0.000000  ...  1.190370   \n",
       "Chicken, broilers or fryers, meat and skin and ...  0.000000  ...  0.690141   \n",
       "Mushrooms, shiitake, raw                            7.352941  ...  0.394118   \n",
       "...                                                      ...  ...       ...   \n",
       "Beef, tripe, cooked, simmered                       0.000000  ...  0.724404   \n",
       "Cattle (organs)                                     0.000000  ...  1.033903   \n",
       "Lignocellulosic sugar                               0.000000  ...  0.000000   \n",
       "Bread (whole-wheat)                                 2.158273  ...  0.087770   \n",
       "Sugar (beets)                                       0.000000  ...  0.000000   \n",
       "\n",
       "                                                    Methionine  Cysteine  \\\n",
       "Food                                                                       \n",
       "Fish, tuna, fresh, skipjack, raw                      0.632039  0.229126   \n",
       "Cattle (meat, mechanically separated)                 0.154348  0.083333   \n",
       "Beef, variety meats and by-products, liver, raw       0.402222  0.278519   \n",
       "Chicken, broilers or fryers, meat and skin and ...    0.226291  0.115493   \n",
       "Mushrooms, shiitake, raw                              0.097059  0.064706   \n",
       "...                                                        ...       ...   \n",
       "Beef, tripe, cooked, simmered                         0.296856  0.125090   \n",
       "Cattle (organs)                                       0.363285  0.127949   \n",
       "Lignocellulosic sugar                                 0.000000  0.000000   \n",
       "Bread (whole-wheat)                                   0.048921  0.066906   \n",
       "Sugar (beets)                                         0.000000  0.000000   \n",
       "\n",
       "                                                    Phenylalanine  Tyrosine  \\\n",
       "Food                                                                          \n",
       "Fish, tuna, fresh, skipjack, raw                         0.833981  0.721359   \n",
       "Cattle (meat, mechanically separated)                    0.233333  0.138043   \n",
       "Beef, variety meats and by-products, liver, raw          0.802963  0.597778   \n",
       "Chicken, broilers or fryers, meat and skin and ...       0.337089  0.275117   \n",
       "Mushrooms, shiitake, raw                                 0.326471  0.229412   \n",
       "...                                                           ...       ...   \n",
       "Beef, tripe, cooked, simmered                            0.413234  0.465511   \n",
       "Cattle (organs)                                          0.387572  0.329675   \n",
       "Lignocellulosic sugar                                    0.000000  0.000000   \n",
       "Bread (whole-wheat)                                      0.144964  0.090647   \n",
       "Sugar (beets)                                            0.000000  0.000000   \n",
       "\n",
       "                                                    Threonine  Tryptophan  \\\n",
       "Food                                                                        \n",
       "Fish, tuna, fresh, skipjack, raw                     0.935922    0.238835   \n",
       "Cattle (meat, mechanically separated)                0.171739    0.060870   \n",
       "Beef, variety meats and by-products, liver, raw      0.643704    0.194815   \n",
       "Chicken, broilers or fryers, meat and skin and ...   0.356808    0.095305   \n",
       "Mushrooms, shiitake, raw                             0.394118    0.032353   \n",
       "...                                                       ...         ...   \n",
       "Beef, tripe, cooked, simmered                        0.470489    0.118245   \n",
       "Cattle (organs)                                      0.606136    0.173915   \n",
       "Lignocellulosic sugar                                0.000000    0.000000   \n",
       "Bread (whole-wheat)                                  0.089209    0.043885   \n",
       "Sugar (beets)                                        0.000000    0.000000   \n",
       "\n",
       "                                                      Valine  Omega-3 (ALA)  \\\n",
       "Food                                                                          \n",
       "Fish, tuna, fresh, skipjack, raw                    1.100000       0.000000   \n",
       "Cattle (meat, mechanically separated)               0.331522       0.061594   \n",
       "Beef, variety meats and by-products, liver, raw     0.933333       0.005185   \n",
       "Chicken, broilers or fryers, meat and skin and ...  0.419249       0.000000   \n",
       "Mushrooms, shiitake, raw                            0.426471       0.000000   \n",
       "...                                                      ...            ...   \n",
       "Beef, tripe, cooked, simmered                       0.000000       0.008511   \n",
       "Cattle (organs)                                     0.180805       0.012212   \n",
       "Lignocellulosic sugar                               0.000000       0.000000   \n",
       "Bread (whole-wheat)                                 0.134892       0.114029   \n",
       "Sugar (beets)                                       0.000000       0.000000   \n",
       "\n",
       "                                                    Omega-6 (LA)  \n",
       "Food                                                              \n",
       "Fish, tuna, fresh, skipjack, raw                        0.015534  \n",
       "Cattle (meat, mechanically separated)                   0.213768  \n",
       "Beef, variety meats and by-products, liver, raw         0.221481  \n",
       "Chicken, broilers or fryers, meat and skin and ...      1.328638  \n",
       "Mushrooms, shiitake, raw                                0.000000  \n",
       "...                                                          ...  \n",
       "Beef, tripe, cooked, simmered                           0.145745  \n",
       "Cattle (organs)                                         0.175925  \n",
       "Lignocellulosic sugar                                   0.000000  \n",
       "Bread (whole-wheat)                                     0.942446  \n",
       "Sugar (beets)                                           0.000000  \n",
       "\n",
       "[61 rows x 49 columns]"
      ]
     },
     "execution_count": 5,
     "metadata": {},
     "output_type": "execute_result"
    }
   ],
   "source": [
    "nut_calc"
   ]
  },
  {
   "cell_type": "code",
   "execution_count": 10,
   "metadata": {
    "scrolled": false
   },
   "outputs": [
    {
     "name": "stdout",
     "output_type": "stream",
     "text": [
      "I-BCS \n",
      "-------\n",
      " Protein                    101.823661\n",
      "Fat total                   84.600959\n",
      "Saturated fats              17.396798\n",
      "Trans fats                   0.228855\n",
      "Carbohydrates              240.178705\n",
      "Fiber                       28.635557\n",
      "Sugars                      24.375946\n",
      "Vitamin A                 1015.678639\n",
      "Vitamin E                10226.114819\n",
      "Vitamin D                    0.377435\n",
      "Vitamin C                   62.792522\n",
      "Thiamine (B1)                1.707000\n",
      "Riboflavin (B2)              2.474202\n",
      "Niacin (B3)                 39.997183\n",
      "Vitamin B6                   2.594176\n",
      "Vitamin B12                 10.728057\n",
      "Vitamin K                   94.312996\n",
      "Folate (B9)                388.354328\n",
      "Pantothenic Acid (B5)        7.295744\n",
      "Calcium                    907.923764\n",
      "Iron                        18.922269\n",
      "Magnesium                  629.412146\n",
      "Phosphorus                1534.027100\n",
      "Potassium                 5043.385233\n",
      "Sodium                     536.292449\n",
      "Zinc                        12.917813\n",
      "Copper                    5193.675941\n",
      "Manganese                    5.090634\n",
      "Selenium                   142.686048\n",
      "Iodine                     132.819467\n",
      "Chromium                     0.000000\n",
      "Molybdenum                   0.000000\n",
      "Histidine                    2.605013\n",
      "Isoleucine                   4.353067\n",
      "Leucine                      7.647100\n",
      "Lysine                       7.088573\n",
      "Methionine                   2.220253\n",
      "Cysteine                     1.357822\n",
      "Phenylalanine                4.489078\n",
      "Tyrosine                     3.431368\n",
      "Threonine                    4.028744\n",
      "Tryptophan                   1.303438\n",
      "Valine                       4.989402\n",
      "Omega-3 (ALA)                5.101419\n",
      "Omega-6 (LA)                17.580701\n",
      "dtype: float64\n",
      "AI ['Saturated fats', 'Trans fats', 'Carbohydrates', 'Fiber', 'Sugars', 'Vitamin A', 'Thiamine (B1)', 'Riboflavin (B2)', 'Vitamin B6', 'Vitamin B12', 'Folate (B9)', 'Pantothenic Acid (B5)', 'Iron', 'Magnesium', 'Phosphorus', 'Potassium', 'Zinc', 'Manganese', 'Selenium', 'Isoleucine', 'Leucine', 'Lysine', 'Methionine', 'Valine', 'Omega-6 (LA)'] \n",
      "\n",
      "MRAI ['Protein 129%', 'Vitamin E 68%', 'Vitamin C 76%', 'Niacin (B3) 114%', 'Vitamin K 90%', 'Calcium 91%', 'Sodium 27%', 'Copper 104%', 'Histidine 105%', 'Cysteine 137%', 'Phenylalanine 121%', 'Tyrosine 346%', 'Threonine 108%', 'Tryptophan 131%'] \n",
      "\n",
      "SRAI ['Fat total 121%', 'Vitamin D 3%', 'Iodine 89%', 'Omega-3 (ALA) 182%'] \n",
      "\n",
      "Danger ['Chromium 0%', 'Molybdenum 0%']\n"
     ]
    },
    {
     "data": {
      "application/vnd.plotly.v1+json": {
       "config": {
        "plotlyServerURL": "https://plot.ly"
       },
       "data": [
        {
         "line": {
          "color": "#00CC96"
         },
         "name": "% lower adequate intake",
         "r": [
          1,
          1,
          1,
          1,
          1,
          1,
          1,
          1,
          1,
          1
         ],
         "subplot": "polar",
         "theta": [
          "Protein",
          "Fat total",
          "Saturated fats",
          "Trans fats",
          "Omega-3 (ALA)",
          "Omega-6 (LA)",
          "Carbohydrates",
          "Fiber",
          "Sugars",
          "Protein"
         ],
         "type": "scatterpolar"
        },
        {
         "line": {
          "color": "#EF553B"
         },
         "name": "% upper adequate intake",
         "r": [
          1.2929988649650794,
          1.2085851267157144,
          0.745683604715388,
          0.0995022719,
          1.8219352363446426,
          0.9416551310824852,
          0.60044676206625,
          0.4090793843957143,
          0.4643037314354286,
          1.2929988649650794
         ],
         "subplot": "polar",
         "theta": [
          "Protein",
          "Fat total",
          "Saturated fats",
          "Trans fats",
          "Omega-3 (ALA)",
          "Omega-6 (LA)",
          "Carbohydrates",
          "Fiber",
          "Sugars",
          "Protein"
         ],
         "type": "scatterpolar"
        },
        {
         "line": {
          "color": "#00CC96"
         },
         "name": "% lower adequate intake",
         "r": [
          1,
          0.681740987962,
          0.025162334383333335,
          0.7611214734606061,
          1,
          1,
          1,
          1,
          1,
          0.8982190048305714,
          1,
          1,
          1
         ],
         "subplot": "polar2",
         "theta": [
          "Vitamin A",
          "Vitamin E",
          "Vitamin D",
          "Vitamin C",
          "Thiamine (B1)",
          "Riboflavin (B2)",
          "Niacin (B3)",
          "Vitamin B6",
          "Vitamin B12",
          "Vitamin K",
          "Folate (B9)",
          "Pantothenic Acid (B5)",
          "Vitamin A"
         ],
         "type": "scatterpolar"
        },
        {
         "line": {
          "color": "#EF553B"
         },
         "name": "% upper adequate intake",
         "r": [
          0.3385595462178,
          0.0340870493981,
          0.0015097400630000003,
          0.03139626078025,
          1.70699965868e-99,
          2.4742021956500005e-99,
          1.1427766452042856,
          0.10376704410059999,
          0.42912228757200005,
          9.431299550721e-98,
          0.38835432828050004,
          0.3647872084425,
          0.3385595462178
         ],
         "subplot": "polar2",
         "theta": [
          "Vitamin A",
          "Vitamin E",
          "Vitamin D",
          "Vitamin C",
          "Thiamine (B1)",
          "Riboflavin (B2)",
          "Niacin (B3)",
          "Vitamin B6",
          "Vitamin B12",
          "Vitamin K",
          "Folate (B9)",
          "Pantothenic Acid (B5)",
          "Vitamin A"
         ],
         "type": "scatterpolar"
        },
        {
         "line": {
          "color": "#00CC96"
         },
         "name": "% lower adequate intake",
         "r": [
          0.9079237639329999,
          1,
          1,
          1,
          1,
          0.26814622466,
          1,
          1,
          1,
          1,
          0.8854631144253333,
          0.9079237639329999
         ],
         "subplot": "polar3",
         "theta": [
          "Calcium",
          "Iron",
          "Magnesium",
          "Phosphorus",
          "Potassium",
          "Sodium",
          "Zinc",
          "Copper",
          "Manganese",
          "Selenium",
          "Iodine",
          "Calcium"
         ],
         "type": "scatterpolar"
        },
        {
         "line": {
          "color": "#EF553B"
         },
         "name": "% upper adequate intake",
         "r": [
          0.3631695055732,
          0.42049487755788884,
          6.29412146396e-97,
          0.38350677506375,
          0.7204836046628572,
          0.23317063013913042,
          0.516712525166,
          1.038735188294,
          0.4627849395964091,
          0.47562016026266674,
          0.22136577860633333,
          0.3631695055732
         ],
         "subplot": "polar3",
         "theta": [
          "Calcium",
          "Iron",
          "Magnesium",
          "Phosphorus",
          "Potassium",
          "Sodium",
          "Zinc",
          "Copper",
          "Manganese",
          "Selenium",
          "Iodine",
          "Calcium"
         ],
         "type": "scatterpolar"
        },
        {
         "line": {
          "color": "#00CC96"
         },
         "name": "% lower adequate intake",
         "r": [
          1,
          1,
          1,
          1,
          1,
          1,
          1,
          1,
          1,
          1,
          1,
          1
         ],
         "subplot": "polar4",
         "theta": [
          "Histidine",
          "Isoleucine",
          "Leucine",
          "Lysine",
          "Methionine",
          "Cysteine",
          "Phenylalanine",
          "Tyrosine",
          "Threonine",
          "Tryptophan",
          "Valine",
          "Histidine"
         ],
         "type": "scatterpolar"
        },
        {
         "line": {
          "color": "#EF553B"
         },
         "name": "% upper adequate intake",
         "r": [
          1.050408431358871,
          0.8776345459354838,
          0.7906431133478081,
          0.9527651503192204,
          0.8952631971995967,
          1.3687724834778225,
          1.2067412793951613,
          3.4590404985231857,
          1.0829957998104838,
          1.3139497462399192,
          0.773790705296216,
          1.050408431358871
         ],
         "subplot": "polar4",
         "theta": [
          "Histidine",
          "Isoleucine",
          "Leucine",
          "Lysine",
          "Methionine",
          "Cysteine",
          "Phenylalanine",
          "Tyrosine",
          "Threonine",
          "Tryptophan",
          "Valine",
          "Histidine"
         ],
         "type": "scatterpolar"
        }
       ],
       "layout": {
        "height": 800,
        "polar": {
         "angularaxis": {
          "direction": "clockwise",
          "rotation": 90
         },
         "domain": {
          "x": [
           0,
           0.45
          ],
          "y": [
           0.575,
           1
          ]
         },
         "radialaxis": {
          "range": [
           0,
           2
          ],
          "visible": true
         }
        },
        "polar2": {
         "angularaxis": {
          "direction": "clockwise",
          "rotation": 90
         },
         "domain": {
          "x": [
           0.55,
           1
          ],
          "y": [
           0.575,
           1
          ]
         },
         "radialaxis": {
          "range": [
           0,
           2
          ],
          "visible": true
         }
        },
        "polar3": {
         "angularaxis": {
          "direction": "clockwise",
          "rotation": 90
         },
         "domain": {
          "x": [
           0,
           0.45
          ],
          "y": [
           0,
           0.425
          ]
         },
         "radialaxis": {
          "range": [
           0,
           2
          ],
          "visible": true
         }
        },
        "polar4": {
         "angularaxis": {
          "direction": "clockwise",
          "rotation": 90
         },
         "domain": {
          "x": [
           0.55,
           1
          ],
          "y": [
           0,
           0.425
          ]
         },
         "radialaxis": {
          "range": [
           0,
           2
          ],
          "visible": true
         }
        },
        "showlegend": false,
        "template": {
         "data": {
          "bar": [
           {
            "error_x": {
             "color": "#2a3f5f"
            },
            "error_y": {
             "color": "#2a3f5f"
            },
            "marker": {
             "line": {
              "color": "#E5ECF6",
              "width": 0.5
             }
            },
            "type": "bar"
           }
          ],
          "barpolar": [
           {
            "marker": {
             "line": {
              "color": "#E5ECF6",
              "width": 0.5
             }
            },
            "type": "barpolar"
           }
          ],
          "carpet": [
           {
            "aaxis": {
             "endlinecolor": "#2a3f5f",
             "gridcolor": "white",
             "linecolor": "white",
             "minorgridcolor": "white",
             "startlinecolor": "#2a3f5f"
            },
            "baxis": {
             "endlinecolor": "#2a3f5f",
             "gridcolor": "white",
             "linecolor": "white",
             "minorgridcolor": "white",
             "startlinecolor": "#2a3f5f"
            },
            "type": "carpet"
           }
          ],
          "choropleth": [
           {
            "colorbar": {
             "outlinewidth": 0,
             "ticks": ""
            },
            "type": "choropleth"
           }
          ],
          "contour": [
           {
            "colorbar": {
             "outlinewidth": 0,
             "ticks": ""
            },
            "colorscale": [
             [
              0,
              "#0d0887"
             ],
             [
              0.1111111111111111,
              "#46039f"
             ],
             [
              0.2222222222222222,
              "#7201a8"
             ],
             [
              0.3333333333333333,
              "#9c179e"
             ],
             [
              0.4444444444444444,
              "#bd3786"
             ],
             [
              0.5555555555555556,
              "#d8576b"
             ],
             [
              0.6666666666666666,
              "#ed7953"
             ],
             [
              0.7777777777777778,
              "#fb9f3a"
             ],
             [
              0.8888888888888888,
              "#fdca26"
             ],
             [
              1,
              "#f0f921"
             ]
            ],
            "type": "contour"
           }
          ],
          "contourcarpet": [
           {
            "colorbar": {
             "outlinewidth": 0,
             "ticks": ""
            },
            "type": "contourcarpet"
           }
          ],
          "heatmap": [
           {
            "colorbar": {
             "outlinewidth": 0,
             "ticks": ""
            },
            "colorscale": [
             [
              0,
              "#0d0887"
             ],
             [
              0.1111111111111111,
              "#46039f"
             ],
             [
              0.2222222222222222,
              "#7201a8"
             ],
             [
              0.3333333333333333,
              "#9c179e"
             ],
             [
              0.4444444444444444,
              "#bd3786"
             ],
             [
              0.5555555555555556,
              "#d8576b"
             ],
             [
              0.6666666666666666,
              "#ed7953"
             ],
             [
              0.7777777777777778,
              "#fb9f3a"
             ],
             [
              0.8888888888888888,
              "#fdca26"
             ],
             [
              1,
              "#f0f921"
             ]
            ],
            "type": "heatmap"
           }
          ],
          "heatmapgl": [
           {
            "colorbar": {
             "outlinewidth": 0,
             "ticks": ""
            },
            "colorscale": [
             [
              0,
              "#0d0887"
             ],
             [
              0.1111111111111111,
              "#46039f"
             ],
             [
              0.2222222222222222,
              "#7201a8"
             ],
             [
              0.3333333333333333,
              "#9c179e"
             ],
             [
              0.4444444444444444,
              "#bd3786"
             ],
             [
              0.5555555555555556,
              "#d8576b"
             ],
             [
              0.6666666666666666,
              "#ed7953"
             ],
             [
              0.7777777777777778,
              "#fb9f3a"
             ],
             [
              0.8888888888888888,
              "#fdca26"
             ],
             [
              1,
              "#f0f921"
             ]
            ],
            "type": "heatmapgl"
           }
          ],
          "histogram": [
           {
            "marker": {
             "colorbar": {
              "outlinewidth": 0,
              "ticks": ""
             }
            },
            "type": "histogram"
           }
          ],
          "histogram2d": [
           {
            "colorbar": {
             "outlinewidth": 0,
             "ticks": ""
            },
            "colorscale": [
             [
              0,
              "#0d0887"
             ],
             [
              0.1111111111111111,
              "#46039f"
             ],
             [
              0.2222222222222222,
              "#7201a8"
             ],
             [
              0.3333333333333333,
              "#9c179e"
             ],
             [
              0.4444444444444444,
              "#bd3786"
             ],
             [
              0.5555555555555556,
              "#d8576b"
             ],
             [
              0.6666666666666666,
              "#ed7953"
             ],
             [
              0.7777777777777778,
              "#fb9f3a"
             ],
             [
              0.8888888888888888,
              "#fdca26"
             ],
             [
              1,
              "#f0f921"
             ]
            ],
            "type": "histogram2d"
           }
          ],
          "histogram2dcontour": [
           {
            "colorbar": {
             "outlinewidth": 0,
             "ticks": ""
            },
            "colorscale": [
             [
              0,
              "#0d0887"
             ],
             [
              0.1111111111111111,
              "#46039f"
             ],
             [
              0.2222222222222222,
              "#7201a8"
             ],
             [
              0.3333333333333333,
              "#9c179e"
             ],
             [
              0.4444444444444444,
              "#bd3786"
             ],
             [
              0.5555555555555556,
              "#d8576b"
             ],
             [
              0.6666666666666666,
              "#ed7953"
             ],
             [
              0.7777777777777778,
              "#fb9f3a"
             ],
             [
              0.8888888888888888,
              "#fdca26"
             ],
             [
              1,
              "#f0f921"
             ]
            ],
            "type": "histogram2dcontour"
           }
          ],
          "mesh3d": [
           {
            "colorbar": {
             "outlinewidth": 0,
             "ticks": ""
            },
            "type": "mesh3d"
           }
          ],
          "parcoords": [
           {
            "line": {
             "colorbar": {
              "outlinewidth": 0,
              "ticks": ""
             }
            },
            "type": "parcoords"
           }
          ],
          "pie": [
           {
            "automargin": true,
            "type": "pie"
           }
          ],
          "scatter": [
           {
            "marker": {
             "colorbar": {
              "outlinewidth": 0,
              "ticks": ""
             }
            },
            "type": "scatter"
           }
          ],
          "scatter3d": [
           {
            "line": {
             "colorbar": {
              "outlinewidth": 0,
              "ticks": ""
             }
            },
            "marker": {
             "colorbar": {
              "outlinewidth": 0,
              "ticks": ""
             }
            },
            "type": "scatter3d"
           }
          ],
          "scattercarpet": [
           {
            "marker": {
             "colorbar": {
              "outlinewidth": 0,
              "ticks": ""
             }
            },
            "type": "scattercarpet"
           }
          ],
          "scattergeo": [
           {
            "marker": {
             "colorbar": {
              "outlinewidth": 0,
              "ticks": ""
             }
            },
            "type": "scattergeo"
           }
          ],
          "scattergl": [
           {
            "marker": {
             "colorbar": {
              "outlinewidth": 0,
              "ticks": ""
             }
            },
            "type": "scattergl"
           }
          ],
          "scattermapbox": [
           {
            "marker": {
             "colorbar": {
              "outlinewidth": 0,
              "ticks": ""
             }
            },
            "type": "scattermapbox"
           }
          ],
          "scatterpolar": [
           {
            "marker": {
             "colorbar": {
              "outlinewidth": 0,
              "ticks": ""
             }
            },
            "type": "scatterpolar"
           }
          ],
          "scatterpolargl": [
           {
            "marker": {
             "colorbar": {
              "outlinewidth": 0,
              "ticks": ""
             }
            },
            "type": "scatterpolargl"
           }
          ],
          "scatterternary": [
           {
            "marker": {
             "colorbar": {
              "outlinewidth": 0,
              "ticks": ""
             }
            },
            "type": "scatterternary"
           }
          ],
          "surface": [
           {
            "colorbar": {
             "outlinewidth": 0,
             "ticks": ""
            },
            "colorscale": [
             [
              0,
              "#0d0887"
             ],
             [
              0.1111111111111111,
              "#46039f"
             ],
             [
              0.2222222222222222,
              "#7201a8"
             ],
             [
              0.3333333333333333,
              "#9c179e"
             ],
             [
              0.4444444444444444,
              "#bd3786"
             ],
             [
              0.5555555555555556,
              "#d8576b"
             ],
             [
              0.6666666666666666,
              "#ed7953"
             ],
             [
              0.7777777777777778,
              "#fb9f3a"
             ],
             [
              0.8888888888888888,
              "#fdca26"
             ],
             [
              1,
              "#f0f921"
             ]
            ],
            "type": "surface"
           }
          ],
          "table": [
           {
            "cells": {
             "fill": {
              "color": "#EBF0F8"
             },
             "line": {
              "color": "white"
             }
            },
            "header": {
             "fill": {
              "color": "#C8D4E3"
             },
             "line": {
              "color": "white"
             }
            },
            "type": "table"
           }
          ]
         },
         "layout": {
          "annotationdefaults": {
           "arrowcolor": "#2a3f5f",
           "arrowhead": 0,
           "arrowwidth": 1
          },
          "coloraxis": {
           "colorbar": {
            "outlinewidth": 0,
            "ticks": ""
           }
          },
          "colorscale": {
           "diverging": [
            [
             0,
             "#8e0152"
            ],
            [
             0.1,
             "#c51b7d"
            ],
            [
             0.2,
             "#de77ae"
            ],
            [
             0.3,
             "#f1b6da"
            ],
            [
             0.4,
             "#fde0ef"
            ],
            [
             0.5,
             "#f7f7f7"
            ],
            [
             0.6,
             "#e6f5d0"
            ],
            [
             0.7,
             "#b8e186"
            ],
            [
             0.8,
             "#7fbc41"
            ],
            [
             0.9,
             "#4d9221"
            ],
            [
             1,
             "#276419"
            ]
           ],
           "sequential": [
            [
             0,
             "#0d0887"
            ],
            [
             0.1111111111111111,
             "#46039f"
            ],
            [
             0.2222222222222222,
             "#7201a8"
            ],
            [
             0.3333333333333333,
             "#9c179e"
            ],
            [
             0.4444444444444444,
             "#bd3786"
            ],
            [
             0.5555555555555556,
             "#d8576b"
            ],
            [
             0.6666666666666666,
             "#ed7953"
            ],
            [
             0.7777777777777778,
             "#fb9f3a"
            ],
            [
             0.8888888888888888,
             "#fdca26"
            ],
            [
             1,
             "#f0f921"
            ]
           ],
           "sequentialminus": [
            [
             0,
             "#0d0887"
            ],
            [
             0.1111111111111111,
             "#46039f"
            ],
            [
             0.2222222222222222,
             "#7201a8"
            ],
            [
             0.3333333333333333,
             "#9c179e"
            ],
            [
             0.4444444444444444,
             "#bd3786"
            ],
            [
             0.5555555555555556,
             "#d8576b"
            ],
            [
             0.6666666666666666,
             "#ed7953"
            ],
            [
             0.7777777777777778,
             "#fb9f3a"
            ],
            [
             0.8888888888888888,
             "#fdca26"
            ],
            [
             1,
             "#f0f921"
            ]
           ]
          },
          "colorway": [
           "#636efa",
           "#EF553B",
           "#00cc96",
           "#ab63fa",
           "#FFA15A",
           "#19d3f3",
           "#FF6692",
           "#B6E880",
           "#FF97FF",
           "#FECB52"
          ],
          "font": {
           "color": "#2a3f5f"
          },
          "geo": {
           "bgcolor": "white",
           "lakecolor": "white",
           "landcolor": "#E5ECF6",
           "showlakes": true,
           "showland": true,
           "subunitcolor": "white"
          },
          "hoverlabel": {
           "align": "left"
          },
          "hovermode": "closest",
          "mapbox": {
           "style": "light"
          },
          "paper_bgcolor": "white",
          "plot_bgcolor": "#E5ECF6",
          "polar": {
           "angularaxis": {
            "gridcolor": "white",
            "linecolor": "white",
            "ticks": ""
           },
           "bgcolor": "#E5ECF6",
           "radialaxis": {
            "gridcolor": "white",
            "linecolor": "white",
            "ticks": ""
           }
          },
          "scene": {
           "xaxis": {
            "backgroundcolor": "#E5ECF6",
            "gridcolor": "white",
            "gridwidth": 2,
            "linecolor": "white",
            "showbackground": true,
            "ticks": "",
            "zerolinecolor": "white"
           },
           "yaxis": {
            "backgroundcolor": "#E5ECF6",
            "gridcolor": "white",
            "gridwidth": 2,
            "linecolor": "white",
            "showbackground": true,
            "ticks": "",
            "zerolinecolor": "white"
           },
           "zaxis": {
            "backgroundcolor": "#E5ECF6",
            "gridcolor": "white",
            "gridwidth": 2,
            "linecolor": "white",
            "showbackground": true,
            "ticks": "",
            "zerolinecolor": "white"
           }
          },
          "shapedefaults": {
           "line": {
            "color": "#2a3f5f"
           }
          },
          "ternary": {
           "aaxis": {
            "gridcolor": "white",
            "linecolor": "white",
            "ticks": ""
           },
           "baxis": {
            "gridcolor": "white",
            "linecolor": "white",
            "ticks": ""
           },
           "bgcolor": "#E5ECF6",
           "caxis": {
            "gridcolor": "white",
            "linecolor": "white",
            "ticks": ""
           }
          },
          "title": {
           "x": 0.05
          },
          "xaxis": {
           "automargin": true,
           "gridcolor": "white",
           "linecolor": "white",
           "ticks": "",
           "title": {
            "standoff": 15
           },
           "zerolinecolor": "white",
           "zerolinewidth": 2
          },
          "yaxis": {
           "automargin": true,
           "gridcolor": "white",
           "linecolor": "white",
           "ticks": "",
           "title": {
            "standoff": 15
           },
           "zerolinecolor": "white",
           "zerolinewidth": 2
          }
         }
        },
        "title": {
         "text": "Period I - optimistic scenario"
        },
        "width": 1050
       }
      },
      "text/html": [
       "<div>                            <div id=\"81c93eb2-fa30-4662-9bdf-f429813df3fa\" class=\"plotly-graph-div\" style=\"height:800px; width:1050px;\"></div>            <script type=\"text/javascript\">                require([\"plotly\"], function(Plotly) {                    window.PLOTLYENV=window.PLOTLYENV || {};                                    if (document.getElementById(\"81c93eb2-fa30-4662-9bdf-f429813df3fa\")) {                    Plotly.newPlot(                        \"81c93eb2-fa30-4662-9bdf-f429813df3fa\",                        [{\"line\": {\"color\": \"#00CC96\"}, \"name\": \"% lower adequate intake\", \"r\": [1.0, 1.0, 1.0, 1.0, 1.0, 1.0, 1.0, 1.0, 1.0, 1.0], \"subplot\": \"polar\", \"theta\": [\"Protein\", \"Fat total\", \"Saturated fats\", \"Trans fats\", \"Omega-3 (ALA)\", \"Omega-6 (LA)\", \"Carbohydrates\", \"Fiber\", \"Sugars\", \"Protein\"], \"type\": \"scatterpolar\"}, {\"line\": {\"color\": \"#EF553B\"}, \"name\": \"% upper adequate intake\", \"r\": [1.2929988649650794, 1.2085851267157144, 0.745683604715388, 0.0995022719, 1.8219352363446426, 0.9416551310824852, 0.60044676206625, 0.4090793843957143, 0.4643037314354286, 1.2929988649650794], \"subplot\": \"polar\", \"theta\": [\"Protein\", \"Fat total\", \"Saturated fats\", \"Trans fats\", \"Omega-3 (ALA)\", \"Omega-6 (LA)\", \"Carbohydrates\", \"Fiber\", \"Sugars\", \"Protein\"], \"type\": \"scatterpolar\"}, {\"line\": {\"color\": \"#00CC96\"}, \"name\": \"% lower adequate intake\", \"r\": [1.0, 0.681740987962, 0.025162334383333335, 0.7611214734606061, 1.0, 1.0, 1.0, 1.0, 1.0, 0.8982190048305714, 1.0, 1.0, 1.0], \"subplot\": \"polar2\", \"theta\": [\"Vitamin A\", \"Vitamin E\", \"Vitamin D\", \"Vitamin C\", \"Thiamine (B1)\", \"Riboflavin (B2)\", \"Niacin (B3)\", \"Vitamin B6\", \"Vitamin B12\", \"Vitamin K\", \"Folate (B9)\", \"Pantothenic Acid (B5)\", \"Vitamin A\"], \"type\": \"scatterpolar\"}, {\"line\": {\"color\": \"#EF553B\"}, \"name\": \"% upper adequate intake\", \"r\": [0.3385595462178, 0.0340870493981, 0.0015097400630000003, 0.03139626078025, 1.70699965868e-99, 2.4742021956500005e-99, 1.1427766452042856, 0.10376704410059999, 0.42912228757200005, 9.431299550721e-98, 0.38835432828050004, 0.3647872084425, 0.3385595462178], \"subplot\": \"polar2\", \"theta\": [\"Vitamin A\", \"Vitamin E\", \"Vitamin D\", \"Vitamin C\", \"Thiamine (B1)\", \"Riboflavin (B2)\", \"Niacin (B3)\", \"Vitamin B6\", \"Vitamin B12\", \"Vitamin K\", \"Folate (B9)\", \"Pantothenic Acid (B5)\", \"Vitamin A\"], \"type\": \"scatterpolar\"}, {\"line\": {\"color\": \"#00CC96\"}, \"name\": \"% lower adequate intake\", \"r\": [0.9079237639329999, 1.0, 1.0, 1.0, 1.0, 0.26814622466, 1.0, 1.0, 1.0, 1.0, 0.8854631144253333, 0.9079237639329999], \"subplot\": \"polar3\", \"theta\": [\"Calcium\", \"Iron\", \"Magnesium\", \"Phosphorus\", \"Potassium\", \"Sodium\", \"Zinc\", \"Copper\", \"Manganese\", \"Selenium\", \"Iodine\", \"Calcium\"], \"type\": \"scatterpolar\"}, {\"line\": {\"color\": \"#EF553B\"}, \"name\": \"% upper adequate intake\", \"r\": [0.3631695055732, 0.42049487755788884, 6.29412146396e-97, 0.38350677506375, 0.7204836046628572, 0.23317063013913042, 0.516712525166, 1.038735188294, 0.4627849395964091, 0.47562016026266674, 0.22136577860633333, 0.3631695055732], \"subplot\": \"polar3\", \"theta\": [\"Calcium\", \"Iron\", \"Magnesium\", \"Phosphorus\", \"Potassium\", \"Sodium\", \"Zinc\", \"Copper\", \"Manganese\", \"Selenium\", \"Iodine\", \"Calcium\"], \"type\": \"scatterpolar\"}, {\"line\": {\"color\": \"#00CC96\"}, \"name\": \"% lower adequate intake\", \"r\": [1.0, 1.0, 1.0, 1.0, 1.0, 1.0, 1.0, 1.0, 1.0, 1.0, 1.0, 1.0], \"subplot\": \"polar4\", \"theta\": [\"Histidine\", \"Isoleucine\", \"Leucine\", \"Lysine\", \"Methionine\", \"Cysteine\", \"Phenylalanine\", \"Tyrosine\", \"Threonine\", \"Tryptophan\", \"Valine\", \"Histidine\"], \"type\": \"scatterpolar\"}, {\"line\": {\"color\": \"#EF553B\"}, \"name\": \"% upper adequate intake\", \"r\": [1.050408431358871, 0.8776345459354838, 0.7906431133478081, 0.9527651503192204, 0.8952631971995967, 1.3687724834778225, 1.2067412793951613, 3.4590404985231857, 1.0829957998104838, 1.3139497462399192, 0.773790705296216, 1.050408431358871], \"subplot\": \"polar4\", \"theta\": [\"Histidine\", \"Isoleucine\", \"Leucine\", \"Lysine\", \"Methionine\", \"Cysteine\", \"Phenylalanine\", \"Tyrosine\", \"Threonine\", \"Tryptophan\", \"Valine\", \"Histidine\"], \"type\": \"scatterpolar\"}],                        {\"height\": 800, \"polar\": {\"angularaxis\": {\"direction\": \"clockwise\", \"rotation\": 90}, \"domain\": {\"x\": [0.0, 0.45], \"y\": [0.575, 1.0]}, \"radialaxis\": {\"range\": [0, 2], \"visible\": true}}, \"polar2\": {\"angularaxis\": {\"direction\": \"clockwise\", \"rotation\": 90}, \"domain\": {\"x\": [0.55, 1.0], \"y\": [0.575, 1.0]}, \"radialaxis\": {\"range\": [0, 2], \"visible\": true}}, \"polar3\": {\"angularaxis\": {\"direction\": \"clockwise\", \"rotation\": 90}, \"domain\": {\"x\": [0.0, 0.45], \"y\": [0.0, 0.425]}, \"radialaxis\": {\"range\": [0, 2], \"visible\": true}}, \"polar4\": {\"angularaxis\": {\"direction\": \"clockwise\", \"rotation\": 90}, \"domain\": {\"x\": [0.55, 1.0], \"y\": [0.0, 0.425]}, \"radialaxis\": {\"range\": [0, 2], \"visible\": true}}, \"showlegend\": false, \"template\": {\"data\": {\"bar\": [{\"error_x\": {\"color\": \"#2a3f5f\"}, \"error_y\": {\"color\": \"#2a3f5f\"}, \"marker\": {\"line\": {\"color\": \"#E5ECF6\", \"width\": 0.5}}, \"type\": \"bar\"}], \"barpolar\": [{\"marker\": {\"line\": {\"color\": \"#E5ECF6\", \"width\": 0.5}}, \"type\": \"barpolar\"}], \"carpet\": [{\"aaxis\": {\"endlinecolor\": \"#2a3f5f\", \"gridcolor\": \"white\", \"linecolor\": \"white\", \"minorgridcolor\": \"white\", \"startlinecolor\": \"#2a3f5f\"}, \"baxis\": {\"endlinecolor\": \"#2a3f5f\", \"gridcolor\": \"white\", \"linecolor\": \"white\", \"minorgridcolor\": \"white\", \"startlinecolor\": \"#2a3f5f\"}, \"type\": \"carpet\"}], \"choropleth\": [{\"colorbar\": {\"outlinewidth\": 0, \"ticks\": \"\"}, \"type\": \"choropleth\"}], \"contour\": [{\"colorbar\": {\"outlinewidth\": 0, \"ticks\": \"\"}, \"colorscale\": [[0.0, \"#0d0887\"], [0.1111111111111111, \"#46039f\"], [0.2222222222222222, \"#7201a8\"], [0.3333333333333333, \"#9c179e\"], [0.4444444444444444, \"#bd3786\"], [0.5555555555555556, \"#d8576b\"], [0.6666666666666666, \"#ed7953\"], [0.7777777777777778, \"#fb9f3a\"], [0.8888888888888888, \"#fdca26\"], [1.0, \"#f0f921\"]], \"type\": \"contour\"}], \"contourcarpet\": [{\"colorbar\": {\"outlinewidth\": 0, \"ticks\": \"\"}, \"type\": \"contourcarpet\"}], \"heatmap\": [{\"colorbar\": {\"outlinewidth\": 0, \"ticks\": \"\"}, \"colorscale\": [[0.0, \"#0d0887\"], [0.1111111111111111, \"#46039f\"], [0.2222222222222222, \"#7201a8\"], [0.3333333333333333, \"#9c179e\"], [0.4444444444444444, \"#bd3786\"], [0.5555555555555556, \"#d8576b\"], [0.6666666666666666, \"#ed7953\"], [0.7777777777777778, \"#fb9f3a\"], [0.8888888888888888, \"#fdca26\"], [1.0, \"#f0f921\"]], \"type\": \"heatmap\"}], \"heatmapgl\": [{\"colorbar\": {\"outlinewidth\": 0, \"ticks\": \"\"}, \"colorscale\": [[0.0, \"#0d0887\"], [0.1111111111111111, \"#46039f\"], [0.2222222222222222, \"#7201a8\"], [0.3333333333333333, \"#9c179e\"], [0.4444444444444444, \"#bd3786\"], [0.5555555555555556, \"#d8576b\"], [0.6666666666666666, \"#ed7953\"], [0.7777777777777778, \"#fb9f3a\"], [0.8888888888888888, \"#fdca26\"], [1.0, \"#f0f921\"]], \"type\": \"heatmapgl\"}], \"histogram\": [{\"marker\": {\"colorbar\": {\"outlinewidth\": 0, \"ticks\": \"\"}}, \"type\": \"histogram\"}], \"histogram2d\": [{\"colorbar\": {\"outlinewidth\": 0, \"ticks\": \"\"}, \"colorscale\": [[0.0, \"#0d0887\"], [0.1111111111111111, \"#46039f\"], [0.2222222222222222, \"#7201a8\"], [0.3333333333333333, \"#9c179e\"], [0.4444444444444444, \"#bd3786\"], [0.5555555555555556, \"#d8576b\"], [0.6666666666666666, \"#ed7953\"], [0.7777777777777778, \"#fb9f3a\"], [0.8888888888888888, \"#fdca26\"], [1.0, \"#f0f921\"]], \"type\": \"histogram2d\"}], \"histogram2dcontour\": [{\"colorbar\": {\"outlinewidth\": 0, \"ticks\": \"\"}, \"colorscale\": [[0.0, \"#0d0887\"], [0.1111111111111111, \"#46039f\"], [0.2222222222222222, \"#7201a8\"], [0.3333333333333333, \"#9c179e\"], [0.4444444444444444, \"#bd3786\"], [0.5555555555555556, \"#d8576b\"], [0.6666666666666666, \"#ed7953\"], [0.7777777777777778, \"#fb9f3a\"], [0.8888888888888888, \"#fdca26\"], [1.0, \"#f0f921\"]], \"type\": \"histogram2dcontour\"}], \"mesh3d\": [{\"colorbar\": {\"outlinewidth\": 0, \"ticks\": \"\"}, \"type\": \"mesh3d\"}], \"parcoords\": [{\"line\": {\"colorbar\": {\"outlinewidth\": 0, \"ticks\": \"\"}}, \"type\": \"parcoords\"}], \"pie\": [{\"automargin\": true, \"type\": \"pie\"}], \"scatter\": [{\"marker\": {\"colorbar\": {\"outlinewidth\": 0, \"ticks\": \"\"}}, \"type\": \"scatter\"}], \"scatter3d\": [{\"line\": {\"colorbar\": {\"outlinewidth\": 0, \"ticks\": \"\"}}, \"marker\": {\"colorbar\": {\"outlinewidth\": 0, \"ticks\": \"\"}}, \"type\": \"scatter3d\"}], \"scattercarpet\": [{\"marker\": {\"colorbar\": {\"outlinewidth\": 0, \"ticks\": \"\"}}, \"type\": \"scattercarpet\"}], \"scattergeo\": [{\"marker\": {\"colorbar\": {\"outlinewidth\": 0, \"ticks\": \"\"}}, \"type\": \"scattergeo\"}], \"scattergl\": [{\"marker\": {\"colorbar\": {\"outlinewidth\": 0, \"ticks\": \"\"}}, \"type\": \"scattergl\"}], \"scattermapbox\": [{\"marker\": {\"colorbar\": {\"outlinewidth\": 0, \"ticks\": \"\"}}, \"type\": \"scattermapbox\"}], \"scatterpolar\": [{\"marker\": {\"colorbar\": {\"outlinewidth\": 0, \"ticks\": \"\"}}, \"type\": \"scatterpolar\"}], \"scatterpolargl\": [{\"marker\": {\"colorbar\": {\"outlinewidth\": 0, \"ticks\": \"\"}}, \"type\": \"scatterpolargl\"}], \"scatterternary\": [{\"marker\": {\"colorbar\": {\"outlinewidth\": 0, \"ticks\": \"\"}}, \"type\": \"scatterternary\"}], \"surface\": [{\"colorbar\": {\"outlinewidth\": 0, \"ticks\": \"\"}, \"colorscale\": [[0.0, \"#0d0887\"], [0.1111111111111111, \"#46039f\"], [0.2222222222222222, \"#7201a8\"], [0.3333333333333333, \"#9c179e\"], [0.4444444444444444, \"#bd3786\"], [0.5555555555555556, \"#d8576b\"], [0.6666666666666666, \"#ed7953\"], [0.7777777777777778, \"#fb9f3a\"], [0.8888888888888888, \"#fdca26\"], [1.0, \"#f0f921\"]], \"type\": \"surface\"}], \"table\": [{\"cells\": {\"fill\": {\"color\": \"#EBF0F8\"}, \"line\": {\"color\": \"white\"}}, \"header\": {\"fill\": {\"color\": \"#C8D4E3\"}, \"line\": {\"color\": \"white\"}}, \"type\": \"table\"}]}, \"layout\": {\"annotationdefaults\": {\"arrowcolor\": \"#2a3f5f\", \"arrowhead\": 0, \"arrowwidth\": 1}, \"coloraxis\": {\"colorbar\": {\"outlinewidth\": 0, \"ticks\": \"\"}}, \"colorscale\": {\"diverging\": [[0, \"#8e0152\"], [0.1, \"#c51b7d\"], [0.2, \"#de77ae\"], [0.3, \"#f1b6da\"], [0.4, \"#fde0ef\"], [0.5, \"#f7f7f7\"], [0.6, \"#e6f5d0\"], [0.7, \"#b8e186\"], [0.8, \"#7fbc41\"], [0.9, \"#4d9221\"], [1, \"#276419\"]], \"sequential\": [[0.0, \"#0d0887\"], [0.1111111111111111, \"#46039f\"], [0.2222222222222222, \"#7201a8\"], [0.3333333333333333, \"#9c179e\"], [0.4444444444444444, \"#bd3786\"], [0.5555555555555556, \"#d8576b\"], [0.6666666666666666, \"#ed7953\"], [0.7777777777777778, \"#fb9f3a\"], [0.8888888888888888, \"#fdca26\"], [1.0, \"#f0f921\"]], \"sequentialminus\": [[0.0, \"#0d0887\"], [0.1111111111111111, \"#46039f\"], [0.2222222222222222, \"#7201a8\"], [0.3333333333333333, \"#9c179e\"], [0.4444444444444444, \"#bd3786\"], [0.5555555555555556, \"#d8576b\"], [0.6666666666666666, \"#ed7953\"], [0.7777777777777778, \"#fb9f3a\"], [0.8888888888888888, \"#fdca26\"], [1.0, \"#f0f921\"]]}, \"colorway\": [\"#636efa\", \"#EF553B\", \"#00cc96\", \"#ab63fa\", \"#FFA15A\", \"#19d3f3\", \"#FF6692\", \"#B6E880\", \"#FF97FF\", \"#FECB52\"], \"font\": {\"color\": \"#2a3f5f\"}, \"geo\": {\"bgcolor\": \"white\", \"lakecolor\": \"white\", \"landcolor\": \"#E5ECF6\", \"showlakes\": true, \"showland\": true, \"subunitcolor\": \"white\"}, \"hoverlabel\": {\"align\": \"left\"}, \"hovermode\": \"closest\", \"mapbox\": {\"style\": \"light\"}, \"paper_bgcolor\": \"white\", \"plot_bgcolor\": \"#E5ECF6\", \"polar\": {\"angularaxis\": {\"gridcolor\": \"white\", \"linecolor\": \"white\", \"ticks\": \"\"}, \"bgcolor\": \"#E5ECF6\", \"radialaxis\": {\"gridcolor\": \"white\", \"linecolor\": \"white\", \"ticks\": \"\"}}, \"scene\": {\"xaxis\": {\"backgroundcolor\": \"#E5ECF6\", \"gridcolor\": \"white\", \"gridwidth\": 2, \"linecolor\": \"white\", \"showbackground\": true, \"ticks\": \"\", \"zerolinecolor\": \"white\"}, \"yaxis\": {\"backgroundcolor\": \"#E5ECF6\", \"gridcolor\": \"white\", \"gridwidth\": 2, \"linecolor\": \"white\", \"showbackground\": true, \"ticks\": \"\", \"zerolinecolor\": \"white\"}, \"zaxis\": {\"backgroundcolor\": \"#E5ECF6\", \"gridcolor\": \"white\", \"gridwidth\": 2, \"linecolor\": \"white\", \"showbackground\": true, \"ticks\": \"\", \"zerolinecolor\": \"white\"}}, \"shapedefaults\": {\"line\": {\"color\": \"#2a3f5f\"}}, \"ternary\": {\"aaxis\": {\"gridcolor\": \"white\", \"linecolor\": \"white\", \"ticks\": \"\"}, \"baxis\": {\"gridcolor\": \"white\", \"linecolor\": \"white\", \"ticks\": \"\"}, \"bgcolor\": \"#E5ECF6\", \"caxis\": {\"gridcolor\": \"white\", \"linecolor\": \"white\", \"ticks\": \"\"}}, \"title\": {\"x\": 0.05}, \"xaxis\": {\"automargin\": true, \"gridcolor\": \"white\", \"linecolor\": \"white\", \"ticks\": \"\", \"title\": {\"standoff\": 15}, \"zerolinecolor\": \"white\", \"zerolinewidth\": 2}, \"yaxis\": {\"automargin\": true, \"gridcolor\": \"white\", \"linecolor\": \"white\", \"ticks\": \"\", \"title\": {\"standoff\": 15}, \"zerolinecolor\": \"white\", \"zerolinewidth\": 2}}}, \"title\": {\"text\": \"Period I - optimistic scenario\"}, \"width\": 1050},                        {\"responsive\": true}                    ).then(function(){\n",
       "                            \n",
       "var gd = document.getElementById('81c93eb2-fa30-4662-9bdf-f429813df3fa');\n",
       "var x = new MutationObserver(function (mutations, observer) {{\n",
       "        var display = window.getComputedStyle(gd).display;\n",
       "        if (!display || display === 'none') {{\n",
       "            console.log([gd, 'removed!']);\n",
       "            Plotly.purge(gd);\n",
       "            observer.disconnect();\n",
       "        }}\n",
       "}});\n",
       "\n",
       "// Listen for the removal of the full notebook cells\n",
       "var notebookContainer = gd.closest('#notebook-container');\n",
       "if (notebookContainer) {{\n",
       "    x.observe(notebookContainer, {childList: true});\n",
       "}}\n",
       "\n",
       "// Listen for the clearing of the current output cell\n",
       "var outputEl = gd.closest('.output');\n",
       "if (outputEl) {{\n",
       "    x.observe(outputEl, {childList: true});\n",
       "}}\n",
       "\n",
       "                        })                };                });            </script>        </div>"
      ]
     },
     "metadata": {},
     "output_type": "display_data"
    },
    {
     "name": "stdout",
     "output_type": "stream",
     "text": [
      "I-wo cereals \n",
      "-------\n",
      " Protein                   129.643678\n",
      "Fat total                  74.731360\n",
      "Saturated fats             35.047983\n",
      "Trans fats                  0.362319\n",
      "Carbohydrates             223.747765\n",
      "Fiber                      13.448276\n",
      "Sugars                     77.495572\n",
      "Vitamin A                4591.903964\n",
      "Vitamin E                1872.262373\n",
      "Vitamin D                   1.067503\n",
      "Vitamin C                 112.238470\n",
      "Thiamine (B1)               1.356086\n",
      "Riboflavin (B2)             3.648813\n",
      "Niacin (B3)                53.579521\n",
      "Vitamin B6                  3.739632\n",
      "Vitamin B12                46.402143\n",
      "Vitamin K                  19.463463\n",
      "Folate (B9)               250.742753\n",
      "Pantothenic Acid (B5)      11.313467\n",
      "Calcium                  1723.257039\n",
      "Iron                       28.207520\n",
      "Magnesium                 343.537945\n",
      "Phosphorus               2029.968204\n",
      "Potassium                4929.753109\n",
      "Sodium                    645.533369\n",
      "Zinc                       18.647468\n",
      "Copper                   8853.965786\n",
      "Manganese                   1.473874\n",
      "Selenium                  191.552346\n",
      "Iodine                    187.405139\n",
      "Chromium                    0.000000\n",
      "Molybdenum                  0.000000\n",
      "Histidine                   3.185597\n",
      "Isoleucine                  5.111468\n",
      "Leucine                     9.300651\n",
      "Lysine                     10.188504\n",
      "Methionine                  3.393108\n",
      "Cysteine                    1.409750\n",
      "Phenylalanine               4.939012\n",
      "Tyrosine                    3.992631\n",
      "Threonine                   5.133552\n",
      "Tryptophan                  1.554851\n",
      "Valine                      5.738367\n",
      "Omega-3 (ALA)               0.720591\n",
      "Omega-6 (LA)                2.424651\n",
      "dtype: float64\n",
      "AI ['Trans fats', 'Carbohydrates', 'Vitamin C', 'Thiamine (B1)', 'Riboflavin (B2)', 'Vitamin B6', 'Pantothenic Acid (B5)', 'Calcium', 'Iron', 'Phosphorus', 'Potassium', 'Zinc', 'Selenium', 'Iodine', 'Leucine', 'Valine'] \n",
      "\n",
      "MRAI ['Protein 165%', 'Fat total 107%', 'Sugars 148%', 'Vitamin A 153%', 'Niacin (B3) 153%', 'Vitamin B12 186%', 'Folate (B9) 76%', 'Magnesium 95%', 'Sodium 32%', 'Copper 177%', 'Histidine 128%', 'Isoleucine 103%', 'Lysine 137%', 'Methionine 137%', 'Cysteine 142%', 'Phenylalanine 133%', 'Tyrosine 402%', 'Threonine 138%', 'Tryptophan 157%'] \n",
      "\n",
      "SRAI ['Saturated fats 150%', 'Fiber 54%', 'Vitamin E 12%', 'Vitamin D 7%', 'Vitamin K 19%', 'Manganese 49%', 'Omega-3 (ALA) 36%', 'Omega-6 (LA) 17%'] \n",
      "\n",
      "Danger ['Chromium 0%', 'Molybdenum 0%']\n"
     ]
    },
    {
     "data": {
      "application/vnd.plotly.v1+json": {
       "config": {
        "plotlyServerURL": "https://plot.ly"
       },
       "data": [
        {
         "line": {
          "color": "#00CC96"
         },
         "name": "% lower adequate intake",
         "r": [
          1,
          1,
          1,
          1,
          0.36029560389000004,
          0.167217323887931,
          1,
          0.53793103442,
          1,
          1
         ],
         "subplot": "polar",
         "theta": [
          "Protein",
          "Fat total",
          "Saturated fats",
          "Trans fats",
          "Omega-3 (ALA)",
          "Omega-6 (LA)",
          "Carbohydrates",
          "Fiber",
          "Sugars",
          "Protein"
         ],
         "type": "scatterpolar"
        },
        {
         "line": {
          "color": "#EF553B"
         },
         "name": "% upper adequate intake",
         "r": [
          1.6462689278793652,
          1.0675908521292858,
          1.5022710259989283,
          0.15753004923913044,
          0.25735400277857146,
          0.12986883751339043,
          0.55936941145625,
          0.19211822657857144,
          1.4761061311238095,
          1.6462689278793652
         ],
         "subplot": "polar",
         "theta": [
          "Protein",
          "Fat total",
          "Saturated fats",
          "Trans fats",
          "Omega-3 (ALA)",
          "Omega-6 (LA)",
          "Carbohydrates",
          "Fiber",
          "Sugars",
          "Protein"
         ],
         "type": "scatterpolar"
        },
        {
         "line": {
          "color": "#00CC96"
         },
         "name": "% lower adequate intake",
         "r": [
          1,
          0.12481749156033335,
          0.07116686318333333,
          1,
          1,
          1,
          1,
          1,
          1,
          0.1853663140752381,
          0.759826525280303,
          1,
          1
         ],
         "subplot": "polar2",
         "theta": [
          "Vitamin A",
          "Vitamin E",
          "Vitamin D",
          "Vitamin C",
          "Thiamine (B1)",
          "Riboflavin (B2)",
          "Niacin (B3)",
          "Vitamin B6",
          "Vitamin B12",
          "Vitamin K",
          "Folate (B9)",
          "Pantothenic Acid (B5)",
          "Vitamin A"
         ],
         "type": "scatterpolar"
        },
        {
         "line": {
          "color": "#EF553B"
         },
         "name": "% upper adequate intake",
         "r": [
          1.5306346547916667,
          0.006240874578016668,
          0.004270011791,
          0.05611923490625,
          1.3560858922499999e-99,
          3.6488134113250004e-99,
          1.5308434579214285,
          0.14958529814799998,
          1.8560857214499997,
          1.94634629779e-98,
          0.2507427533425,
          0.5656733491799999,
          1.5306346547916667
         ],
         "subplot": "polar2",
         "theta": [
          "Vitamin A",
          "Vitamin E",
          "Vitamin D",
          "Vitamin C",
          "Thiamine (B1)",
          "Riboflavin (B2)",
          "Niacin (B3)",
          "Vitamin B6",
          "Vitamin B12",
          "Vitamin K",
          "Folate (B9)",
          "Pantothenic Acid (B5)",
          "Vitamin A"
         ],
         "type": "scatterpolar"
        },
        {
         "line": {
          "color": "#00CC96"
         },
         "name": "% lower adequate intake",
         "r": [
          1,
          1,
          0.9476908823586206,
          1,
          1,
          0.32276668439675,
          1,
          1,
          0.4912913226191667,
          1,
          1,
          1
         ],
         "subplot": "polar3",
         "theta": [
          "Calcium",
          "Iron",
          "Magnesium",
          "Phosphorus",
          "Potassium",
          "Sodium",
          "Zinc",
          "Copper",
          "Manganese",
          "Selenium",
          "Iodine",
          "Calcium"
         ],
         "type": "scatterpolar"
        },
        {
         "line": {
          "color": "#EF553B"
         },
         "name": "% upper adequate intake",
         "r": [
          0.6893028157662,
          0.6268337781961111,
          3.43537944855e-97,
          0.5074920511025,
          0.7042504440857142,
          0.2806666820841304,
          0.7458987316119999,
          1.7707931571999997,
          0.1339885425325,
          0.6385078190343334,
          0.3123418984783333,
          0.6893028157662
         ],
         "subplot": "polar3",
         "theta": [
          "Calcium",
          "Iron",
          "Magnesium",
          "Phosphorus",
          "Potassium",
          "Sodium",
          "Zinc",
          "Copper",
          "Manganese",
          "Selenium",
          "Iodine",
          "Calcium"
         ],
         "type": "scatterpolar"
        },
        {
         "line": {
          "color": "#00CC96"
         },
         "name": "% lower adequate intake",
         "r": [
          1,
          1,
          1,
          1,
          1,
          1,
          1,
          1,
          1,
          1,
          1,
          1
         ],
         "subplot": "polar4",
         "theta": [
          "Histidine",
          "Isoleucine",
          "Leucine",
          "Lysine",
          "Methionine",
          "Cysteine",
          "Phenylalanine",
          "Tyrosine",
          "Threonine",
          "Tryptophan",
          "Valine",
          "Histidine"
         ],
         "type": "scatterpolar"
        },
        {
         "line": {
          "color": "#EF553B"
         },
         "name": "% upper adequate intake",
         "r": [
          1.2845150409556452,
          1.0305378615342742,
          0.9616057266904466,
          1.369422532016129,
          1.368188718560484,
          1.4211188031250002,
          1.3276914248051077,
          4.024829831295363,
          1.3799870385107524,
          1.567389882278226,
          0.8899452590415632,
          1.2845150409556452
         ],
         "subplot": "polar4",
         "theta": [
          "Histidine",
          "Isoleucine",
          "Leucine",
          "Lysine",
          "Methionine",
          "Cysteine",
          "Phenylalanine",
          "Tyrosine",
          "Threonine",
          "Tryptophan",
          "Valine",
          "Histidine"
         ],
         "type": "scatterpolar"
        }
       ],
       "layout": {
        "height": 800,
        "polar": {
         "angularaxis": {
          "direction": "clockwise",
          "rotation": 90
         },
         "domain": {
          "x": [
           0,
           0.45
          ],
          "y": [
           0.575,
           1
          ]
         },
         "radialaxis": {
          "range": [
           0,
           2
          ],
          "visible": true
         }
        },
        "polar2": {
         "angularaxis": {
          "direction": "clockwise",
          "rotation": 90
         },
         "domain": {
          "x": [
           0.55,
           1
          ],
          "y": [
           0.575,
           1
          ]
         },
         "radialaxis": {
          "range": [
           0,
           2
          ],
          "visible": true
         }
        },
        "polar3": {
         "angularaxis": {
          "direction": "clockwise",
          "rotation": 90
         },
         "domain": {
          "x": [
           0,
           0.45
          ],
          "y": [
           0,
           0.425
          ]
         },
         "radialaxis": {
          "range": [
           0,
           2
          ],
          "visible": true
         }
        },
        "polar4": {
         "angularaxis": {
          "direction": "clockwise",
          "rotation": 90
         },
         "domain": {
          "x": [
           0.55,
           1
          ],
          "y": [
           0,
           0.425
          ]
         },
         "radialaxis": {
          "range": [
           0,
           2
          ],
          "visible": true
         }
        },
        "showlegend": false,
        "template": {
         "data": {
          "bar": [
           {
            "error_x": {
             "color": "#2a3f5f"
            },
            "error_y": {
             "color": "#2a3f5f"
            },
            "marker": {
             "line": {
              "color": "#E5ECF6",
              "width": 0.5
             }
            },
            "type": "bar"
           }
          ],
          "barpolar": [
           {
            "marker": {
             "line": {
              "color": "#E5ECF6",
              "width": 0.5
             }
            },
            "type": "barpolar"
           }
          ],
          "carpet": [
           {
            "aaxis": {
             "endlinecolor": "#2a3f5f",
             "gridcolor": "white",
             "linecolor": "white",
             "minorgridcolor": "white",
             "startlinecolor": "#2a3f5f"
            },
            "baxis": {
             "endlinecolor": "#2a3f5f",
             "gridcolor": "white",
             "linecolor": "white",
             "minorgridcolor": "white",
             "startlinecolor": "#2a3f5f"
            },
            "type": "carpet"
           }
          ],
          "choropleth": [
           {
            "colorbar": {
             "outlinewidth": 0,
             "ticks": ""
            },
            "type": "choropleth"
           }
          ],
          "contour": [
           {
            "colorbar": {
             "outlinewidth": 0,
             "ticks": ""
            },
            "colorscale": [
             [
              0,
              "#0d0887"
             ],
             [
              0.1111111111111111,
              "#46039f"
             ],
             [
              0.2222222222222222,
              "#7201a8"
             ],
             [
              0.3333333333333333,
              "#9c179e"
             ],
             [
              0.4444444444444444,
              "#bd3786"
             ],
             [
              0.5555555555555556,
              "#d8576b"
             ],
             [
              0.6666666666666666,
              "#ed7953"
             ],
             [
              0.7777777777777778,
              "#fb9f3a"
             ],
             [
              0.8888888888888888,
              "#fdca26"
             ],
             [
              1,
              "#f0f921"
             ]
            ],
            "type": "contour"
           }
          ],
          "contourcarpet": [
           {
            "colorbar": {
             "outlinewidth": 0,
             "ticks": ""
            },
            "type": "contourcarpet"
           }
          ],
          "heatmap": [
           {
            "colorbar": {
             "outlinewidth": 0,
             "ticks": ""
            },
            "colorscale": [
             [
              0,
              "#0d0887"
             ],
             [
              0.1111111111111111,
              "#46039f"
             ],
             [
              0.2222222222222222,
              "#7201a8"
             ],
             [
              0.3333333333333333,
              "#9c179e"
             ],
             [
              0.4444444444444444,
              "#bd3786"
             ],
             [
              0.5555555555555556,
              "#d8576b"
             ],
             [
              0.6666666666666666,
              "#ed7953"
             ],
             [
              0.7777777777777778,
              "#fb9f3a"
             ],
             [
              0.8888888888888888,
              "#fdca26"
             ],
             [
              1,
              "#f0f921"
             ]
            ],
            "type": "heatmap"
           }
          ],
          "heatmapgl": [
           {
            "colorbar": {
             "outlinewidth": 0,
             "ticks": ""
            },
            "colorscale": [
             [
              0,
              "#0d0887"
             ],
             [
              0.1111111111111111,
              "#46039f"
             ],
             [
              0.2222222222222222,
              "#7201a8"
             ],
             [
              0.3333333333333333,
              "#9c179e"
             ],
             [
              0.4444444444444444,
              "#bd3786"
             ],
             [
              0.5555555555555556,
              "#d8576b"
             ],
             [
              0.6666666666666666,
              "#ed7953"
             ],
             [
              0.7777777777777778,
              "#fb9f3a"
             ],
             [
              0.8888888888888888,
              "#fdca26"
             ],
             [
              1,
              "#f0f921"
             ]
            ],
            "type": "heatmapgl"
           }
          ],
          "histogram": [
           {
            "marker": {
             "colorbar": {
              "outlinewidth": 0,
              "ticks": ""
             }
            },
            "type": "histogram"
           }
          ],
          "histogram2d": [
           {
            "colorbar": {
             "outlinewidth": 0,
             "ticks": ""
            },
            "colorscale": [
             [
              0,
              "#0d0887"
             ],
             [
              0.1111111111111111,
              "#46039f"
             ],
             [
              0.2222222222222222,
              "#7201a8"
             ],
             [
              0.3333333333333333,
              "#9c179e"
             ],
             [
              0.4444444444444444,
              "#bd3786"
             ],
             [
              0.5555555555555556,
              "#d8576b"
             ],
             [
              0.6666666666666666,
              "#ed7953"
             ],
             [
              0.7777777777777778,
              "#fb9f3a"
             ],
             [
              0.8888888888888888,
              "#fdca26"
             ],
             [
              1,
              "#f0f921"
             ]
            ],
            "type": "histogram2d"
           }
          ],
          "histogram2dcontour": [
           {
            "colorbar": {
             "outlinewidth": 0,
             "ticks": ""
            },
            "colorscale": [
             [
              0,
              "#0d0887"
             ],
             [
              0.1111111111111111,
              "#46039f"
             ],
             [
              0.2222222222222222,
              "#7201a8"
             ],
             [
              0.3333333333333333,
              "#9c179e"
             ],
             [
              0.4444444444444444,
              "#bd3786"
             ],
             [
              0.5555555555555556,
              "#d8576b"
             ],
             [
              0.6666666666666666,
              "#ed7953"
             ],
             [
              0.7777777777777778,
              "#fb9f3a"
             ],
             [
              0.8888888888888888,
              "#fdca26"
             ],
             [
              1,
              "#f0f921"
             ]
            ],
            "type": "histogram2dcontour"
           }
          ],
          "mesh3d": [
           {
            "colorbar": {
             "outlinewidth": 0,
             "ticks": ""
            },
            "type": "mesh3d"
           }
          ],
          "parcoords": [
           {
            "line": {
             "colorbar": {
              "outlinewidth": 0,
              "ticks": ""
             }
            },
            "type": "parcoords"
           }
          ],
          "pie": [
           {
            "automargin": true,
            "type": "pie"
           }
          ],
          "scatter": [
           {
            "marker": {
             "colorbar": {
              "outlinewidth": 0,
              "ticks": ""
             }
            },
            "type": "scatter"
           }
          ],
          "scatter3d": [
           {
            "line": {
             "colorbar": {
              "outlinewidth": 0,
              "ticks": ""
             }
            },
            "marker": {
             "colorbar": {
              "outlinewidth": 0,
              "ticks": ""
             }
            },
            "type": "scatter3d"
           }
          ],
          "scattercarpet": [
           {
            "marker": {
             "colorbar": {
              "outlinewidth": 0,
              "ticks": ""
             }
            },
            "type": "scattercarpet"
           }
          ],
          "scattergeo": [
           {
            "marker": {
             "colorbar": {
              "outlinewidth": 0,
              "ticks": ""
             }
            },
            "type": "scattergeo"
           }
          ],
          "scattergl": [
           {
            "marker": {
             "colorbar": {
              "outlinewidth": 0,
              "ticks": ""
             }
            },
            "type": "scattergl"
           }
          ],
          "scattermapbox": [
           {
            "marker": {
             "colorbar": {
              "outlinewidth": 0,
              "ticks": ""
             }
            },
            "type": "scattermapbox"
           }
          ],
          "scatterpolar": [
           {
            "marker": {
             "colorbar": {
              "outlinewidth": 0,
              "ticks": ""
             }
            },
            "type": "scatterpolar"
           }
          ],
          "scatterpolargl": [
           {
            "marker": {
             "colorbar": {
              "outlinewidth": 0,
              "ticks": ""
             }
            },
            "type": "scatterpolargl"
           }
          ],
          "scatterternary": [
           {
            "marker": {
             "colorbar": {
              "outlinewidth": 0,
              "ticks": ""
             }
            },
            "type": "scatterternary"
           }
          ],
          "surface": [
           {
            "colorbar": {
             "outlinewidth": 0,
             "ticks": ""
            },
            "colorscale": [
             [
              0,
              "#0d0887"
             ],
             [
              0.1111111111111111,
              "#46039f"
             ],
             [
              0.2222222222222222,
              "#7201a8"
             ],
             [
              0.3333333333333333,
              "#9c179e"
             ],
             [
              0.4444444444444444,
              "#bd3786"
             ],
             [
              0.5555555555555556,
              "#d8576b"
             ],
             [
              0.6666666666666666,
              "#ed7953"
             ],
             [
              0.7777777777777778,
              "#fb9f3a"
             ],
             [
              0.8888888888888888,
              "#fdca26"
             ],
             [
              1,
              "#f0f921"
             ]
            ],
            "type": "surface"
           }
          ],
          "table": [
           {
            "cells": {
             "fill": {
              "color": "#EBF0F8"
             },
             "line": {
              "color": "white"
             }
            },
            "header": {
             "fill": {
              "color": "#C8D4E3"
             },
             "line": {
              "color": "white"
             }
            },
            "type": "table"
           }
          ]
         },
         "layout": {
          "annotationdefaults": {
           "arrowcolor": "#2a3f5f",
           "arrowhead": 0,
           "arrowwidth": 1
          },
          "coloraxis": {
           "colorbar": {
            "outlinewidth": 0,
            "ticks": ""
           }
          },
          "colorscale": {
           "diverging": [
            [
             0,
             "#8e0152"
            ],
            [
             0.1,
             "#c51b7d"
            ],
            [
             0.2,
             "#de77ae"
            ],
            [
             0.3,
             "#f1b6da"
            ],
            [
             0.4,
             "#fde0ef"
            ],
            [
             0.5,
             "#f7f7f7"
            ],
            [
             0.6,
             "#e6f5d0"
            ],
            [
             0.7,
             "#b8e186"
            ],
            [
             0.8,
             "#7fbc41"
            ],
            [
             0.9,
             "#4d9221"
            ],
            [
             1,
             "#276419"
            ]
           ],
           "sequential": [
            [
             0,
             "#0d0887"
            ],
            [
             0.1111111111111111,
             "#46039f"
            ],
            [
             0.2222222222222222,
             "#7201a8"
            ],
            [
             0.3333333333333333,
             "#9c179e"
            ],
            [
             0.4444444444444444,
             "#bd3786"
            ],
            [
             0.5555555555555556,
             "#d8576b"
            ],
            [
             0.6666666666666666,
             "#ed7953"
            ],
            [
             0.7777777777777778,
             "#fb9f3a"
            ],
            [
             0.8888888888888888,
             "#fdca26"
            ],
            [
             1,
             "#f0f921"
            ]
           ],
           "sequentialminus": [
            [
             0,
             "#0d0887"
            ],
            [
             0.1111111111111111,
             "#46039f"
            ],
            [
             0.2222222222222222,
             "#7201a8"
            ],
            [
             0.3333333333333333,
             "#9c179e"
            ],
            [
             0.4444444444444444,
             "#bd3786"
            ],
            [
             0.5555555555555556,
             "#d8576b"
            ],
            [
             0.6666666666666666,
             "#ed7953"
            ],
            [
             0.7777777777777778,
             "#fb9f3a"
            ],
            [
             0.8888888888888888,
             "#fdca26"
            ],
            [
             1,
             "#f0f921"
            ]
           ]
          },
          "colorway": [
           "#636efa",
           "#EF553B",
           "#00cc96",
           "#ab63fa",
           "#FFA15A",
           "#19d3f3",
           "#FF6692",
           "#B6E880",
           "#FF97FF",
           "#FECB52"
          ],
          "font": {
           "color": "#2a3f5f"
          },
          "geo": {
           "bgcolor": "white",
           "lakecolor": "white",
           "landcolor": "#E5ECF6",
           "showlakes": true,
           "showland": true,
           "subunitcolor": "white"
          },
          "hoverlabel": {
           "align": "left"
          },
          "hovermode": "closest",
          "mapbox": {
           "style": "light"
          },
          "paper_bgcolor": "white",
          "plot_bgcolor": "#E5ECF6",
          "polar": {
           "angularaxis": {
            "gridcolor": "white",
            "linecolor": "white",
            "ticks": ""
           },
           "bgcolor": "#E5ECF6",
           "radialaxis": {
            "gridcolor": "white",
            "linecolor": "white",
            "ticks": ""
           }
          },
          "scene": {
           "xaxis": {
            "backgroundcolor": "#E5ECF6",
            "gridcolor": "white",
            "gridwidth": 2,
            "linecolor": "white",
            "showbackground": true,
            "ticks": "",
            "zerolinecolor": "white"
           },
           "yaxis": {
            "backgroundcolor": "#E5ECF6",
            "gridcolor": "white",
            "gridwidth": 2,
            "linecolor": "white",
            "showbackground": true,
            "ticks": "",
            "zerolinecolor": "white"
           },
           "zaxis": {
            "backgroundcolor": "#E5ECF6",
            "gridcolor": "white",
            "gridwidth": 2,
            "linecolor": "white",
            "showbackground": true,
            "ticks": "",
            "zerolinecolor": "white"
           }
          },
          "shapedefaults": {
           "line": {
            "color": "#2a3f5f"
           }
          },
          "ternary": {
           "aaxis": {
            "gridcolor": "white",
            "linecolor": "white",
            "ticks": ""
           },
           "baxis": {
            "gridcolor": "white",
            "linecolor": "white",
            "ticks": ""
           },
           "bgcolor": "#E5ECF6",
           "caxis": {
            "gridcolor": "white",
            "linecolor": "white",
            "ticks": ""
           }
          },
          "title": {
           "x": 0.05
          },
          "xaxis": {
           "automargin": true,
           "gridcolor": "white",
           "linecolor": "white",
           "ticks": "",
           "title": {
            "standoff": 15
           },
           "zerolinecolor": "white",
           "zerolinewidth": 2
          },
          "yaxis": {
           "automargin": true,
           "gridcolor": "white",
           "linecolor": "white",
           "ticks": "",
           "title": {
            "standoff": 15
           },
           "zerolinecolor": "white",
           "zerolinewidth": 2
          }
         }
        },
        "title": {
         "text": "Period I - without cereals"
        },
        "width": 1050
       }
      },
      "text/html": [
       "<div>                            <div id=\"5537fe25-e098-4a1f-ad46-17d96b9aa07e\" class=\"plotly-graph-div\" style=\"height:800px; width:1050px;\"></div>            <script type=\"text/javascript\">                require([\"plotly\"], function(Plotly) {                    window.PLOTLYENV=window.PLOTLYENV || {};                                    if (document.getElementById(\"5537fe25-e098-4a1f-ad46-17d96b9aa07e\")) {                    Plotly.newPlot(                        \"5537fe25-e098-4a1f-ad46-17d96b9aa07e\",                        [{\"line\": {\"color\": \"#00CC96\"}, \"name\": \"% lower adequate intake\", \"r\": [1.0, 1.0, 1.0, 1.0, 0.36029560389000004, 0.167217323887931, 1.0, 0.53793103442, 1.0, 1.0], \"subplot\": \"polar\", \"theta\": [\"Protein\", \"Fat total\", \"Saturated fats\", \"Trans fats\", \"Omega-3 (ALA)\", \"Omega-6 (LA)\", \"Carbohydrates\", \"Fiber\", \"Sugars\", \"Protein\"], \"type\": \"scatterpolar\"}, {\"line\": {\"color\": \"#EF553B\"}, \"name\": \"% upper adequate intake\", \"r\": [1.6462689278793652, 1.0675908521292858, 1.5022710259989283, 0.15753004923913044, 0.25735400277857146, 0.12986883751339043, 0.55936941145625, 0.19211822657857144, 1.4761061311238095, 1.6462689278793652], \"subplot\": \"polar\", \"theta\": [\"Protein\", \"Fat total\", \"Saturated fats\", \"Trans fats\", \"Omega-3 (ALA)\", \"Omega-6 (LA)\", \"Carbohydrates\", \"Fiber\", \"Sugars\", \"Protein\"], \"type\": \"scatterpolar\"}, {\"line\": {\"color\": \"#00CC96\"}, \"name\": \"% lower adequate intake\", \"r\": [1.0, 0.12481749156033335, 0.07116686318333333, 1.0, 1.0, 1.0, 1.0, 1.0, 1.0, 0.1853663140752381, 0.759826525280303, 1.0, 1.0], \"subplot\": \"polar2\", \"theta\": [\"Vitamin A\", \"Vitamin E\", \"Vitamin D\", \"Vitamin C\", \"Thiamine (B1)\", \"Riboflavin (B2)\", \"Niacin (B3)\", \"Vitamin B6\", \"Vitamin B12\", \"Vitamin K\", \"Folate (B9)\", \"Pantothenic Acid (B5)\", \"Vitamin A\"], \"type\": \"scatterpolar\"}, {\"line\": {\"color\": \"#EF553B\"}, \"name\": \"% upper adequate intake\", \"r\": [1.5306346547916667, 0.006240874578016668, 0.004270011791, 0.05611923490625, 1.3560858922499999e-99, 3.6488134113250004e-99, 1.5308434579214285, 0.14958529814799998, 1.8560857214499997, 1.94634629779e-98, 0.2507427533425, 0.5656733491799999, 1.5306346547916667], \"subplot\": \"polar2\", \"theta\": [\"Vitamin A\", \"Vitamin E\", \"Vitamin D\", \"Vitamin C\", \"Thiamine (B1)\", \"Riboflavin (B2)\", \"Niacin (B3)\", \"Vitamin B6\", \"Vitamin B12\", \"Vitamin K\", \"Folate (B9)\", \"Pantothenic Acid (B5)\", \"Vitamin A\"], \"type\": \"scatterpolar\"}, {\"line\": {\"color\": \"#00CC96\"}, \"name\": \"% lower adequate intake\", \"r\": [1.0, 1.0, 0.9476908823586206, 1.0, 1.0, 0.32276668439675, 1.0, 1.0, 0.4912913226191667, 1.0, 1.0, 1.0], \"subplot\": \"polar3\", \"theta\": [\"Calcium\", \"Iron\", \"Magnesium\", \"Phosphorus\", \"Potassium\", \"Sodium\", \"Zinc\", \"Copper\", \"Manganese\", \"Selenium\", \"Iodine\", \"Calcium\"], \"type\": \"scatterpolar\"}, {\"line\": {\"color\": \"#EF553B\"}, \"name\": \"% upper adequate intake\", \"r\": [0.6893028157662, 0.6268337781961111, 3.43537944855e-97, 0.5074920511025, 0.7042504440857142, 0.2806666820841304, 0.7458987316119999, 1.7707931571999997, 0.1339885425325, 0.6385078190343334, 0.3123418984783333, 0.6893028157662], \"subplot\": \"polar3\", \"theta\": [\"Calcium\", \"Iron\", \"Magnesium\", \"Phosphorus\", \"Potassium\", \"Sodium\", \"Zinc\", \"Copper\", \"Manganese\", \"Selenium\", \"Iodine\", \"Calcium\"], \"type\": \"scatterpolar\"}, {\"line\": {\"color\": \"#00CC96\"}, \"name\": \"% lower adequate intake\", \"r\": [1.0, 1.0, 1.0, 1.0, 1.0, 1.0, 1.0, 1.0, 1.0, 1.0, 1.0, 1.0], \"subplot\": \"polar4\", \"theta\": [\"Histidine\", \"Isoleucine\", \"Leucine\", \"Lysine\", \"Methionine\", \"Cysteine\", \"Phenylalanine\", \"Tyrosine\", \"Threonine\", \"Tryptophan\", \"Valine\", \"Histidine\"], \"type\": \"scatterpolar\"}, {\"line\": {\"color\": \"#EF553B\"}, \"name\": \"% upper adequate intake\", \"r\": [1.2845150409556452, 1.0305378615342742, 0.9616057266904466, 1.369422532016129, 1.368188718560484, 1.4211188031250002, 1.3276914248051077, 4.024829831295363, 1.3799870385107524, 1.567389882278226, 0.8899452590415632, 1.2845150409556452], \"subplot\": \"polar4\", \"theta\": [\"Histidine\", \"Isoleucine\", \"Leucine\", \"Lysine\", \"Methionine\", \"Cysteine\", \"Phenylalanine\", \"Tyrosine\", \"Threonine\", \"Tryptophan\", \"Valine\", \"Histidine\"], \"type\": \"scatterpolar\"}],                        {\"height\": 800, \"polar\": {\"angularaxis\": {\"direction\": \"clockwise\", \"rotation\": 90}, \"domain\": {\"x\": [0.0, 0.45], \"y\": [0.575, 1.0]}, \"radialaxis\": {\"range\": [0, 2], \"visible\": true}}, \"polar2\": {\"angularaxis\": {\"direction\": \"clockwise\", \"rotation\": 90}, \"domain\": {\"x\": [0.55, 1.0], \"y\": [0.575, 1.0]}, \"radialaxis\": {\"range\": [0, 2], \"visible\": true}}, \"polar3\": {\"angularaxis\": {\"direction\": \"clockwise\", \"rotation\": 90}, \"domain\": {\"x\": [0.0, 0.45], \"y\": [0.0, 0.425]}, \"radialaxis\": {\"range\": [0, 2], \"visible\": true}}, \"polar4\": {\"angularaxis\": {\"direction\": \"clockwise\", \"rotation\": 90}, \"domain\": {\"x\": [0.55, 1.0], \"y\": [0.0, 0.425]}, \"radialaxis\": {\"range\": [0, 2], \"visible\": true}}, \"showlegend\": false, \"template\": {\"data\": {\"bar\": [{\"error_x\": {\"color\": \"#2a3f5f\"}, \"error_y\": {\"color\": \"#2a3f5f\"}, \"marker\": {\"line\": {\"color\": \"#E5ECF6\", \"width\": 0.5}}, \"type\": \"bar\"}], \"barpolar\": [{\"marker\": {\"line\": {\"color\": \"#E5ECF6\", \"width\": 0.5}}, \"type\": \"barpolar\"}], \"carpet\": [{\"aaxis\": {\"endlinecolor\": \"#2a3f5f\", \"gridcolor\": \"white\", \"linecolor\": \"white\", \"minorgridcolor\": \"white\", \"startlinecolor\": \"#2a3f5f\"}, \"baxis\": {\"endlinecolor\": \"#2a3f5f\", \"gridcolor\": \"white\", \"linecolor\": \"white\", \"minorgridcolor\": \"white\", \"startlinecolor\": \"#2a3f5f\"}, \"type\": \"carpet\"}], \"choropleth\": [{\"colorbar\": {\"outlinewidth\": 0, \"ticks\": \"\"}, \"type\": \"choropleth\"}], \"contour\": [{\"colorbar\": {\"outlinewidth\": 0, \"ticks\": \"\"}, \"colorscale\": [[0.0, \"#0d0887\"], [0.1111111111111111, \"#46039f\"], [0.2222222222222222, \"#7201a8\"], [0.3333333333333333, \"#9c179e\"], [0.4444444444444444, \"#bd3786\"], [0.5555555555555556, \"#d8576b\"], [0.6666666666666666, \"#ed7953\"], [0.7777777777777778, \"#fb9f3a\"], [0.8888888888888888, \"#fdca26\"], [1.0, \"#f0f921\"]], \"type\": \"contour\"}], \"contourcarpet\": [{\"colorbar\": {\"outlinewidth\": 0, \"ticks\": \"\"}, \"type\": \"contourcarpet\"}], \"heatmap\": [{\"colorbar\": {\"outlinewidth\": 0, \"ticks\": \"\"}, \"colorscale\": [[0.0, \"#0d0887\"], [0.1111111111111111, \"#46039f\"], [0.2222222222222222, \"#7201a8\"], [0.3333333333333333, \"#9c179e\"], [0.4444444444444444, \"#bd3786\"], [0.5555555555555556, \"#d8576b\"], [0.6666666666666666, \"#ed7953\"], [0.7777777777777778, \"#fb9f3a\"], [0.8888888888888888, \"#fdca26\"], [1.0, \"#f0f921\"]], \"type\": \"heatmap\"}], \"heatmapgl\": [{\"colorbar\": {\"outlinewidth\": 0, \"ticks\": \"\"}, \"colorscale\": [[0.0, \"#0d0887\"], [0.1111111111111111, \"#46039f\"], [0.2222222222222222, \"#7201a8\"], [0.3333333333333333, \"#9c179e\"], [0.4444444444444444, \"#bd3786\"], [0.5555555555555556, \"#d8576b\"], [0.6666666666666666, \"#ed7953\"], [0.7777777777777778, \"#fb9f3a\"], [0.8888888888888888, \"#fdca26\"], [1.0, \"#f0f921\"]], \"type\": \"heatmapgl\"}], \"histogram\": [{\"marker\": {\"colorbar\": {\"outlinewidth\": 0, \"ticks\": \"\"}}, \"type\": \"histogram\"}], \"histogram2d\": [{\"colorbar\": {\"outlinewidth\": 0, \"ticks\": \"\"}, \"colorscale\": [[0.0, \"#0d0887\"], [0.1111111111111111, \"#46039f\"], [0.2222222222222222, \"#7201a8\"], [0.3333333333333333, \"#9c179e\"], [0.4444444444444444, \"#bd3786\"], [0.5555555555555556, \"#d8576b\"], [0.6666666666666666, \"#ed7953\"], [0.7777777777777778, \"#fb9f3a\"], [0.8888888888888888, \"#fdca26\"], [1.0, \"#f0f921\"]], \"type\": \"histogram2d\"}], \"histogram2dcontour\": [{\"colorbar\": {\"outlinewidth\": 0, \"ticks\": \"\"}, \"colorscale\": [[0.0, \"#0d0887\"], [0.1111111111111111, \"#46039f\"], [0.2222222222222222, \"#7201a8\"], [0.3333333333333333, \"#9c179e\"], [0.4444444444444444, \"#bd3786\"], [0.5555555555555556, \"#d8576b\"], [0.6666666666666666, \"#ed7953\"], [0.7777777777777778, \"#fb9f3a\"], [0.8888888888888888, \"#fdca26\"], [1.0, \"#f0f921\"]], \"type\": \"histogram2dcontour\"}], \"mesh3d\": [{\"colorbar\": {\"outlinewidth\": 0, \"ticks\": \"\"}, \"type\": \"mesh3d\"}], \"parcoords\": [{\"line\": {\"colorbar\": {\"outlinewidth\": 0, \"ticks\": \"\"}}, \"type\": \"parcoords\"}], \"pie\": [{\"automargin\": true, \"type\": \"pie\"}], \"scatter\": [{\"marker\": {\"colorbar\": {\"outlinewidth\": 0, \"ticks\": \"\"}}, \"type\": \"scatter\"}], \"scatter3d\": [{\"line\": {\"colorbar\": {\"outlinewidth\": 0, \"ticks\": \"\"}}, \"marker\": {\"colorbar\": {\"outlinewidth\": 0, \"ticks\": \"\"}}, \"type\": \"scatter3d\"}], \"scattercarpet\": [{\"marker\": {\"colorbar\": {\"outlinewidth\": 0, \"ticks\": \"\"}}, \"type\": \"scattercarpet\"}], \"scattergeo\": [{\"marker\": {\"colorbar\": {\"outlinewidth\": 0, \"ticks\": \"\"}}, \"type\": \"scattergeo\"}], \"scattergl\": [{\"marker\": {\"colorbar\": {\"outlinewidth\": 0, \"ticks\": \"\"}}, \"type\": \"scattergl\"}], \"scattermapbox\": [{\"marker\": {\"colorbar\": {\"outlinewidth\": 0, \"ticks\": \"\"}}, \"type\": \"scattermapbox\"}], \"scatterpolar\": [{\"marker\": {\"colorbar\": {\"outlinewidth\": 0, \"ticks\": \"\"}}, \"type\": \"scatterpolar\"}], \"scatterpolargl\": [{\"marker\": {\"colorbar\": {\"outlinewidth\": 0, \"ticks\": \"\"}}, \"type\": \"scatterpolargl\"}], \"scatterternary\": [{\"marker\": {\"colorbar\": {\"outlinewidth\": 0, \"ticks\": \"\"}}, \"type\": \"scatterternary\"}], \"surface\": [{\"colorbar\": {\"outlinewidth\": 0, \"ticks\": \"\"}, \"colorscale\": [[0.0, \"#0d0887\"], [0.1111111111111111, \"#46039f\"], [0.2222222222222222, \"#7201a8\"], [0.3333333333333333, \"#9c179e\"], [0.4444444444444444, \"#bd3786\"], [0.5555555555555556, \"#d8576b\"], [0.6666666666666666, \"#ed7953\"], [0.7777777777777778, \"#fb9f3a\"], [0.8888888888888888, \"#fdca26\"], [1.0, \"#f0f921\"]], \"type\": \"surface\"}], \"table\": [{\"cells\": {\"fill\": {\"color\": \"#EBF0F8\"}, \"line\": {\"color\": \"white\"}}, \"header\": {\"fill\": {\"color\": \"#C8D4E3\"}, \"line\": {\"color\": \"white\"}}, \"type\": \"table\"}]}, \"layout\": {\"annotationdefaults\": {\"arrowcolor\": \"#2a3f5f\", \"arrowhead\": 0, \"arrowwidth\": 1}, \"coloraxis\": {\"colorbar\": {\"outlinewidth\": 0, \"ticks\": \"\"}}, \"colorscale\": {\"diverging\": [[0, \"#8e0152\"], [0.1, \"#c51b7d\"], [0.2, \"#de77ae\"], [0.3, \"#f1b6da\"], [0.4, \"#fde0ef\"], [0.5, \"#f7f7f7\"], [0.6, \"#e6f5d0\"], [0.7, \"#b8e186\"], [0.8, \"#7fbc41\"], [0.9, \"#4d9221\"], [1, \"#276419\"]], \"sequential\": [[0.0, \"#0d0887\"], [0.1111111111111111, \"#46039f\"], [0.2222222222222222, \"#7201a8\"], [0.3333333333333333, \"#9c179e\"], [0.4444444444444444, \"#bd3786\"], [0.5555555555555556, \"#d8576b\"], [0.6666666666666666, \"#ed7953\"], [0.7777777777777778, \"#fb9f3a\"], [0.8888888888888888, \"#fdca26\"], [1.0, \"#f0f921\"]], \"sequentialminus\": [[0.0, \"#0d0887\"], [0.1111111111111111, \"#46039f\"], [0.2222222222222222, \"#7201a8\"], [0.3333333333333333, \"#9c179e\"], [0.4444444444444444, \"#bd3786\"], [0.5555555555555556, \"#d8576b\"], [0.6666666666666666, \"#ed7953\"], [0.7777777777777778, \"#fb9f3a\"], [0.8888888888888888, \"#fdca26\"], [1.0, \"#f0f921\"]]}, \"colorway\": [\"#636efa\", \"#EF553B\", \"#00cc96\", \"#ab63fa\", \"#FFA15A\", \"#19d3f3\", \"#FF6692\", \"#B6E880\", \"#FF97FF\", \"#FECB52\"], \"font\": {\"color\": \"#2a3f5f\"}, \"geo\": {\"bgcolor\": \"white\", \"lakecolor\": \"white\", \"landcolor\": \"#E5ECF6\", \"showlakes\": true, \"showland\": true, \"subunitcolor\": \"white\"}, \"hoverlabel\": {\"align\": \"left\"}, \"hovermode\": \"closest\", \"mapbox\": {\"style\": \"light\"}, \"paper_bgcolor\": \"white\", \"plot_bgcolor\": \"#E5ECF6\", \"polar\": {\"angularaxis\": {\"gridcolor\": \"white\", \"linecolor\": \"white\", \"ticks\": \"\"}, \"bgcolor\": \"#E5ECF6\", \"radialaxis\": {\"gridcolor\": \"white\", \"linecolor\": \"white\", \"ticks\": \"\"}}, \"scene\": {\"xaxis\": {\"backgroundcolor\": \"#E5ECF6\", \"gridcolor\": \"white\", \"gridwidth\": 2, \"linecolor\": \"white\", \"showbackground\": true, \"ticks\": \"\", \"zerolinecolor\": \"white\"}, \"yaxis\": {\"backgroundcolor\": \"#E5ECF6\", \"gridcolor\": \"white\", \"gridwidth\": 2, \"linecolor\": \"white\", \"showbackground\": true, \"ticks\": \"\", \"zerolinecolor\": \"white\"}, \"zaxis\": {\"backgroundcolor\": \"#E5ECF6\", \"gridcolor\": \"white\", \"gridwidth\": 2, \"linecolor\": \"white\", \"showbackground\": true, \"ticks\": \"\", \"zerolinecolor\": \"white\"}}, \"shapedefaults\": {\"line\": {\"color\": \"#2a3f5f\"}}, \"ternary\": {\"aaxis\": {\"gridcolor\": \"white\", \"linecolor\": \"white\", \"ticks\": \"\"}, \"baxis\": {\"gridcolor\": \"white\", \"linecolor\": \"white\", \"ticks\": \"\"}, \"bgcolor\": \"#E5ECF6\", \"caxis\": {\"gridcolor\": \"white\", \"linecolor\": \"white\", \"ticks\": \"\"}}, \"title\": {\"x\": 0.05}, \"xaxis\": {\"automargin\": true, \"gridcolor\": \"white\", \"linecolor\": \"white\", \"ticks\": \"\", \"title\": {\"standoff\": 15}, \"zerolinecolor\": \"white\", \"zerolinewidth\": 2}, \"yaxis\": {\"automargin\": true, \"gridcolor\": \"white\", \"linecolor\": \"white\", \"ticks\": \"\", \"title\": {\"standoff\": 15}, \"zerolinecolor\": \"white\", \"zerolinewidth\": 2}}}, \"title\": {\"text\": \"Period I - without cereals\"}, \"width\": 1050},                        {\"responsive\": true}                    ).then(function(){\n",
       "                            \n",
       "var gd = document.getElementById('5537fe25-e098-4a1f-ad46-17d96b9aa07e');\n",
       "var x = new MutationObserver(function (mutations, observer) {{\n",
       "        var display = window.getComputedStyle(gd).display;\n",
       "        if (!display || display === 'none') {{\n",
       "            console.log([gd, 'removed!']);\n",
       "            Plotly.purge(gd);\n",
       "            observer.disconnect();\n",
       "        }}\n",
       "}});\n",
       "\n",
       "// Listen for the removal of the full notebook cells\n",
       "var notebookContainer = gd.closest('#notebook-container');\n",
       "if (notebookContainer) {{\n",
       "    x.observe(notebookContainer, {childList: true});\n",
       "}}\n",
       "\n",
       "// Listen for the clearing of the current output cell\n",
       "var outputEl = gd.closest('.output');\n",
       "if (outputEl) {{\n",
       "    x.observe(outputEl, {childList: true});\n",
       "}}\n",
       "\n",
       "                        })                };                });            </script>        </div>"
      ]
     },
     "metadata": {},
     "output_type": "display_data"
    },
    {
     "name": "stdout",
     "output_type": "stream",
     "text": [
      "II-BCS \n",
      "-------\n",
      " Protein                    121.298443\n",
      "Fat total                   61.128901\n",
      "Saturated fats              13.321143\n",
      "Trans fats                   0.234294\n",
      "Carbohydrates              274.501484\n",
      "Fiber                       43.532230\n",
      "Sugars                      20.844864\n",
      "Vitamin A                 2463.957086\n",
      "Vitamin E                11467.457307\n",
      "Vitamin D                    2.222368\n",
      "Vitamin C                  175.680903\n",
      "Thiamine (B1)                1.941472\n",
      "Riboflavin (B2)              4.112879\n",
      "Niacin (B3)                 51.625479\n",
      "Vitamin B6                   3.629676\n",
      "Vitamin B12                 19.182565\n",
      "Vitamin K                   83.366136\n",
      "Folate (B9)                696.661953\n",
      "Pantothenic Acid (B5)        9.829285\n",
      "Calcium                   1035.492850\n",
      "Iron                        59.550778\n",
      "Magnesium                  967.327782\n",
      "Phosphorus                1680.656737\n",
      "Potassium                 7797.159693\n",
      "Sodium                    3075.811314\n",
      "Zinc                        15.187772\n",
      "Copper                    7138.439624\n",
      "Manganese                    8.681542\n",
      "Selenium                   135.988800\n",
      "Iodine                     529.510434\n",
      "Chromium                     0.000000\n",
      "Molybdenum                   0.000000\n",
      "Histidine                    2.933904\n",
      "Isoleucine                   5.084572\n",
      "Leucine                      8.852309\n",
      "Lysine                       8.400491\n",
      "Methionine                   2.713173\n",
      "Cysteine                     1.553249\n",
      "Phenylalanine                5.155958\n",
      "Tyrosine                     4.016174\n",
      "Threonine                    4.884077\n",
      "Tryptophan                   1.455490\n",
      "Valine                       5.793931\n",
      "Omega-3 (ALA)                3.217103\n",
      "Omega-6 (LA)                12.153318\n",
      "dtype: float64\n",
      "AI ['Fat total', 'Saturated fats', 'Trans fats', 'Carbohydrates', 'Fiber', 'Sugars', 'Vitamin A', 'Vitamin C', 'Thiamine (B1)', 'Riboflavin (B2)', 'Vitamin B6', 'Vitamin B12', 'Folate (B9)', 'Pantothenic Acid (B5)', 'Calcium', 'Magnesium', 'Phosphorus', 'Zinc', 'Manganese', 'Selenium', 'Iodine', 'Leucine', 'Valine'] \n",
      "\n",
      "MRAI ['Protein 154%', 'Vitamin E 76%', 'Niacin (B3) 148%', 'Vitamin K 79%', 'Iron 132%', 'Potassium 111%', 'Sodium 134%', 'Copper 143%', 'Histidine 118%', 'Isoleucine 103%', 'Lysine 113%', 'Methionine 109%', 'Cysteine 157%', 'Phenylalanine 139%', 'Tyrosine 405%', 'Threonine 131%', 'Tryptophan 147%', 'Omega-3 (ALA) 115%', 'Omega-6 (LA) 84%'] \n",
      "\n",
      "SRAI ['Vitamin D 15%'] \n",
      "\n",
      "Danger ['Chromium 0%', 'Molybdenum 0%']\n"
     ]
    },
    {
     "data": {
      "application/vnd.plotly.v1+json": {
       "config": {
        "plotlyServerURL": "https://plot.ly"
       },
       "data": [
        {
         "line": {
          "color": "#00CC96"
         },
         "name": "% lower adequate intake",
         "r": [
          1,
          1,
          1,
          1,
          1,
          0.8381598863993105,
          1,
          1,
          1,
          1
         ],
         "subplot": "polar",
         "theta": [
          "Protein",
          "Fat total",
          "Saturated fats",
          "Trans fats",
          "Omega-3 (ALA)",
          "Omega-6 (LA)",
          "Carbohydrates",
          "Fiber",
          "Sugars",
          "Protein"
         ],
         "type": "scatterpolar"
        },
        {
         "line": {
          "color": "#EF553B"
         },
         "name": "% upper adequate intake",
         "r": [
          1.5402976871111114,
          0.873270008767143,
          0.5709877136555936,
          0.1018670265826087,
          1.1489655304048214,
          0.6509543841880022,
          0.6862537105250002,
          0.621888994425,
          0.3970450282411429,
          1.5402976871111114
         ],
         "subplot": "polar",
         "theta": [
          "Protein",
          "Fat total",
          "Saturated fats",
          "Trans fats",
          "Omega-3 (ALA)",
          "Omega-6 (LA)",
          "Carbohydrates",
          "Fiber",
          "Sugars",
          "Protein"
         ],
         "type": "scatterpolar"
        },
        {
         "line": {
          "color": "#00CC96"
         },
         "name": "% lower adequate intake",
         "r": [
          1,
          0.7644971537903333,
          0.14815786497333333,
          1,
          1,
          1,
          1,
          1,
          1,
          0.7939631956408572,
          1,
          1,
          1
         ],
         "subplot": "polar2",
         "theta": [
          "Vitamin A",
          "Vitamin E",
          "Vitamin D",
          "Vitamin C",
          "Thiamine (B1)",
          "Riboflavin (B2)",
          "Niacin (B3)",
          "Vitamin B6",
          "Vitamin B12",
          "Vitamin K",
          "Folate (B9)",
          "Pantothenic Acid (B5)",
          "Vitamin A"
         ],
         "type": "scatterpolar"
        },
        {
         "line": {
          "color": "#EF553B"
         },
         "name": "% upper adequate intake",
         "r": [
          0.8213190287058333,
          0.03822485768951667,
          0.0088894718984,
          0.08784045125550001,
          1.94147210268e-99,
          4.11287890729e-99,
          1.4750136748685716,
          0.14518703218399998,
          0.76730261335,
          8.336613554229e-98,
          0.6966619526765,
          0.4914642557475,
          0.8213190287058333
         ],
         "subplot": "polar2",
         "theta": [
          "Vitamin A",
          "Vitamin E",
          "Vitamin D",
          "Vitamin C",
          "Thiamine (B1)",
          "Riboflavin (B2)",
          "Niacin (B3)",
          "Vitamin B6",
          "Vitamin B12",
          "Vitamin K",
          "Folate (B9)",
          "Pantothenic Acid (B5)",
          "Vitamin A"
         ],
         "type": "scatterpolar"
        },
        {
         "line": {
          "color": "#00CC96"
         },
         "name": "% lower adequate intake",
         "r": [
          1,
          1,
          1,
          1,
          1,
          1,
          1,
          1,
          1,
          1,
          1,
          1
         ],
         "subplot": "polar3",
         "theta": [
          "Calcium",
          "Iron",
          "Magnesium",
          "Phosphorus",
          "Potassium",
          "Sodium",
          "Zinc",
          "Copper",
          "Manganese",
          "Selenium",
          "Iodine",
          "Calcium"
         ],
         "type": "scatterpolar"
        },
        {
         "line": {
          "color": "#EF553B"
         },
         "name": "% upper adequate intake",
         "r": [
          0.41419713999979996,
          1.323350631553778,
          9.67327782153e-97,
          0.4201641842500001,
          1.1138799560985715,
          1.3373092670191302,
          0.607510899122,
          1.427687924887,
          0.7892311303175,
          0.4532960006326667,
          0.8825173892599999,
          0.41419713999979996
         ],
         "subplot": "polar3",
         "theta": [
          "Calcium",
          "Iron",
          "Magnesium",
          "Phosphorus",
          "Potassium",
          "Sodium",
          "Zinc",
          "Copper",
          "Manganese",
          "Selenium",
          "Iodine",
          "Calcium"
         ],
         "type": "scatterpolar"
        },
        {
         "line": {
          "color": "#00CC96"
         },
         "name": "% lower adequate intake",
         "r": [
          1,
          1,
          1,
          1,
          1,
          1,
          1,
          1,
          1,
          1,
          1,
          1
         ],
         "subplot": "polar4",
         "theta": [
          "Histidine",
          "Isoleucine",
          "Leucine",
          "Lysine",
          "Methionine",
          "Cysteine",
          "Phenylalanine",
          "Tyrosine",
          "Threonine",
          "Tryptophan",
          "Valine",
          "Histidine"
         ],
         "type": "scatterpolar"
        },
        {
         "line": {
          "color": "#EF553B"
         },
         "name": "% upper adequate intake",
         "r": [
          1.1830257215241935,
          1.025115234,
          0.9152511754445825,
          1.129098295858871,
          1.0940214303084677,
          1.565775031320565,
          1.3860102724798387,
          4.048562501013105,
          1.312923916330645,
          1.4672283025403225,
          0.8985625567695409,
          1.1830257215241935
         ],
         "subplot": "polar4",
         "theta": [
          "Histidine",
          "Isoleucine",
          "Leucine",
          "Lysine",
          "Methionine",
          "Cysteine",
          "Phenylalanine",
          "Tyrosine",
          "Threonine",
          "Tryptophan",
          "Valine",
          "Histidine"
         ],
         "type": "scatterpolar"
        }
       ],
       "layout": {
        "height": 800,
        "polar": {
         "angularaxis": {
          "direction": "clockwise",
          "rotation": 90
         },
         "domain": {
          "x": [
           0,
           0.45
          ],
          "y": [
           0.575,
           1
          ]
         },
         "radialaxis": {
          "range": [
           0,
           2
          ],
          "visible": true
         }
        },
        "polar2": {
         "angularaxis": {
          "direction": "clockwise",
          "rotation": 90
         },
         "domain": {
          "x": [
           0.55,
           1
          ],
          "y": [
           0.575,
           1
          ]
         },
         "radialaxis": {
          "range": [
           0,
           2
          ],
          "visible": true
         }
        },
        "polar3": {
         "angularaxis": {
          "direction": "clockwise",
          "rotation": 90
         },
         "domain": {
          "x": [
           0,
           0.45
          ],
          "y": [
           0,
           0.425
          ]
         },
         "radialaxis": {
          "range": [
           0,
           2
          ],
          "visible": true
         }
        },
        "polar4": {
         "angularaxis": {
          "direction": "clockwise",
          "rotation": 90
         },
         "domain": {
          "x": [
           0.55,
           1
          ],
          "y": [
           0,
           0.425
          ]
         },
         "radialaxis": {
          "range": [
           0,
           2
          ],
          "visible": true
         }
        },
        "showlegend": false,
        "template": {
         "data": {
          "bar": [
           {
            "error_x": {
             "color": "#2a3f5f"
            },
            "error_y": {
             "color": "#2a3f5f"
            },
            "marker": {
             "line": {
              "color": "#E5ECF6",
              "width": 0.5
             }
            },
            "type": "bar"
           }
          ],
          "barpolar": [
           {
            "marker": {
             "line": {
              "color": "#E5ECF6",
              "width": 0.5
             }
            },
            "type": "barpolar"
           }
          ],
          "carpet": [
           {
            "aaxis": {
             "endlinecolor": "#2a3f5f",
             "gridcolor": "white",
             "linecolor": "white",
             "minorgridcolor": "white",
             "startlinecolor": "#2a3f5f"
            },
            "baxis": {
             "endlinecolor": "#2a3f5f",
             "gridcolor": "white",
             "linecolor": "white",
             "minorgridcolor": "white",
             "startlinecolor": "#2a3f5f"
            },
            "type": "carpet"
           }
          ],
          "choropleth": [
           {
            "colorbar": {
             "outlinewidth": 0,
             "ticks": ""
            },
            "type": "choropleth"
           }
          ],
          "contour": [
           {
            "colorbar": {
             "outlinewidth": 0,
             "ticks": ""
            },
            "colorscale": [
             [
              0,
              "#0d0887"
             ],
             [
              0.1111111111111111,
              "#46039f"
             ],
             [
              0.2222222222222222,
              "#7201a8"
             ],
             [
              0.3333333333333333,
              "#9c179e"
             ],
             [
              0.4444444444444444,
              "#bd3786"
             ],
             [
              0.5555555555555556,
              "#d8576b"
             ],
             [
              0.6666666666666666,
              "#ed7953"
             ],
             [
              0.7777777777777778,
              "#fb9f3a"
             ],
             [
              0.8888888888888888,
              "#fdca26"
             ],
             [
              1,
              "#f0f921"
             ]
            ],
            "type": "contour"
           }
          ],
          "contourcarpet": [
           {
            "colorbar": {
             "outlinewidth": 0,
             "ticks": ""
            },
            "type": "contourcarpet"
           }
          ],
          "heatmap": [
           {
            "colorbar": {
             "outlinewidth": 0,
             "ticks": ""
            },
            "colorscale": [
             [
              0,
              "#0d0887"
             ],
             [
              0.1111111111111111,
              "#46039f"
             ],
             [
              0.2222222222222222,
              "#7201a8"
             ],
             [
              0.3333333333333333,
              "#9c179e"
             ],
             [
              0.4444444444444444,
              "#bd3786"
             ],
             [
              0.5555555555555556,
              "#d8576b"
             ],
             [
              0.6666666666666666,
              "#ed7953"
             ],
             [
              0.7777777777777778,
              "#fb9f3a"
             ],
             [
              0.8888888888888888,
              "#fdca26"
             ],
             [
              1,
              "#f0f921"
             ]
            ],
            "type": "heatmap"
           }
          ],
          "heatmapgl": [
           {
            "colorbar": {
             "outlinewidth": 0,
             "ticks": ""
            },
            "colorscale": [
             [
              0,
              "#0d0887"
             ],
             [
              0.1111111111111111,
              "#46039f"
             ],
             [
              0.2222222222222222,
              "#7201a8"
             ],
             [
              0.3333333333333333,
              "#9c179e"
             ],
             [
              0.4444444444444444,
              "#bd3786"
             ],
             [
              0.5555555555555556,
              "#d8576b"
             ],
             [
              0.6666666666666666,
              "#ed7953"
             ],
             [
              0.7777777777777778,
              "#fb9f3a"
             ],
             [
              0.8888888888888888,
              "#fdca26"
             ],
             [
              1,
              "#f0f921"
             ]
            ],
            "type": "heatmapgl"
           }
          ],
          "histogram": [
           {
            "marker": {
             "colorbar": {
              "outlinewidth": 0,
              "ticks": ""
             }
            },
            "type": "histogram"
           }
          ],
          "histogram2d": [
           {
            "colorbar": {
             "outlinewidth": 0,
             "ticks": ""
            },
            "colorscale": [
             [
              0,
              "#0d0887"
             ],
             [
              0.1111111111111111,
              "#46039f"
             ],
             [
              0.2222222222222222,
              "#7201a8"
             ],
             [
              0.3333333333333333,
              "#9c179e"
             ],
             [
              0.4444444444444444,
              "#bd3786"
             ],
             [
              0.5555555555555556,
              "#d8576b"
             ],
             [
              0.6666666666666666,
              "#ed7953"
             ],
             [
              0.7777777777777778,
              "#fb9f3a"
             ],
             [
              0.8888888888888888,
              "#fdca26"
             ],
             [
              1,
              "#f0f921"
             ]
            ],
            "type": "histogram2d"
           }
          ],
          "histogram2dcontour": [
           {
            "colorbar": {
             "outlinewidth": 0,
             "ticks": ""
            },
            "colorscale": [
             [
              0,
              "#0d0887"
             ],
             [
              0.1111111111111111,
              "#46039f"
             ],
             [
              0.2222222222222222,
              "#7201a8"
             ],
             [
              0.3333333333333333,
              "#9c179e"
             ],
             [
              0.4444444444444444,
              "#bd3786"
             ],
             [
              0.5555555555555556,
              "#d8576b"
             ],
             [
              0.6666666666666666,
              "#ed7953"
             ],
             [
              0.7777777777777778,
              "#fb9f3a"
             ],
             [
              0.8888888888888888,
              "#fdca26"
             ],
             [
              1,
              "#f0f921"
             ]
            ],
            "type": "histogram2dcontour"
           }
          ],
          "mesh3d": [
           {
            "colorbar": {
             "outlinewidth": 0,
             "ticks": ""
            },
            "type": "mesh3d"
           }
          ],
          "parcoords": [
           {
            "line": {
             "colorbar": {
              "outlinewidth": 0,
              "ticks": ""
             }
            },
            "type": "parcoords"
           }
          ],
          "pie": [
           {
            "automargin": true,
            "type": "pie"
           }
          ],
          "scatter": [
           {
            "marker": {
             "colorbar": {
              "outlinewidth": 0,
              "ticks": ""
             }
            },
            "type": "scatter"
           }
          ],
          "scatter3d": [
           {
            "line": {
             "colorbar": {
              "outlinewidth": 0,
              "ticks": ""
             }
            },
            "marker": {
             "colorbar": {
              "outlinewidth": 0,
              "ticks": ""
             }
            },
            "type": "scatter3d"
           }
          ],
          "scattercarpet": [
           {
            "marker": {
             "colorbar": {
              "outlinewidth": 0,
              "ticks": ""
             }
            },
            "type": "scattercarpet"
           }
          ],
          "scattergeo": [
           {
            "marker": {
             "colorbar": {
              "outlinewidth": 0,
              "ticks": ""
             }
            },
            "type": "scattergeo"
           }
          ],
          "scattergl": [
           {
            "marker": {
             "colorbar": {
              "outlinewidth": 0,
              "ticks": ""
             }
            },
            "type": "scattergl"
           }
          ],
          "scattermapbox": [
           {
            "marker": {
             "colorbar": {
              "outlinewidth": 0,
              "ticks": ""
             }
            },
            "type": "scattermapbox"
           }
          ],
          "scatterpolar": [
           {
            "marker": {
             "colorbar": {
              "outlinewidth": 0,
              "ticks": ""
             }
            },
            "type": "scatterpolar"
           }
          ],
          "scatterpolargl": [
           {
            "marker": {
             "colorbar": {
              "outlinewidth": 0,
              "ticks": ""
             }
            },
            "type": "scatterpolargl"
           }
          ],
          "scatterternary": [
           {
            "marker": {
             "colorbar": {
              "outlinewidth": 0,
              "ticks": ""
             }
            },
            "type": "scatterternary"
           }
          ],
          "surface": [
           {
            "colorbar": {
             "outlinewidth": 0,
             "ticks": ""
            },
            "colorscale": [
             [
              0,
              "#0d0887"
             ],
             [
              0.1111111111111111,
              "#46039f"
             ],
             [
              0.2222222222222222,
              "#7201a8"
             ],
             [
              0.3333333333333333,
              "#9c179e"
             ],
             [
              0.4444444444444444,
              "#bd3786"
             ],
             [
              0.5555555555555556,
              "#d8576b"
             ],
             [
              0.6666666666666666,
              "#ed7953"
             ],
             [
              0.7777777777777778,
              "#fb9f3a"
             ],
             [
              0.8888888888888888,
              "#fdca26"
             ],
             [
              1,
              "#f0f921"
             ]
            ],
            "type": "surface"
           }
          ],
          "table": [
           {
            "cells": {
             "fill": {
              "color": "#EBF0F8"
             },
             "line": {
              "color": "white"
             }
            },
            "header": {
             "fill": {
              "color": "#C8D4E3"
             },
             "line": {
              "color": "white"
             }
            },
            "type": "table"
           }
          ]
         },
         "layout": {
          "annotationdefaults": {
           "arrowcolor": "#2a3f5f",
           "arrowhead": 0,
           "arrowwidth": 1
          },
          "coloraxis": {
           "colorbar": {
            "outlinewidth": 0,
            "ticks": ""
           }
          },
          "colorscale": {
           "diverging": [
            [
             0,
             "#8e0152"
            ],
            [
             0.1,
             "#c51b7d"
            ],
            [
             0.2,
             "#de77ae"
            ],
            [
             0.3,
             "#f1b6da"
            ],
            [
             0.4,
             "#fde0ef"
            ],
            [
             0.5,
             "#f7f7f7"
            ],
            [
             0.6,
             "#e6f5d0"
            ],
            [
             0.7,
             "#b8e186"
            ],
            [
             0.8,
             "#7fbc41"
            ],
            [
             0.9,
             "#4d9221"
            ],
            [
             1,
             "#276419"
            ]
           ],
           "sequential": [
            [
             0,
             "#0d0887"
            ],
            [
             0.1111111111111111,
             "#46039f"
            ],
            [
             0.2222222222222222,
             "#7201a8"
            ],
            [
             0.3333333333333333,
             "#9c179e"
            ],
            [
             0.4444444444444444,
             "#bd3786"
            ],
            [
             0.5555555555555556,
             "#d8576b"
            ],
            [
             0.6666666666666666,
             "#ed7953"
            ],
            [
             0.7777777777777778,
             "#fb9f3a"
            ],
            [
             0.8888888888888888,
             "#fdca26"
            ],
            [
             1,
             "#f0f921"
            ]
           ],
           "sequentialminus": [
            [
             0,
             "#0d0887"
            ],
            [
             0.1111111111111111,
             "#46039f"
            ],
            [
             0.2222222222222222,
             "#7201a8"
            ],
            [
             0.3333333333333333,
             "#9c179e"
            ],
            [
             0.4444444444444444,
             "#bd3786"
            ],
            [
             0.5555555555555556,
             "#d8576b"
            ],
            [
             0.6666666666666666,
             "#ed7953"
            ],
            [
             0.7777777777777778,
             "#fb9f3a"
            ],
            [
             0.8888888888888888,
             "#fdca26"
            ],
            [
             1,
             "#f0f921"
            ]
           ]
          },
          "colorway": [
           "#636efa",
           "#EF553B",
           "#00cc96",
           "#ab63fa",
           "#FFA15A",
           "#19d3f3",
           "#FF6692",
           "#B6E880",
           "#FF97FF",
           "#FECB52"
          ],
          "font": {
           "color": "#2a3f5f"
          },
          "geo": {
           "bgcolor": "white",
           "lakecolor": "white",
           "landcolor": "#E5ECF6",
           "showlakes": true,
           "showland": true,
           "subunitcolor": "white"
          },
          "hoverlabel": {
           "align": "left"
          },
          "hovermode": "closest",
          "mapbox": {
           "style": "light"
          },
          "paper_bgcolor": "white",
          "plot_bgcolor": "#E5ECF6",
          "polar": {
           "angularaxis": {
            "gridcolor": "white",
            "linecolor": "white",
            "ticks": ""
           },
           "bgcolor": "#E5ECF6",
           "radialaxis": {
            "gridcolor": "white",
            "linecolor": "white",
            "ticks": ""
           }
          },
          "scene": {
           "xaxis": {
            "backgroundcolor": "#E5ECF6",
            "gridcolor": "white",
            "gridwidth": 2,
            "linecolor": "white",
            "showbackground": true,
            "ticks": "",
            "zerolinecolor": "white"
           },
           "yaxis": {
            "backgroundcolor": "#E5ECF6",
            "gridcolor": "white",
            "gridwidth": 2,
            "linecolor": "white",
            "showbackground": true,
            "ticks": "",
            "zerolinecolor": "white"
           },
           "zaxis": {
            "backgroundcolor": "#E5ECF6",
            "gridcolor": "white",
            "gridwidth": 2,
            "linecolor": "white",
            "showbackground": true,
            "ticks": "",
            "zerolinecolor": "white"
           }
          },
          "shapedefaults": {
           "line": {
            "color": "#2a3f5f"
           }
          },
          "ternary": {
           "aaxis": {
            "gridcolor": "white",
            "linecolor": "white",
            "ticks": ""
           },
           "baxis": {
            "gridcolor": "white",
            "linecolor": "white",
            "ticks": ""
           },
           "bgcolor": "#E5ECF6",
           "caxis": {
            "gridcolor": "white",
            "linecolor": "white",
            "ticks": ""
           }
          },
          "title": {
           "x": 0.05
          },
          "xaxis": {
           "automargin": true,
           "gridcolor": "white",
           "linecolor": "white",
           "ticks": "",
           "title": {
            "standoff": 15
           },
           "zerolinecolor": "white",
           "zerolinewidth": 2
          },
          "yaxis": {
           "automargin": true,
           "gridcolor": "white",
           "linecolor": "white",
           "ticks": "",
           "title": {
            "standoff": 15
           },
           "zerolinecolor": "white",
           "zerolinewidth": 2
          }
         }
        },
        "title": {
         "text": "Period II - optimistic scenario"
        },
        "width": 1050
       }
      },
      "text/html": [
       "<div>                            <div id=\"1c062806-7891-4db0-bd9c-0a2545395f20\" class=\"plotly-graph-div\" style=\"height:800px; width:1050px;\"></div>            <script type=\"text/javascript\">                require([\"plotly\"], function(Plotly) {                    window.PLOTLYENV=window.PLOTLYENV || {};                                    if (document.getElementById(\"1c062806-7891-4db0-bd9c-0a2545395f20\")) {                    Plotly.newPlot(                        \"1c062806-7891-4db0-bd9c-0a2545395f20\",                        [{\"line\": {\"color\": \"#00CC96\"}, \"name\": \"% lower adequate intake\", \"r\": [1.0, 1.0, 1.0, 1.0, 1.0, 0.8381598863993105, 1.0, 1.0, 1.0, 1.0], \"subplot\": \"polar\", \"theta\": [\"Protein\", \"Fat total\", \"Saturated fats\", \"Trans fats\", \"Omega-3 (ALA)\", \"Omega-6 (LA)\", \"Carbohydrates\", \"Fiber\", \"Sugars\", \"Protein\"], \"type\": \"scatterpolar\"}, {\"line\": {\"color\": \"#EF553B\"}, \"name\": \"% upper adequate intake\", \"r\": [1.5402976871111114, 0.873270008767143, 0.5709877136555936, 0.1018670265826087, 1.1489655304048214, 0.6509543841880022, 0.6862537105250002, 0.621888994425, 0.3970450282411429, 1.5402976871111114], \"subplot\": \"polar\", \"theta\": [\"Protein\", \"Fat total\", \"Saturated fats\", \"Trans fats\", \"Omega-3 (ALA)\", \"Omega-6 (LA)\", \"Carbohydrates\", \"Fiber\", \"Sugars\", \"Protein\"], \"type\": \"scatterpolar\"}, {\"line\": {\"color\": \"#00CC96\"}, \"name\": \"% lower adequate intake\", \"r\": [1.0, 0.7644971537903333, 0.14815786497333333, 1.0, 1.0, 1.0, 1.0, 1.0, 1.0, 0.7939631956408572, 1.0, 1.0, 1.0], \"subplot\": \"polar2\", \"theta\": [\"Vitamin A\", \"Vitamin E\", \"Vitamin D\", \"Vitamin C\", \"Thiamine (B1)\", \"Riboflavin (B2)\", \"Niacin (B3)\", \"Vitamin B6\", \"Vitamin B12\", \"Vitamin K\", \"Folate (B9)\", \"Pantothenic Acid (B5)\", \"Vitamin A\"], \"type\": \"scatterpolar\"}, {\"line\": {\"color\": \"#EF553B\"}, \"name\": \"% upper adequate intake\", \"r\": [0.8213190287058333, 0.03822485768951667, 0.0088894718984, 0.08784045125550001, 1.94147210268e-99, 4.11287890729e-99, 1.4750136748685716, 0.14518703218399998, 0.76730261335, 8.336613554229e-98, 0.6966619526765, 0.4914642557475, 0.8213190287058333], \"subplot\": \"polar2\", \"theta\": [\"Vitamin A\", \"Vitamin E\", \"Vitamin D\", \"Vitamin C\", \"Thiamine (B1)\", \"Riboflavin (B2)\", \"Niacin (B3)\", \"Vitamin B6\", \"Vitamin B12\", \"Vitamin K\", \"Folate (B9)\", \"Pantothenic Acid (B5)\", \"Vitamin A\"], \"type\": \"scatterpolar\"}, {\"line\": {\"color\": \"#00CC96\"}, \"name\": \"% lower adequate intake\", \"r\": [1.0, 1.0, 1.0, 1.0, 1.0, 1.0, 1.0, 1.0, 1.0, 1.0, 1.0, 1.0], \"subplot\": \"polar3\", \"theta\": [\"Calcium\", \"Iron\", \"Magnesium\", \"Phosphorus\", \"Potassium\", \"Sodium\", \"Zinc\", \"Copper\", \"Manganese\", \"Selenium\", \"Iodine\", \"Calcium\"], \"type\": \"scatterpolar\"}, {\"line\": {\"color\": \"#EF553B\"}, \"name\": \"% upper adequate intake\", \"r\": [0.41419713999979996, 1.323350631553778, 9.67327782153e-97, 0.4201641842500001, 1.1138799560985715, 1.3373092670191302, 0.607510899122, 1.427687924887, 0.7892311303175, 0.4532960006326667, 0.8825173892599999, 0.41419713999979996], \"subplot\": \"polar3\", \"theta\": [\"Calcium\", \"Iron\", \"Magnesium\", \"Phosphorus\", \"Potassium\", \"Sodium\", \"Zinc\", \"Copper\", \"Manganese\", \"Selenium\", \"Iodine\", \"Calcium\"], \"type\": \"scatterpolar\"}, {\"line\": {\"color\": \"#00CC96\"}, \"name\": \"% lower adequate intake\", \"r\": [1.0, 1.0, 1.0, 1.0, 1.0, 1.0, 1.0, 1.0, 1.0, 1.0, 1.0, 1.0], \"subplot\": \"polar4\", \"theta\": [\"Histidine\", \"Isoleucine\", \"Leucine\", \"Lysine\", \"Methionine\", \"Cysteine\", \"Phenylalanine\", \"Tyrosine\", \"Threonine\", \"Tryptophan\", \"Valine\", \"Histidine\"], \"type\": \"scatterpolar\"}, {\"line\": {\"color\": \"#EF553B\"}, \"name\": \"% upper adequate intake\", \"r\": [1.1830257215241935, 1.025115234, 0.9152511754445825, 1.129098295858871, 1.0940214303084677, 1.565775031320565, 1.3860102724798387, 4.048562501013105, 1.312923916330645, 1.4672283025403225, 0.8985625567695409, 1.1830257215241935], \"subplot\": \"polar4\", \"theta\": [\"Histidine\", \"Isoleucine\", \"Leucine\", \"Lysine\", \"Methionine\", \"Cysteine\", \"Phenylalanine\", \"Tyrosine\", \"Threonine\", \"Tryptophan\", \"Valine\", \"Histidine\"], \"type\": \"scatterpolar\"}],                        {\"height\": 800, \"polar\": {\"angularaxis\": {\"direction\": \"clockwise\", \"rotation\": 90}, \"domain\": {\"x\": [0.0, 0.45], \"y\": [0.575, 1.0]}, \"radialaxis\": {\"range\": [0, 2], \"visible\": true}}, \"polar2\": {\"angularaxis\": {\"direction\": \"clockwise\", \"rotation\": 90}, \"domain\": {\"x\": [0.55, 1.0], \"y\": [0.575, 1.0]}, \"radialaxis\": {\"range\": [0, 2], \"visible\": true}}, \"polar3\": {\"angularaxis\": {\"direction\": \"clockwise\", \"rotation\": 90}, \"domain\": {\"x\": [0.0, 0.45], \"y\": [0.0, 0.425]}, \"radialaxis\": {\"range\": [0, 2], \"visible\": true}}, \"polar4\": {\"angularaxis\": {\"direction\": \"clockwise\", \"rotation\": 90}, \"domain\": {\"x\": [0.55, 1.0], \"y\": [0.0, 0.425]}, \"radialaxis\": {\"range\": [0, 2], \"visible\": true}}, \"showlegend\": false, \"template\": {\"data\": {\"bar\": [{\"error_x\": {\"color\": \"#2a3f5f\"}, \"error_y\": {\"color\": \"#2a3f5f\"}, \"marker\": {\"line\": {\"color\": \"#E5ECF6\", \"width\": 0.5}}, \"type\": \"bar\"}], \"barpolar\": [{\"marker\": {\"line\": {\"color\": \"#E5ECF6\", \"width\": 0.5}}, \"type\": \"barpolar\"}], \"carpet\": [{\"aaxis\": {\"endlinecolor\": \"#2a3f5f\", \"gridcolor\": \"white\", \"linecolor\": \"white\", \"minorgridcolor\": \"white\", \"startlinecolor\": \"#2a3f5f\"}, \"baxis\": {\"endlinecolor\": \"#2a3f5f\", \"gridcolor\": \"white\", \"linecolor\": \"white\", \"minorgridcolor\": \"white\", \"startlinecolor\": \"#2a3f5f\"}, \"type\": \"carpet\"}], \"choropleth\": [{\"colorbar\": {\"outlinewidth\": 0, \"ticks\": \"\"}, \"type\": \"choropleth\"}], \"contour\": [{\"colorbar\": {\"outlinewidth\": 0, \"ticks\": \"\"}, \"colorscale\": [[0.0, \"#0d0887\"], [0.1111111111111111, \"#46039f\"], [0.2222222222222222, \"#7201a8\"], [0.3333333333333333, \"#9c179e\"], [0.4444444444444444, \"#bd3786\"], [0.5555555555555556, \"#d8576b\"], [0.6666666666666666, \"#ed7953\"], [0.7777777777777778, \"#fb9f3a\"], [0.8888888888888888, \"#fdca26\"], [1.0, \"#f0f921\"]], \"type\": \"contour\"}], \"contourcarpet\": [{\"colorbar\": {\"outlinewidth\": 0, \"ticks\": \"\"}, \"type\": \"contourcarpet\"}], \"heatmap\": [{\"colorbar\": {\"outlinewidth\": 0, \"ticks\": \"\"}, \"colorscale\": [[0.0, \"#0d0887\"], [0.1111111111111111, \"#46039f\"], [0.2222222222222222, \"#7201a8\"], [0.3333333333333333, \"#9c179e\"], [0.4444444444444444, \"#bd3786\"], [0.5555555555555556, \"#d8576b\"], [0.6666666666666666, \"#ed7953\"], [0.7777777777777778, \"#fb9f3a\"], [0.8888888888888888, \"#fdca26\"], [1.0, \"#f0f921\"]], \"type\": \"heatmap\"}], \"heatmapgl\": [{\"colorbar\": {\"outlinewidth\": 0, \"ticks\": \"\"}, \"colorscale\": [[0.0, \"#0d0887\"], [0.1111111111111111, \"#46039f\"], [0.2222222222222222, \"#7201a8\"], [0.3333333333333333, \"#9c179e\"], [0.4444444444444444, \"#bd3786\"], [0.5555555555555556, \"#d8576b\"], [0.6666666666666666, \"#ed7953\"], [0.7777777777777778, \"#fb9f3a\"], [0.8888888888888888, \"#fdca26\"], [1.0, \"#f0f921\"]], \"type\": \"heatmapgl\"}], \"histogram\": [{\"marker\": {\"colorbar\": {\"outlinewidth\": 0, \"ticks\": \"\"}}, \"type\": \"histogram\"}], \"histogram2d\": [{\"colorbar\": {\"outlinewidth\": 0, \"ticks\": \"\"}, \"colorscale\": [[0.0, \"#0d0887\"], [0.1111111111111111, \"#46039f\"], [0.2222222222222222, \"#7201a8\"], [0.3333333333333333, \"#9c179e\"], [0.4444444444444444, \"#bd3786\"], [0.5555555555555556, \"#d8576b\"], [0.6666666666666666, \"#ed7953\"], [0.7777777777777778, \"#fb9f3a\"], [0.8888888888888888, \"#fdca26\"], [1.0, \"#f0f921\"]], \"type\": \"histogram2d\"}], \"histogram2dcontour\": [{\"colorbar\": {\"outlinewidth\": 0, \"ticks\": \"\"}, \"colorscale\": [[0.0, \"#0d0887\"], [0.1111111111111111, \"#46039f\"], [0.2222222222222222, \"#7201a8\"], [0.3333333333333333, \"#9c179e\"], [0.4444444444444444, \"#bd3786\"], [0.5555555555555556, \"#d8576b\"], [0.6666666666666666, \"#ed7953\"], [0.7777777777777778, \"#fb9f3a\"], [0.8888888888888888, \"#fdca26\"], [1.0, \"#f0f921\"]], \"type\": \"histogram2dcontour\"}], \"mesh3d\": [{\"colorbar\": {\"outlinewidth\": 0, \"ticks\": \"\"}, \"type\": \"mesh3d\"}], \"parcoords\": [{\"line\": {\"colorbar\": {\"outlinewidth\": 0, \"ticks\": \"\"}}, \"type\": \"parcoords\"}], \"pie\": [{\"automargin\": true, \"type\": \"pie\"}], \"scatter\": [{\"marker\": {\"colorbar\": {\"outlinewidth\": 0, \"ticks\": \"\"}}, \"type\": \"scatter\"}], \"scatter3d\": [{\"line\": {\"colorbar\": {\"outlinewidth\": 0, \"ticks\": \"\"}}, \"marker\": {\"colorbar\": {\"outlinewidth\": 0, \"ticks\": \"\"}}, \"type\": \"scatter3d\"}], \"scattercarpet\": [{\"marker\": {\"colorbar\": {\"outlinewidth\": 0, \"ticks\": \"\"}}, \"type\": \"scattercarpet\"}], \"scattergeo\": [{\"marker\": {\"colorbar\": {\"outlinewidth\": 0, \"ticks\": \"\"}}, \"type\": \"scattergeo\"}], \"scattergl\": [{\"marker\": {\"colorbar\": {\"outlinewidth\": 0, \"ticks\": \"\"}}, \"type\": \"scattergl\"}], \"scattermapbox\": [{\"marker\": {\"colorbar\": {\"outlinewidth\": 0, \"ticks\": \"\"}}, \"type\": \"scattermapbox\"}], \"scatterpolar\": [{\"marker\": {\"colorbar\": {\"outlinewidth\": 0, \"ticks\": \"\"}}, \"type\": \"scatterpolar\"}], \"scatterpolargl\": [{\"marker\": {\"colorbar\": {\"outlinewidth\": 0, \"ticks\": \"\"}}, \"type\": \"scatterpolargl\"}], \"scatterternary\": [{\"marker\": {\"colorbar\": {\"outlinewidth\": 0, \"ticks\": \"\"}}, \"type\": \"scatterternary\"}], \"surface\": [{\"colorbar\": {\"outlinewidth\": 0, \"ticks\": \"\"}, \"colorscale\": [[0.0, \"#0d0887\"], [0.1111111111111111, \"#46039f\"], [0.2222222222222222, \"#7201a8\"], [0.3333333333333333, \"#9c179e\"], [0.4444444444444444, \"#bd3786\"], [0.5555555555555556, \"#d8576b\"], [0.6666666666666666, \"#ed7953\"], [0.7777777777777778, \"#fb9f3a\"], [0.8888888888888888, \"#fdca26\"], [1.0, \"#f0f921\"]], \"type\": \"surface\"}], \"table\": [{\"cells\": {\"fill\": {\"color\": \"#EBF0F8\"}, \"line\": {\"color\": \"white\"}}, \"header\": {\"fill\": {\"color\": \"#C8D4E3\"}, \"line\": {\"color\": \"white\"}}, \"type\": \"table\"}]}, \"layout\": {\"annotationdefaults\": {\"arrowcolor\": \"#2a3f5f\", \"arrowhead\": 0, \"arrowwidth\": 1}, \"coloraxis\": {\"colorbar\": {\"outlinewidth\": 0, \"ticks\": \"\"}}, \"colorscale\": {\"diverging\": [[0, \"#8e0152\"], [0.1, \"#c51b7d\"], [0.2, \"#de77ae\"], [0.3, \"#f1b6da\"], [0.4, \"#fde0ef\"], [0.5, \"#f7f7f7\"], [0.6, \"#e6f5d0\"], [0.7, \"#b8e186\"], [0.8, \"#7fbc41\"], [0.9, \"#4d9221\"], [1, \"#276419\"]], \"sequential\": [[0.0, \"#0d0887\"], [0.1111111111111111, \"#46039f\"], [0.2222222222222222, \"#7201a8\"], [0.3333333333333333, \"#9c179e\"], [0.4444444444444444, \"#bd3786\"], [0.5555555555555556, \"#d8576b\"], [0.6666666666666666, \"#ed7953\"], [0.7777777777777778, \"#fb9f3a\"], [0.8888888888888888, \"#fdca26\"], [1.0, \"#f0f921\"]], \"sequentialminus\": [[0.0, \"#0d0887\"], [0.1111111111111111, \"#46039f\"], [0.2222222222222222, \"#7201a8\"], [0.3333333333333333, \"#9c179e\"], [0.4444444444444444, \"#bd3786\"], [0.5555555555555556, \"#d8576b\"], [0.6666666666666666, \"#ed7953\"], [0.7777777777777778, \"#fb9f3a\"], [0.8888888888888888, \"#fdca26\"], [1.0, \"#f0f921\"]]}, \"colorway\": [\"#636efa\", \"#EF553B\", \"#00cc96\", \"#ab63fa\", \"#FFA15A\", \"#19d3f3\", \"#FF6692\", \"#B6E880\", \"#FF97FF\", \"#FECB52\"], \"font\": {\"color\": \"#2a3f5f\"}, \"geo\": {\"bgcolor\": \"white\", \"lakecolor\": \"white\", \"landcolor\": \"#E5ECF6\", \"showlakes\": true, \"showland\": true, \"subunitcolor\": \"white\"}, \"hoverlabel\": {\"align\": \"left\"}, \"hovermode\": \"closest\", \"mapbox\": {\"style\": \"light\"}, \"paper_bgcolor\": \"white\", \"plot_bgcolor\": \"#E5ECF6\", \"polar\": {\"angularaxis\": {\"gridcolor\": \"white\", \"linecolor\": \"white\", \"ticks\": \"\"}, \"bgcolor\": \"#E5ECF6\", \"radialaxis\": {\"gridcolor\": \"white\", \"linecolor\": \"white\", \"ticks\": \"\"}}, \"scene\": {\"xaxis\": {\"backgroundcolor\": \"#E5ECF6\", \"gridcolor\": \"white\", \"gridwidth\": 2, \"linecolor\": \"white\", \"showbackground\": true, \"ticks\": \"\", \"zerolinecolor\": \"white\"}, \"yaxis\": {\"backgroundcolor\": \"#E5ECF6\", \"gridcolor\": \"white\", \"gridwidth\": 2, \"linecolor\": \"white\", \"showbackground\": true, \"ticks\": \"\", \"zerolinecolor\": \"white\"}, \"zaxis\": {\"backgroundcolor\": \"#E5ECF6\", \"gridcolor\": \"white\", \"gridwidth\": 2, \"linecolor\": \"white\", \"showbackground\": true, \"ticks\": \"\", \"zerolinecolor\": \"white\"}}, \"shapedefaults\": {\"line\": {\"color\": \"#2a3f5f\"}}, \"ternary\": {\"aaxis\": {\"gridcolor\": \"white\", \"linecolor\": \"white\", \"ticks\": \"\"}, \"baxis\": {\"gridcolor\": \"white\", \"linecolor\": \"white\", \"ticks\": \"\"}, \"bgcolor\": \"#E5ECF6\", \"caxis\": {\"gridcolor\": \"white\", \"linecolor\": \"white\", \"ticks\": \"\"}}, \"title\": {\"x\": 0.05}, \"xaxis\": {\"automargin\": true, \"gridcolor\": \"white\", \"linecolor\": \"white\", \"ticks\": \"\", \"title\": {\"standoff\": 15}, \"zerolinecolor\": \"white\", \"zerolinewidth\": 2}, \"yaxis\": {\"automargin\": true, \"gridcolor\": \"white\", \"linecolor\": \"white\", \"ticks\": \"\", \"title\": {\"standoff\": 15}, \"zerolinecolor\": \"white\", \"zerolinewidth\": 2}}}, \"title\": {\"text\": \"Period II - optimistic scenario\"}, \"width\": 1050},                        {\"responsive\": true}                    ).then(function(){\n",
       "                            \n",
       "var gd = document.getElementById('1c062806-7891-4db0-bd9c-0a2545395f20');\n",
       "var x = new MutationObserver(function (mutations, observer) {{\n",
       "        var display = window.getComputedStyle(gd).display;\n",
       "        if (!display || display === 'none') {{\n",
       "            console.log([gd, 'removed!']);\n",
       "            Plotly.purge(gd);\n",
       "            observer.disconnect();\n",
       "        }}\n",
       "}});\n",
       "\n",
       "// Listen for the removal of the full notebook cells\n",
       "var notebookContainer = gd.closest('#notebook-container');\n",
       "if (notebookContainer) {{\n",
       "    x.observe(notebookContainer, {childList: true});\n",
       "}}\n",
       "\n",
       "// Listen for the clearing of the current output cell\n",
       "var outputEl = gd.closest('.output');\n",
       "if (outputEl) {{\n",
       "    x.observe(outputEl, {childList: true});\n",
       "}}\n",
       "\n",
       "                        })                };                });            </script>        </div>"
      ]
     },
     "metadata": {},
     "output_type": "display_data"
    },
    {
     "name": "stdout",
     "output_type": "stream",
     "text": [
      "II-wo seaweed \n",
      "-------\n",
      " Protein                   107.021100\n",
      "Fat total                  60.808764\n",
      "Saturated fats             14.253388\n",
      "Trans fats                  0.234294\n",
      "Carbohydrates             286.330868\n",
      "Fiber                      24.451048\n",
      "Sugars                     49.244773\n",
      "Vitamin A                1894.407053\n",
      "Vitamin E                6993.271245\n",
      "Vitamin D                   0.508968\n",
      "Vitamin C                 103.171250\n",
      "Thiamine (B1)               1.647441\n",
      "Riboflavin (B2)             2.593205\n",
      "Niacin (B3)                48.664481\n",
      "Vitamin B6                  3.347854\n",
      "Vitamin B12                18.248329\n",
      "Vitamin K                  70.410743\n",
      "Folate (B9)               356.631941\n",
      "Pantothenic Acid (B5)       9.491752\n",
      "Calcium                   838.815843\n",
      "Iron                       18.920279\n",
      "Magnesium                 560.161166\n",
      "Phosphorus               1560.072314\n",
      "Potassium                5505.362601\n",
      "Sodium                    533.294836\n",
      "Zinc                       12.919172\n",
      "Copper                   6297.802329\n",
      "Manganese                   4.839933\n",
      "Selenium                  158.646893\n",
      "Iodine                    160.115430\n",
      "Chromium                    0.000000\n",
      "Molybdenum                  0.000000\n",
      "Histidine                   2.672193\n",
      "Isoleucine                  4.493582\n",
      "Leucine                     7.850850\n",
      "Lysine                      7.722850\n",
      "Methionine                  2.443181\n",
      "Cysteine                    1.337602\n",
      "Phenylalanine               4.444647\n",
      "Tyrosine                    3.573211\n",
      "Threonine                   4.283640\n",
      "Tryptophan                  1.334463\n",
      "Valine                      5.011708\n",
      "Omega-3 (ALA)               3.129337\n",
      "Omega-6 (LA)               11.282606\n",
      "dtype: float64\n",
      "AI ['Fat total', 'Saturated fats', 'Trans fats', 'Carbohydrates', 'Sugars', 'Vitamin A', 'Vitamin C', 'Thiamine (B1)', 'Riboflavin (B2)', 'Vitamin B6', 'Vitamin B12', 'Folate (B9)', 'Pantothenic Acid (B5)', 'Iron', 'Magnesium', 'Phosphorus', 'Potassium', 'Zinc', 'Manganese', 'Selenium', 'Iodine', 'Isoleucine', 'Leucine', 'Methionine', 'Valine'] \n",
      "\n",
      "MRAI ['Protein 136%', 'Niacin (B3) 139%', 'Vitamin K 67%', 'Calcium 84%', 'Sodium 27%', 'Copper 126%', 'Histidine 108%', 'Lysine 104%', 'Cysteine 135%', 'Phenylalanine 119%', 'Tyrosine 360%', 'Threonine 115%', 'Tryptophan 135%', 'Omega-3 (ALA) 112%', 'Omega-6 (LA) 78%'] \n",
      "\n",
      "SRAI ['Fiber 98%', 'Vitamin E 47%', 'Vitamin D 3%'] \n",
      "\n",
      "Danger ['Chromium 0%', 'Molybdenum 0%']\n"
     ]
    },
    {
     "data": {
      "application/vnd.plotly.v1+json": {
       "config": {
        "plotlyServerURL": "https://plot.ly"
       },
       "data": [
        {
         "line": {
          "color": "#00CC96"
         },
         "name": "% lower adequate intake",
         "r": [
          1,
          1,
          1,
          1,
          1,
          0.7781107289810345,
          1,
          0.978041913188,
          1,
          1
         ],
         "subplot": "polar",
         "theta": [
          "Protein",
          "Fat total",
          "Saturated fats",
          "Trans fats",
          "Omega-3 (ALA)",
          "Omega-6 (LA)",
          "Carbohydrates",
          "Fiber",
          "Sugars",
          "Protein"
         ],
         "type": "scatterpolar"
        },
        {
         "line": {
          "color": "#EF553B"
         },
         "name": "% upper adequate intake",
         "r": [
          1.358998101193651,
          0.8686966220821428,
          0.6109467454742821,
          0.1018670265826087,
          1.1176202901589287,
          0.6043173845862345,
          0.7158271696925,
          0.3493006832814286,
          0.937995676313524,
          1.358998101193651
         ],
         "subplot": "polar",
         "theta": [
          "Protein",
          "Fat total",
          "Saturated fats",
          "Trans fats",
          "Omega-3 (ALA)",
          "Omega-6 (LA)",
          "Carbohydrates",
          "Fiber",
          "Sugars",
          "Protein"
         ],
         "type": "scatterpolar"
        },
        {
         "line": {
          "color": "#00CC96"
         },
         "name": "% lower adequate intake",
         "r": [
          1,
          0.46621808301033335,
          0.03393122614666667,
          1,
          1,
          1,
          1,
          1,
          1,
          0.6705785041470476,
          1,
          1,
          1
         ],
         "subplot": "polar2",
         "theta": [
          "Vitamin A",
          "Vitamin E",
          "Vitamin D",
          "Vitamin C",
          "Thiamine (B1)",
          "Riboflavin (B2)",
          "Niacin (B3)",
          "Vitamin B6",
          "Vitamin B12",
          "Vitamin K",
          "Folate (B9)",
          "Pantothenic Acid (B5)",
          "Vitamin A"
         ],
         "type": "scatterpolar"
        },
        {
         "line": {
          "color": "#EF553B"
         },
         "name": "% upper adequate intake",
         "r": [
          0.6314690177543334,
          0.02331090415051667,
          0.0020358735688,
          0.0515856250055,
          1.647440748315e-99,
          2.5932053170499997e-99,
          1.3904137493000002,
          0.1339141428588,
          0.7299331595880001,
          7.041074293544e-98,
          0.356631940927,
          0.4745875955375,
          0.6314690177543334
         ],
         "subplot": "polar2",
         "theta": [
          "Vitamin A",
          "Vitamin E",
          "Vitamin D",
          "Vitamin C",
          "Thiamine (B1)",
          "Riboflavin (B2)",
          "Niacin (B3)",
          "Vitamin B6",
          "Vitamin B12",
          "Vitamin K",
          "Folate (B9)",
          "Pantothenic Acid (B5)",
          "Vitamin A"
         ],
         "type": "scatterpolar"
        },
        {
         "line": {
          "color": "#00CC96"
         },
         "name": "% lower adequate intake",
         "r": [
          0.8388158429995,
          1,
          1,
          1,
          1,
          0.26664741805854997,
          1,
          1,
          1,
          1,
          1,
          0.8388158429995
         ],
         "subplot": "polar3",
         "theta": [
          "Calcium",
          "Iron",
          "Magnesium",
          "Phosphorus",
          "Potassium",
          "Sodium",
          "Zinc",
          "Copper",
          "Manganese",
          "Selenium",
          "Iodine",
          "Calcium"
         ],
         "type": "scatterpolar"
        },
        {
         "line": {
          "color": "#EF553B"
         },
         "name": "% upper adequate intake",
         "r": [
          0.3355263371998,
          0.42045063386344445,
          5.60161166271e-97,
          0.39001807856250004,
          0.7864803715985714,
          0.23186732005091304,
          0.5167668840199999,
          1.2595604658330002,
          0.43999390221063645,
          0.5288229782509999,
          0.26685904942666666,
          0.3355263371998
         ],
         "subplot": "polar3",
         "theta": [
          "Calcium",
          "Iron",
          "Magnesium",
          "Phosphorus",
          "Potassium",
          "Sodium",
          "Zinc",
          "Copper",
          "Manganese",
          "Selenium",
          "Iodine",
          "Calcium"
         ],
         "type": "scatterpolar"
        },
        {
         "line": {
          "color": "#00CC96"
         },
         "name": "% lower adequate intake",
         "r": [
          1,
          1,
          1,
          1,
          1,
          1,
          1,
          1,
          1,
          1,
          1,
          1
         ],
         "subplot": "polar4",
         "theta": [
          "Histidine",
          "Isoleucine",
          "Leucine",
          "Lysine",
          "Methionine",
          "Cysteine",
          "Phenylalanine",
          "Tyrosine",
          "Threonine",
          "Tryptophan",
          "Valine",
          "Histidine"
         ],
         "type": "scatterpolar"
        },
        {
         "line": {
          "color": "#EF553B"
         },
         "name": "% upper adequate intake",
         "r": [
          1.0774971960080646,
          0.9059640487278227,
          0.8117090949700166,
          1.0380174234462363,
          0.985153632439516,
          1.3483893796925404,
          1.194797676686828,
          3.6020272245514118,
          1.151516010080645,
          1.3452246082762098,
          0.7772499369029156,
          1.0774971960080646
         ],
         "subplot": "polar4",
         "theta": [
          "Histidine",
          "Isoleucine",
          "Leucine",
          "Lysine",
          "Methionine",
          "Cysteine",
          "Phenylalanine",
          "Tyrosine",
          "Threonine",
          "Tryptophan",
          "Valine",
          "Histidine"
         ],
         "type": "scatterpolar"
        }
       ],
       "layout": {
        "height": 800,
        "polar": {
         "angularaxis": {
          "direction": "clockwise",
          "rotation": 90
         },
         "domain": {
          "x": [
           0,
           0.45
          ],
          "y": [
           0.575,
           1
          ]
         },
         "radialaxis": {
          "range": [
           0,
           2
          ],
          "visible": true
         }
        },
        "polar2": {
         "angularaxis": {
          "direction": "clockwise",
          "rotation": 90
         },
         "domain": {
          "x": [
           0.55,
           1
          ],
          "y": [
           0.575,
           1
          ]
         },
         "radialaxis": {
          "range": [
           0,
           2
          ],
          "visible": true
         }
        },
        "polar3": {
         "angularaxis": {
          "direction": "clockwise",
          "rotation": 90
         },
         "domain": {
          "x": [
           0,
           0.45
          ],
          "y": [
           0,
           0.425
          ]
         },
         "radialaxis": {
          "range": [
           0,
           2
          ],
          "visible": true
         }
        },
        "polar4": {
         "angularaxis": {
          "direction": "clockwise",
          "rotation": 90
         },
         "domain": {
          "x": [
           0.55,
           1
          ],
          "y": [
           0,
           0.425
          ]
         },
         "radialaxis": {
          "range": [
           0,
           2
          ],
          "visible": true
         }
        },
        "showlegend": false,
        "template": {
         "data": {
          "bar": [
           {
            "error_x": {
             "color": "#2a3f5f"
            },
            "error_y": {
             "color": "#2a3f5f"
            },
            "marker": {
             "line": {
              "color": "#E5ECF6",
              "width": 0.5
             }
            },
            "type": "bar"
           }
          ],
          "barpolar": [
           {
            "marker": {
             "line": {
              "color": "#E5ECF6",
              "width": 0.5
             }
            },
            "type": "barpolar"
           }
          ],
          "carpet": [
           {
            "aaxis": {
             "endlinecolor": "#2a3f5f",
             "gridcolor": "white",
             "linecolor": "white",
             "minorgridcolor": "white",
             "startlinecolor": "#2a3f5f"
            },
            "baxis": {
             "endlinecolor": "#2a3f5f",
             "gridcolor": "white",
             "linecolor": "white",
             "minorgridcolor": "white",
             "startlinecolor": "#2a3f5f"
            },
            "type": "carpet"
           }
          ],
          "choropleth": [
           {
            "colorbar": {
             "outlinewidth": 0,
             "ticks": ""
            },
            "type": "choropleth"
           }
          ],
          "contour": [
           {
            "colorbar": {
             "outlinewidth": 0,
             "ticks": ""
            },
            "colorscale": [
             [
              0,
              "#0d0887"
             ],
             [
              0.1111111111111111,
              "#46039f"
             ],
             [
              0.2222222222222222,
              "#7201a8"
             ],
             [
              0.3333333333333333,
              "#9c179e"
             ],
             [
              0.4444444444444444,
              "#bd3786"
             ],
             [
              0.5555555555555556,
              "#d8576b"
             ],
             [
              0.6666666666666666,
              "#ed7953"
             ],
             [
              0.7777777777777778,
              "#fb9f3a"
             ],
             [
              0.8888888888888888,
              "#fdca26"
             ],
             [
              1,
              "#f0f921"
             ]
            ],
            "type": "contour"
           }
          ],
          "contourcarpet": [
           {
            "colorbar": {
             "outlinewidth": 0,
             "ticks": ""
            },
            "type": "contourcarpet"
           }
          ],
          "heatmap": [
           {
            "colorbar": {
             "outlinewidth": 0,
             "ticks": ""
            },
            "colorscale": [
             [
              0,
              "#0d0887"
             ],
             [
              0.1111111111111111,
              "#46039f"
             ],
             [
              0.2222222222222222,
              "#7201a8"
             ],
             [
              0.3333333333333333,
              "#9c179e"
             ],
             [
              0.4444444444444444,
              "#bd3786"
             ],
             [
              0.5555555555555556,
              "#d8576b"
             ],
             [
              0.6666666666666666,
              "#ed7953"
             ],
             [
              0.7777777777777778,
              "#fb9f3a"
             ],
             [
              0.8888888888888888,
              "#fdca26"
             ],
             [
              1,
              "#f0f921"
             ]
            ],
            "type": "heatmap"
           }
          ],
          "heatmapgl": [
           {
            "colorbar": {
             "outlinewidth": 0,
             "ticks": ""
            },
            "colorscale": [
             [
              0,
              "#0d0887"
             ],
             [
              0.1111111111111111,
              "#46039f"
             ],
             [
              0.2222222222222222,
              "#7201a8"
             ],
             [
              0.3333333333333333,
              "#9c179e"
             ],
             [
              0.4444444444444444,
              "#bd3786"
             ],
             [
              0.5555555555555556,
              "#d8576b"
             ],
             [
              0.6666666666666666,
              "#ed7953"
             ],
             [
              0.7777777777777778,
              "#fb9f3a"
             ],
             [
              0.8888888888888888,
              "#fdca26"
             ],
             [
              1,
              "#f0f921"
             ]
            ],
            "type": "heatmapgl"
           }
          ],
          "histogram": [
           {
            "marker": {
             "colorbar": {
              "outlinewidth": 0,
              "ticks": ""
             }
            },
            "type": "histogram"
           }
          ],
          "histogram2d": [
           {
            "colorbar": {
             "outlinewidth": 0,
             "ticks": ""
            },
            "colorscale": [
             [
              0,
              "#0d0887"
             ],
             [
              0.1111111111111111,
              "#46039f"
             ],
             [
              0.2222222222222222,
              "#7201a8"
             ],
             [
              0.3333333333333333,
              "#9c179e"
             ],
             [
              0.4444444444444444,
              "#bd3786"
             ],
             [
              0.5555555555555556,
              "#d8576b"
             ],
             [
              0.6666666666666666,
              "#ed7953"
             ],
             [
              0.7777777777777778,
              "#fb9f3a"
             ],
             [
              0.8888888888888888,
              "#fdca26"
             ],
             [
              1,
              "#f0f921"
             ]
            ],
            "type": "histogram2d"
           }
          ],
          "histogram2dcontour": [
           {
            "colorbar": {
             "outlinewidth": 0,
             "ticks": ""
            },
            "colorscale": [
             [
              0,
              "#0d0887"
             ],
             [
              0.1111111111111111,
              "#46039f"
             ],
             [
              0.2222222222222222,
              "#7201a8"
             ],
             [
              0.3333333333333333,
              "#9c179e"
             ],
             [
              0.4444444444444444,
              "#bd3786"
             ],
             [
              0.5555555555555556,
              "#d8576b"
             ],
             [
              0.6666666666666666,
              "#ed7953"
             ],
             [
              0.7777777777777778,
              "#fb9f3a"
             ],
             [
              0.8888888888888888,
              "#fdca26"
             ],
             [
              1,
              "#f0f921"
             ]
            ],
            "type": "histogram2dcontour"
           }
          ],
          "mesh3d": [
           {
            "colorbar": {
             "outlinewidth": 0,
             "ticks": ""
            },
            "type": "mesh3d"
           }
          ],
          "parcoords": [
           {
            "line": {
             "colorbar": {
              "outlinewidth": 0,
              "ticks": ""
             }
            },
            "type": "parcoords"
           }
          ],
          "pie": [
           {
            "automargin": true,
            "type": "pie"
           }
          ],
          "scatter": [
           {
            "marker": {
             "colorbar": {
              "outlinewidth": 0,
              "ticks": ""
             }
            },
            "type": "scatter"
           }
          ],
          "scatter3d": [
           {
            "line": {
             "colorbar": {
              "outlinewidth": 0,
              "ticks": ""
             }
            },
            "marker": {
             "colorbar": {
              "outlinewidth": 0,
              "ticks": ""
             }
            },
            "type": "scatter3d"
           }
          ],
          "scattercarpet": [
           {
            "marker": {
             "colorbar": {
              "outlinewidth": 0,
              "ticks": ""
             }
            },
            "type": "scattercarpet"
           }
          ],
          "scattergeo": [
           {
            "marker": {
             "colorbar": {
              "outlinewidth": 0,
              "ticks": ""
             }
            },
            "type": "scattergeo"
           }
          ],
          "scattergl": [
           {
            "marker": {
             "colorbar": {
              "outlinewidth": 0,
              "ticks": ""
             }
            },
            "type": "scattergl"
           }
          ],
          "scattermapbox": [
           {
            "marker": {
             "colorbar": {
              "outlinewidth": 0,
              "ticks": ""
             }
            },
            "type": "scattermapbox"
           }
          ],
          "scatterpolar": [
           {
            "marker": {
             "colorbar": {
              "outlinewidth": 0,
              "ticks": ""
             }
            },
            "type": "scatterpolar"
           }
          ],
          "scatterpolargl": [
           {
            "marker": {
             "colorbar": {
              "outlinewidth": 0,
              "ticks": ""
             }
            },
            "type": "scatterpolargl"
           }
          ],
          "scatterternary": [
           {
            "marker": {
             "colorbar": {
              "outlinewidth": 0,
              "ticks": ""
             }
            },
            "type": "scatterternary"
           }
          ],
          "surface": [
           {
            "colorbar": {
             "outlinewidth": 0,
             "ticks": ""
            },
            "colorscale": [
             [
              0,
              "#0d0887"
             ],
             [
              0.1111111111111111,
              "#46039f"
             ],
             [
              0.2222222222222222,
              "#7201a8"
             ],
             [
              0.3333333333333333,
              "#9c179e"
             ],
             [
              0.4444444444444444,
              "#bd3786"
             ],
             [
              0.5555555555555556,
              "#d8576b"
             ],
             [
              0.6666666666666666,
              "#ed7953"
             ],
             [
              0.7777777777777778,
              "#fb9f3a"
             ],
             [
              0.8888888888888888,
              "#fdca26"
             ],
             [
              1,
              "#f0f921"
             ]
            ],
            "type": "surface"
           }
          ],
          "table": [
           {
            "cells": {
             "fill": {
              "color": "#EBF0F8"
             },
             "line": {
              "color": "white"
             }
            },
            "header": {
             "fill": {
              "color": "#C8D4E3"
             },
             "line": {
              "color": "white"
             }
            },
            "type": "table"
           }
          ]
         },
         "layout": {
          "annotationdefaults": {
           "arrowcolor": "#2a3f5f",
           "arrowhead": 0,
           "arrowwidth": 1
          },
          "coloraxis": {
           "colorbar": {
            "outlinewidth": 0,
            "ticks": ""
           }
          },
          "colorscale": {
           "diverging": [
            [
             0,
             "#8e0152"
            ],
            [
             0.1,
             "#c51b7d"
            ],
            [
             0.2,
             "#de77ae"
            ],
            [
             0.3,
             "#f1b6da"
            ],
            [
             0.4,
             "#fde0ef"
            ],
            [
             0.5,
             "#f7f7f7"
            ],
            [
             0.6,
             "#e6f5d0"
            ],
            [
             0.7,
             "#b8e186"
            ],
            [
             0.8,
             "#7fbc41"
            ],
            [
             0.9,
             "#4d9221"
            ],
            [
             1,
             "#276419"
            ]
           ],
           "sequential": [
            [
             0,
             "#0d0887"
            ],
            [
             0.1111111111111111,
             "#46039f"
            ],
            [
             0.2222222222222222,
             "#7201a8"
            ],
            [
             0.3333333333333333,
             "#9c179e"
            ],
            [
             0.4444444444444444,
             "#bd3786"
            ],
            [
             0.5555555555555556,
             "#d8576b"
            ],
            [
             0.6666666666666666,
             "#ed7953"
            ],
            [
             0.7777777777777778,
             "#fb9f3a"
            ],
            [
             0.8888888888888888,
             "#fdca26"
            ],
            [
             1,
             "#f0f921"
            ]
           ],
           "sequentialminus": [
            [
             0,
             "#0d0887"
            ],
            [
             0.1111111111111111,
             "#46039f"
            ],
            [
             0.2222222222222222,
             "#7201a8"
            ],
            [
             0.3333333333333333,
             "#9c179e"
            ],
            [
             0.4444444444444444,
             "#bd3786"
            ],
            [
             0.5555555555555556,
             "#d8576b"
            ],
            [
             0.6666666666666666,
             "#ed7953"
            ],
            [
             0.7777777777777778,
             "#fb9f3a"
            ],
            [
             0.8888888888888888,
             "#fdca26"
            ],
            [
             1,
             "#f0f921"
            ]
           ]
          },
          "colorway": [
           "#636efa",
           "#EF553B",
           "#00cc96",
           "#ab63fa",
           "#FFA15A",
           "#19d3f3",
           "#FF6692",
           "#B6E880",
           "#FF97FF",
           "#FECB52"
          ],
          "font": {
           "color": "#2a3f5f"
          },
          "geo": {
           "bgcolor": "white",
           "lakecolor": "white",
           "landcolor": "#E5ECF6",
           "showlakes": true,
           "showland": true,
           "subunitcolor": "white"
          },
          "hoverlabel": {
           "align": "left"
          },
          "hovermode": "closest",
          "mapbox": {
           "style": "light"
          },
          "paper_bgcolor": "white",
          "plot_bgcolor": "#E5ECF6",
          "polar": {
           "angularaxis": {
            "gridcolor": "white",
            "linecolor": "white",
            "ticks": ""
           },
           "bgcolor": "#E5ECF6",
           "radialaxis": {
            "gridcolor": "white",
            "linecolor": "white",
            "ticks": ""
           }
          },
          "scene": {
           "xaxis": {
            "backgroundcolor": "#E5ECF6",
            "gridcolor": "white",
            "gridwidth": 2,
            "linecolor": "white",
            "showbackground": true,
            "ticks": "",
            "zerolinecolor": "white"
           },
           "yaxis": {
            "backgroundcolor": "#E5ECF6",
            "gridcolor": "white",
            "gridwidth": 2,
            "linecolor": "white",
            "showbackground": true,
            "ticks": "",
            "zerolinecolor": "white"
           },
           "zaxis": {
            "backgroundcolor": "#E5ECF6",
            "gridcolor": "white",
            "gridwidth": 2,
            "linecolor": "white",
            "showbackground": true,
            "ticks": "",
            "zerolinecolor": "white"
           }
          },
          "shapedefaults": {
           "line": {
            "color": "#2a3f5f"
           }
          },
          "ternary": {
           "aaxis": {
            "gridcolor": "white",
            "linecolor": "white",
            "ticks": ""
           },
           "baxis": {
            "gridcolor": "white",
            "linecolor": "white",
            "ticks": ""
           },
           "bgcolor": "#E5ECF6",
           "caxis": {
            "gridcolor": "white",
            "linecolor": "white",
            "ticks": ""
           }
          },
          "title": {
           "x": 0.05
          },
          "xaxis": {
           "automargin": true,
           "gridcolor": "white",
           "linecolor": "white",
           "ticks": "",
           "title": {
            "standoff": 15
           },
           "zerolinecolor": "white",
           "zerolinewidth": 2
          },
          "yaxis": {
           "automargin": true,
           "gridcolor": "white",
           "linecolor": "white",
           "ticks": "",
           "title": {
            "standoff": 15
           },
           "zerolinecolor": "white",
           "zerolinewidth": 2
          }
         }
        },
        "title": {
         "text": "Period II - without seaweed"
        },
        "width": 1050
       }
      },
      "text/html": [
       "<div>                            <div id=\"3d59ab7a-b5e5-4150-bbe8-ed01c87420b7\" class=\"plotly-graph-div\" style=\"height:800px; width:1050px;\"></div>            <script type=\"text/javascript\">                require([\"plotly\"], function(Plotly) {                    window.PLOTLYENV=window.PLOTLYENV || {};                                    if (document.getElementById(\"3d59ab7a-b5e5-4150-bbe8-ed01c87420b7\")) {                    Plotly.newPlot(                        \"3d59ab7a-b5e5-4150-bbe8-ed01c87420b7\",                        [{\"line\": {\"color\": \"#00CC96\"}, \"name\": \"% lower adequate intake\", \"r\": [1.0, 1.0, 1.0, 1.0, 1.0, 0.7781107289810345, 1.0, 0.978041913188, 1.0, 1.0], \"subplot\": \"polar\", \"theta\": [\"Protein\", \"Fat total\", \"Saturated fats\", \"Trans fats\", \"Omega-3 (ALA)\", \"Omega-6 (LA)\", \"Carbohydrates\", \"Fiber\", \"Sugars\", \"Protein\"], \"type\": \"scatterpolar\"}, {\"line\": {\"color\": \"#EF553B\"}, \"name\": \"% upper adequate intake\", \"r\": [1.358998101193651, 0.8686966220821428, 0.6109467454742821, 0.1018670265826087, 1.1176202901589287, 0.6043173845862345, 0.7158271696925, 0.3493006832814286, 0.937995676313524, 1.358998101193651], \"subplot\": \"polar\", \"theta\": [\"Protein\", \"Fat total\", \"Saturated fats\", \"Trans fats\", \"Omega-3 (ALA)\", \"Omega-6 (LA)\", \"Carbohydrates\", \"Fiber\", \"Sugars\", \"Protein\"], \"type\": \"scatterpolar\"}, {\"line\": {\"color\": \"#00CC96\"}, \"name\": \"% lower adequate intake\", \"r\": [1.0, 0.46621808301033335, 0.03393122614666667, 1.0, 1.0, 1.0, 1.0, 1.0, 1.0, 0.6705785041470476, 1.0, 1.0, 1.0], \"subplot\": \"polar2\", \"theta\": [\"Vitamin A\", \"Vitamin E\", \"Vitamin D\", \"Vitamin C\", \"Thiamine (B1)\", \"Riboflavin (B2)\", \"Niacin (B3)\", \"Vitamin B6\", \"Vitamin B12\", \"Vitamin K\", \"Folate (B9)\", \"Pantothenic Acid (B5)\", \"Vitamin A\"], \"type\": \"scatterpolar\"}, {\"line\": {\"color\": \"#EF553B\"}, \"name\": \"% upper adequate intake\", \"r\": [0.6314690177543334, 0.02331090415051667, 0.0020358735688, 0.0515856250055, 1.647440748315e-99, 2.5932053170499997e-99, 1.3904137493000002, 0.1339141428588, 0.7299331595880001, 7.041074293544e-98, 0.356631940927, 0.4745875955375, 0.6314690177543334], \"subplot\": \"polar2\", \"theta\": [\"Vitamin A\", \"Vitamin E\", \"Vitamin D\", \"Vitamin C\", \"Thiamine (B1)\", \"Riboflavin (B2)\", \"Niacin (B3)\", \"Vitamin B6\", \"Vitamin B12\", \"Vitamin K\", \"Folate (B9)\", \"Pantothenic Acid (B5)\", \"Vitamin A\"], \"type\": \"scatterpolar\"}, {\"line\": {\"color\": \"#00CC96\"}, \"name\": \"% lower adequate intake\", \"r\": [0.8388158429995, 1.0, 1.0, 1.0, 1.0, 0.26664741805854997, 1.0, 1.0, 1.0, 1.0, 1.0, 0.8388158429995], \"subplot\": \"polar3\", \"theta\": [\"Calcium\", \"Iron\", \"Magnesium\", \"Phosphorus\", \"Potassium\", \"Sodium\", \"Zinc\", \"Copper\", \"Manganese\", \"Selenium\", \"Iodine\", \"Calcium\"], \"type\": \"scatterpolar\"}, {\"line\": {\"color\": \"#EF553B\"}, \"name\": \"% upper adequate intake\", \"r\": [0.3355263371998, 0.42045063386344445, 5.60161166271e-97, 0.39001807856250004, 0.7864803715985714, 0.23186732005091304, 0.5167668840199999, 1.2595604658330002, 0.43999390221063645, 0.5288229782509999, 0.26685904942666666, 0.3355263371998], \"subplot\": \"polar3\", \"theta\": [\"Calcium\", \"Iron\", \"Magnesium\", \"Phosphorus\", \"Potassium\", \"Sodium\", \"Zinc\", \"Copper\", \"Manganese\", \"Selenium\", \"Iodine\", \"Calcium\"], \"type\": \"scatterpolar\"}, {\"line\": {\"color\": \"#00CC96\"}, \"name\": \"% lower adequate intake\", \"r\": [1.0, 1.0, 1.0, 1.0, 1.0, 1.0, 1.0, 1.0, 1.0, 1.0, 1.0, 1.0], \"subplot\": \"polar4\", \"theta\": [\"Histidine\", \"Isoleucine\", \"Leucine\", \"Lysine\", \"Methionine\", \"Cysteine\", \"Phenylalanine\", \"Tyrosine\", \"Threonine\", \"Tryptophan\", \"Valine\", \"Histidine\"], \"type\": \"scatterpolar\"}, {\"line\": {\"color\": \"#EF553B\"}, \"name\": \"% upper adequate intake\", \"r\": [1.0774971960080646, 0.9059640487278227, 0.8117090949700166, 1.0380174234462363, 0.985153632439516, 1.3483893796925404, 1.194797676686828, 3.6020272245514118, 1.151516010080645, 1.3452246082762098, 0.7772499369029156, 1.0774971960080646], \"subplot\": \"polar4\", \"theta\": [\"Histidine\", \"Isoleucine\", \"Leucine\", \"Lysine\", \"Methionine\", \"Cysteine\", \"Phenylalanine\", \"Tyrosine\", \"Threonine\", \"Tryptophan\", \"Valine\", \"Histidine\"], \"type\": \"scatterpolar\"}],                        {\"height\": 800, \"polar\": {\"angularaxis\": {\"direction\": \"clockwise\", \"rotation\": 90}, \"domain\": {\"x\": [0.0, 0.45], \"y\": [0.575, 1.0]}, \"radialaxis\": {\"range\": [0, 2], \"visible\": true}}, \"polar2\": {\"angularaxis\": {\"direction\": \"clockwise\", \"rotation\": 90}, \"domain\": {\"x\": [0.55, 1.0], \"y\": [0.575, 1.0]}, \"radialaxis\": {\"range\": [0, 2], \"visible\": true}}, \"polar3\": {\"angularaxis\": {\"direction\": \"clockwise\", \"rotation\": 90}, \"domain\": {\"x\": [0.0, 0.45], \"y\": [0.0, 0.425]}, \"radialaxis\": {\"range\": [0, 2], \"visible\": true}}, \"polar4\": {\"angularaxis\": {\"direction\": \"clockwise\", \"rotation\": 90}, \"domain\": {\"x\": [0.55, 1.0], \"y\": [0.0, 0.425]}, \"radialaxis\": {\"range\": [0, 2], \"visible\": true}}, \"showlegend\": false, \"template\": {\"data\": {\"bar\": [{\"error_x\": {\"color\": \"#2a3f5f\"}, \"error_y\": {\"color\": \"#2a3f5f\"}, \"marker\": {\"line\": {\"color\": \"#E5ECF6\", \"width\": 0.5}}, \"type\": \"bar\"}], \"barpolar\": [{\"marker\": {\"line\": {\"color\": \"#E5ECF6\", \"width\": 0.5}}, \"type\": \"barpolar\"}], \"carpet\": [{\"aaxis\": {\"endlinecolor\": \"#2a3f5f\", \"gridcolor\": \"white\", \"linecolor\": \"white\", \"minorgridcolor\": \"white\", \"startlinecolor\": \"#2a3f5f\"}, \"baxis\": {\"endlinecolor\": \"#2a3f5f\", \"gridcolor\": \"white\", \"linecolor\": \"white\", \"minorgridcolor\": \"white\", \"startlinecolor\": \"#2a3f5f\"}, \"type\": \"carpet\"}], \"choropleth\": [{\"colorbar\": {\"outlinewidth\": 0, \"ticks\": \"\"}, \"type\": \"choropleth\"}], \"contour\": [{\"colorbar\": {\"outlinewidth\": 0, \"ticks\": \"\"}, \"colorscale\": [[0.0, \"#0d0887\"], [0.1111111111111111, \"#46039f\"], [0.2222222222222222, \"#7201a8\"], [0.3333333333333333, \"#9c179e\"], [0.4444444444444444, \"#bd3786\"], [0.5555555555555556, \"#d8576b\"], [0.6666666666666666, \"#ed7953\"], [0.7777777777777778, \"#fb9f3a\"], [0.8888888888888888, \"#fdca26\"], [1.0, \"#f0f921\"]], \"type\": \"contour\"}], \"contourcarpet\": [{\"colorbar\": {\"outlinewidth\": 0, \"ticks\": \"\"}, \"type\": \"contourcarpet\"}], \"heatmap\": [{\"colorbar\": {\"outlinewidth\": 0, \"ticks\": \"\"}, \"colorscale\": [[0.0, \"#0d0887\"], [0.1111111111111111, \"#46039f\"], [0.2222222222222222, \"#7201a8\"], [0.3333333333333333, \"#9c179e\"], [0.4444444444444444, \"#bd3786\"], [0.5555555555555556, \"#d8576b\"], [0.6666666666666666, \"#ed7953\"], [0.7777777777777778, \"#fb9f3a\"], [0.8888888888888888, \"#fdca26\"], [1.0, \"#f0f921\"]], \"type\": \"heatmap\"}], \"heatmapgl\": [{\"colorbar\": {\"outlinewidth\": 0, \"ticks\": \"\"}, \"colorscale\": [[0.0, \"#0d0887\"], [0.1111111111111111, \"#46039f\"], [0.2222222222222222, \"#7201a8\"], [0.3333333333333333, \"#9c179e\"], [0.4444444444444444, \"#bd3786\"], [0.5555555555555556, \"#d8576b\"], [0.6666666666666666, \"#ed7953\"], [0.7777777777777778, \"#fb9f3a\"], [0.8888888888888888, \"#fdca26\"], [1.0, \"#f0f921\"]], \"type\": \"heatmapgl\"}], \"histogram\": [{\"marker\": {\"colorbar\": {\"outlinewidth\": 0, \"ticks\": \"\"}}, \"type\": \"histogram\"}], \"histogram2d\": [{\"colorbar\": {\"outlinewidth\": 0, \"ticks\": \"\"}, \"colorscale\": [[0.0, \"#0d0887\"], [0.1111111111111111, \"#46039f\"], [0.2222222222222222, \"#7201a8\"], [0.3333333333333333, \"#9c179e\"], [0.4444444444444444, \"#bd3786\"], [0.5555555555555556, \"#d8576b\"], [0.6666666666666666, \"#ed7953\"], [0.7777777777777778, \"#fb9f3a\"], [0.8888888888888888, \"#fdca26\"], [1.0, \"#f0f921\"]], \"type\": \"histogram2d\"}], \"histogram2dcontour\": [{\"colorbar\": {\"outlinewidth\": 0, \"ticks\": \"\"}, \"colorscale\": [[0.0, \"#0d0887\"], [0.1111111111111111, \"#46039f\"], [0.2222222222222222, \"#7201a8\"], [0.3333333333333333, \"#9c179e\"], [0.4444444444444444, \"#bd3786\"], [0.5555555555555556, \"#d8576b\"], [0.6666666666666666, \"#ed7953\"], [0.7777777777777778, \"#fb9f3a\"], [0.8888888888888888, \"#fdca26\"], [1.0, \"#f0f921\"]], \"type\": \"histogram2dcontour\"}], \"mesh3d\": [{\"colorbar\": {\"outlinewidth\": 0, \"ticks\": \"\"}, \"type\": \"mesh3d\"}], \"parcoords\": [{\"line\": {\"colorbar\": {\"outlinewidth\": 0, \"ticks\": \"\"}}, \"type\": \"parcoords\"}], \"pie\": [{\"automargin\": true, \"type\": \"pie\"}], \"scatter\": [{\"marker\": {\"colorbar\": {\"outlinewidth\": 0, \"ticks\": \"\"}}, \"type\": \"scatter\"}], \"scatter3d\": [{\"line\": {\"colorbar\": {\"outlinewidth\": 0, \"ticks\": \"\"}}, \"marker\": {\"colorbar\": {\"outlinewidth\": 0, \"ticks\": \"\"}}, \"type\": \"scatter3d\"}], \"scattercarpet\": [{\"marker\": {\"colorbar\": {\"outlinewidth\": 0, \"ticks\": \"\"}}, \"type\": \"scattercarpet\"}], \"scattergeo\": [{\"marker\": {\"colorbar\": {\"outlinewidth\": 0, \"ticks\": \"\"}}, \"type\": \"scattergeo\"}], \"scattergl\": [{\"marker\": {\"colorbar\": {\"outlinewidth\": 0, \"ticks\": \"\"}}, \"type\": \"scattergl\"}], \"scattermapbox\": [{\"marker\": {\"colorbar\": {\"outlinewidth\": 0, \"ticks\": \"\"}}, \"type\": \"scattermapbox\"}], \"scatterpolar\": [{\"marker\": {\"colorbar\": {\"outlinewidth\": 0, \"ticks\": \"\"}}, \"type\": \"scatterpolar\"}], \"scatterpolargl\": [{\"marker\": {\"colorbar\": {\"outlinewidth\": 0, \"ticks\": \"\"}}, \"type\": \"scatterpolargl\"}], \"scatterternary\": [{\"marker\": {\"colorbar\": {\"outlinewidth\": 0, \"ticks\": \"\"}}, \"type\": \"scatterternary\"}], \"surface\": [{\"colorbar\": {\"outlinewidth\": 0, \"ticks\": \"\"}, \"colorscale\": [[0.0, \"#0d0887\"], [0.1111111111111111, \"#46039f\"], [0.2222222222222222, \"#7201a8\"], [0.3333333333333333, \"#9c179e\"], [0.4444444444444444, \"#bd3786\"], [0.5555555555555556, \"#d8576b\"], [0.6666666666666666, \"#ed7953\"], [0.7777777777777778, \"#fb9f3a\"], [0.8888888888888888, \"#fdca26\"], [1.0, \"#f0f921\"]], \"type\": \"surface\"}], \"table\": [{\"cells\": {\"fill\": {\"color\": \"#EBF0F8\"}, \"line\": {\"color\": \"white\"}}, \"header\": {\"fill\": {\"color\": \"#C8D4E3\"}, \"line\": {\"color\": \"white\"}}, \"type\": \"table\"}]}, \"layout\": {\"annotationdefaults\": {\"arrowcolor\": \"#2a3f5f\", \"arrowhead\": 0, \"arrowwidth\": 1}, \"coloraxis\": {\"colorbar\": {\"outlinewidth\": 0, \"ticks\": \"\"}}, \"colorscale\": {\"diverging\": [[0, \"#8e0152\"], [0.1, \"#c51b7d\"], [0.2, \"#de77ae\"], [0.3, \"#f1b6da\"], [0.4, \"#fde0ef\"], [0.5, \"#f7f7f7\"], [0.6, \"#e6f5d0\"], [0.7, \"#b8e186\"], [0.8, \"#7fbc41\"], [0.9, \"#4d9221\"], [1, \"#276419\"]], \"sequential\": [[0.0, \"#0d0887\"], [0.1111111111111111, \"#46039f\"], [0.2222222222222222, \"#7201a8\"], [0.3333333333333333, \"#9c179e\"], [0.4444444444444444, \"#bd3786\"], [0.5555555555555556, \"#d8576b\"], [0.6666666666666666, \"#ed7953\"], [0.7777777777777778, \"#fb9f3a\"], [0.8888888888888888, \"#fdca26\"], [1.0, \"#f0f921\"]], \"sequentialminus\": [[0.0, \"#0d0887\"], [0.1111111111111111, \"#46039f\"], [0.2222222222222222, \"#7201a8\"], [0.3333333333333333, \"#9c179e\"], [0.4444444444444444, \"#bd3786\"], [0.5555555555555556, \"#d8576b\"], [0.6666666666666666, \"#ed7953\"], [0.7777777777777778, \"#fb9f3a\"], [0.8888888888888888, \"#fdca26\"], [1.0, \"#f0f921\"]]}, \"colorway\": [\"#636efa\", \"#EF553B\", \"#00cc96\", \"#ab63fa\", \"#FFA15A\", \"#19d3f3\", \"#FF6692\", \"#B6E880\", \"#FF97FF\", \"#FECB52\"], \"font\": {\"color\": \"#2a3f5f\"}, \"geo\": {\"bgcolor\": \"white\", \"lakecolor\": \"white\", \"landcolor\": \"#E5ECF6\", \"showlakes\": true, \"showland\": true, \"subunitcolor\": \"white\"}, \"hoverlabel\": {\"align\": \"left\"}, \"hovermode\": \"closest\", \"mapbox\": {\"style\": \"light\"}, \"paper_bgcolor\": \"white\", \"plot_bgcolor\": \"#E5ECF6\", \"polar\": {\"angularaxis\": {\"gridcolor\": \"white\", \"linecolor\": \"white\", \"ticks\": \"\"}, \"bgcolor\": \"#E5ECF6\", \"radialaxis\": {\"gridcolor\": \"white\", \"linecolor\": \"white\", \"ticks\": \"\"}}, \"scene\": {\"xaxis\": {\"backgroundcolor\": \"#E5ECF6\", \"gridcolor\": \"white\", \"gridwidth\": 2, \"linecolor\": \"white\", \"showbackground\": true, \"ticks\": \"\", \"zerolinecolor\": \"white\"}, \"yaxis\": {\"backgroundcolor\": \"#E5ECF6\", \"gridcolor\": \"white\", \"gridwidth\": 2, \"linecolor\": \"white\", \"showbackground\": true, \"ticks\": \"\", \"zerolinecolor\": \"white\"}, \"zaxis\": {\"backgroundcolor\": \"#E5ECF6\", \"gridcolor\": \"white\", \"gridwidth\": 2, \"linecolor\": \"white\", \"showbackground\": true, \"ticks\": \"\", \"zerolinecolor\": \"white\"}}, \"shapedefaults\": {\"line\": {\"color\": \"#2a3f5f\"}}, \"ternary\": {\"aaxis\": {\"gridcolor\": \"white\", \"linecolor\": \"white\", \"ticks\": \"\"}, \"baxis\": {\"gridcolor\": \"white\", \"linecolor\": \"white\", \"ticks\": \"\"}, \"bgcolor\": \"#E5ECF6\", \"caxis\": {\"gridcolor\": \"white\", \"linecolor\": \"white\", \"ticks\": \"\"}}, \"title\": {\"x\": 0.05}, \"xaxis\": {\"automargin\": true, \"gridcolor\": \"white\", \"linecolor\": \"white\", \"ticks\": \"\", \"title\": {\"standoff\": 15}, \"zerolinecolor\": \"white\", \"zerolinewidth\": 2}, \"yaxis\": {\"automargin\": true, \"gridcolor\": \"white\", \"linecolor\": \"white\", \"ticks\": \"\", \"title\": {\"standoff\": 15}, \"zerolinecolor\": \"white\", \"zerolinewidth\": 2}}}, \"title\": {\"text\": \"Period II - without seaweed\"}, \"width\": 1050},                        {\"responsive\": true}                    ).then(function(){\n",
       "                            \n",
       "var gd = document.getElementById('3d59ab7a-b5e5-4150-bbe8-ed01c87420b7');\n",
       "var x = new MutationObserver(function (mutations, observer) {{\n",
       "        var display = window.getComputedStyle(gd).display;\n",
       "        if (!display || display === 'none') {{\n",
       "            console.log([gd, 'removed!']);\n",
       "            Plotly.purge(gd);\n",
       "            observer.disconnect();\n",
       "        }}\n",
       "}});\n",
       "\n",
       "// Listen for the removal of the full notebook cells\n",
       "var notebookContainer = gd.closest('#notebook-container');\n",
       "if (notebookContainer) {{\n",
       "    x.observe(notebookContainer, {childList: true});\n",
       "}}\n",
       "\n",
       "// Listen for the clearing of the current output cell\n",
       "var outputEl = gd.closest('.output');\n",
       "if (outputEl) {{\n",
       "    x.observe(outputEl, {childList: true});\n",
       "}}\n",
       "\n",
       "                        })                };                });            </script>        </div>"
      ]
     },
     "metadata": {},
     "output_type": "display_data"
    },
    {
     "name": "stdout",
     "output_type": "stream",
     "text": [
      "III-BCS \n",
      "-------\n",
      " Protein                     99.372681\n",
      "Fat total                   62.446030\n",
      "Saturated fats               7.328228\n",
      "Trans fats                   0.134050\n",
      "Carbohydrates              300.162304\n",
      "Fiber                       49.970570\n",
      "Sugars                      32.377505\n",
      "Vitamin A                  616.970676\n",
      "Vitamin E                13501.590952\n",
      "Vitamin D                    1.496139\n",
      "Vitamin C                  119.256001\n",
      "Thiamine (B1)                2.547694\n",
      "Riboflavin (B2)              5.400171\n",
      "Niacin (B3)                 27.102394\n",
      "Vitamin B6                   1.920850\n",
      "Vitamin B12                  1.085907\n",
      "Vitamin K                  130.851440\n",
      "Folate (B9)                967.459089\n",
      "Pantothenic Acid (B5)        7.249519\n",
      "Calcium                    735.925934\n",
      "Iron                        59.637580\n",
      "Magnesium                 1169.375949\n",
      "Phosphorus                1981.706306\n",
      "Potassium                 6091.605795\n",
      "Sodium                    3277.409894\n",
      "Zinc                        12.946773\n",
      "Copper                    7160.884202\n",
      "Manganese                   10.528815\n",
      "Selenium                    64.693783\n",
      "Iodine                   13292.060580\n",
      "Chromium                     0.000000\n",
      "Molybdenum                   0.000000\n",
      "Histidine                    2.298000\n",
      "Isoleucine                   4.207966\n",
      "Leucine                      7.779525\n",
      "Lysine                       5.012938\n",
      "Methionine                   1.979323\n",
      "Cysteine                     1.383719\n",
      "Phenylalanine                4.722820\n",
      "Tyrosine                     3.346675\n",
      "Threonine                    3.998120\n",
      "Tryptophan                   1.544565\n",
      "Valine                       5.380436\n",
      "Omega-3 (ALA)                4.357460\n",
      "Omega-6 (LA)                17.378309\n",
      "dtype: float64\n",
      "AI ['Fat total', 'Saturated fats', 'Trans fats', 'Carbohydrates', 'Fiber', 'Sugars', 'Vitamin C', 'Thiamine (B1)', 'Riboflavin (B2)', 'Niacin (B3)', 'Vitamin B6', 'Vitamin K', 'Folate (B9)', 'Pantothenic Acid (B5)', 'Magnesium', 'Phosphorus', 'Potassium', 'Zinc', 'Manganese', 'Histidine', 'Isoleucine', 'Leucine', 'Lysine', 'Methionine', 'Valine', 'Omega-6 (LA)'] \n",
      "\n",
      "MRAI ['Protein 126%', 'Vitamin A 88%', 'Vitamin E 90%', 'Vitamin B12 27%', 'Calcium 74%', 'Iron 133%', 'Sodium 142%', 'Copper 143%', 'Selenium 92%', 'Cysteine 139%', 'Phenylalanine 127%', 'Tyrosine 337%', 'Threonine 107%', 'Tryptophan 156%', 'Omega-3 (ALA) 156%'] \n",
      "\n",
      "SRAI ['Vitamin D 10%', 'Iodine 2215%'] \n",
      "\n",
      "Danger ['Chromium 0%', 'Molybdenum 0%']\n"
     ]
    },
    {
     "data": {
      "application/vnd.plotly.v1+json": {
       "config": {
        "plotlyServerURL": "https://plot.ly"
       },
       "data": [
        {
         "line": {
          "color": "#00CC96"
         },
         "name": "% lower adequate intake",
         "r": [
          1,
          1,
          1,
          1,
          1,
          1,
          1,
          1,
          1,
          1
         ],
         "subplot": "polar",
         "theta": [
          "Protein",
          "Fat total",
          "Saturated fats",
          "Trans fats",
          "Omega-3 (ALA)",
          "Omega-6 (LA)",
          "Carbohydrates",
          "Fiber",
          "Sugars",
          "Protein"
         ],
         "type": "scatterpolar"
        },
        {
         "line": {
          "color": "#EF553B"
         },
         "name": "% upper adequate intake",
         "r": [
          1.2618753202285715,
          0.8920861428789286,
          0.3141117870992285,
          0.058282510330434786,
          1.556235831360625,
          0.930814625085565,
          0.7504057606456249,
          0.7138652865157143,
          0.6167143860536191,
          1.2618753202285715
         ],
         "subplot": "polar",
         "theta": [
          "Protein",
          "Fat total",
          "Saturated fats",
          "Trans fats",
          "Omega-3 (ALA)",
          "Omega-6 (LA)",
          "Carbohydrates",
          "Fiber",
          "Sugars",
          "Protein"
         ],
         "type": "scatterpolar"
        },
        {
         "line": {
          "color": "#00CC96"
         },
         "name": "% lower adequate intake",
         "r": [
          0.881386679387,
          0.9001060634350001,
          0.09974259975000001,
          1,
          1,
          1,
          1,
          1,
          0.27147683396875,
          1,
          1,
          1,
          0.881386679387
         ],
         "subplot": "polar2",
         "theta": [
          "Vitamin A",
          "Vitamin E",
          "Vitamin D",
          "Vitamin C",
          "Thiamine (B1)",
          "Riboflavin (B2)",
          "Niacin (B3)",
          "Vitamin B6",
          "Vitamin B12",
          "Vitamin K",
          "Folate (B9)",
          "Pantothenic Acid (B5)",
          "Vitamin A"
         ],
         "type": "scatterpolar"
        },
        {
         "line": {
          "color": "#EF553B"
         },
         "name": "% upper adequate intake",
         "r": [
          0.20565689185696664,
          0.04500530317175001,
          0.005984555985,
          0.059628000377625,
          2.54769427712e-99,
          5.40017115735e-99,
          0.7743541135857143,
          0.07683398795255,
          0.043436293435,
          1.3085143970091e-97,
          0.9674590890545001,
          0.36247595626500007,
          0.20565689185696664
         ],
         "subplot": "polar2",
         "theta": [
          "Vitamin A",
          "Vitamin E",
          "Vitamin D",
          "Vitamin C",
          "Thiamine (B1)",
          "Riboflavin (B2)",
          "Niacin (B3)",
          "Vitamin B6",
          "Vitamin B12",
          "Vitamin K",
          "Folate (B9)",
          "Pantothenic Acid (B5)",
          "Vitamin A"
         ],
         "type": "scatterpolar"
        },
        {
         "line": {
          "color": "#00CC96"
         },
         "name": "% lower adequate intake",
         "r": [
          0.7359259337425,
          1,
          1,
          1,
          1,
          1,
          1,
          1,
          1,
          0.9241969068125,
          1,
          0.7359259337425
         ],
         "subplot": "polar3",
         "theta": [
          "Calcium",
          "Iron",
          "Magnesium",
          "Phosphorus",
          "Potassium",
          "Sodium",
          "Zinc",
          "Copper",
          "Manganese",
          "Selenium",
          "Iodine",
          "Calcium"
         ],
         "type": "scatterpolar"
        },
        {
         "line": {
          "color": "#EF553B"
         },
         "name": "% upper adequate intake",
         "r": [
          0.294370373497,
          1.3252795514644444,
          1.1693759492734998e-96,
          0.49542657638125004,
          0.8702293992907143,
          1.4249608234810867,
          0.517870925366,
          1.432176840394,
          0.9571649786340909,
          0.21564594492291667,
          22.153434299978002,
          0.294370373497
         ],
         "subplot": "polar3",
         "theta": [
          "Calcium",
          "Iron",
          "Magnesium",
          "Phosphorus",
          "Potassium",
          "Sodium",
          "Zinc",
          "Copper",
          "Manganese",
          "Selenium",
          "Iodine",
          "Calcium"
         ],
         "type": "scatterpolar"
        },
        {
         "line": {
          "color": "#00CC96"
         },
         "name": "% lower adequate intake",
         "r": [
          1,
          1,
          1,
          1,
          1,
          1,
          1,
          1,
          1,
          1,
          1,
          1
         ],
         "subplot": "polar4",
         "theta": [
          "Histidine",
          "Isoleucine",
          "Leucine",
          "Lysine",
          "Methionine",
          "Cysteine",
          "Phenylalanine",
          "Tyrosine",
          "Threonine",
          "Tryptophan",
          "Valine",
          "Histidine"
         ],
         "type": "scatterpolar"
        },
        {
         "line": {
          "color": "#EF553B"
         },
         "name": "% upper adequate intake",
         "r": [
          0.9266129486633067,
          0.8483802761199597,
          0.8043347000284325,
          0.673781987501344,
          0.798114301126008,
          1.3948778608240928,
          1.2695753116801076,
          3.3736643972580644,
          1.0747634845819893,
          1.5570215820085687,
          0.834434938519696,
          0.9266129486633067
         ],
         "subplot": "polar4",
         "theta": [
          "Histidine",
          "Isoleucine",
          "Leucine",
          "Lysine",
          "Methionine",
          "Cysteine",
          "Phenylalanine",
          "Tyrosine",
          "Threonine",
          "Tryptophan",
          "Valine",
          "Histidine"
         ],
         "type": "scatterpolar"
        }
       ],
       "layout": {
        "height": 800,
        "polar": {
         "angularaxis": {
          "direction": "clockwise",
          "rotation": 90
         },
         "domain": {
          "x": [
           0,
           0.45
          ],
          "y": [
           0.575,
           1
          ]
         },
         "radialaxis": {
          "range": [
           0,
           2
          ],
          "visible": true
         }
        },
        "polar2": {
         "angularaxis": {
          "direction": "clockwise",
          "rotation": 90
         },
         "domain": {
          "x": [
           0.55,
           1
          ],
          "y": [
           0.575,
           1
          ]
         },
         "radialaxis": {
          "range": [
           0,
           2
          ],
          "visible": true
         }
        },
        "polar3": {
         "angularaxis": {
          "direction": "clockwise",
          "rotation": 90
         },
         "domain": {
          "x": [
           0,
           0.45
          ],
          "y": [
           0,
           0.425
          ]
         },
         "radialaxis": {
          "range": [
           0,
           2
          ],
          "visible": true
         }
        },
        "polar4": {
         "angularaxis": {
          "direction": "clockwise",
          "rotation": 90
         },
         "domain": {
          "x": [
           0.55,
           1
          ],
          "y": [
           0,
           0.425
          ]
         },
         "radialaxis": {
          "range": [
           0,
           2
          ],
          "visible": true
         }
        },
        "showlegend": false,
        "template": {
         "data": {
          "bar": [
           {
            "error_x": {
             "color": "#2a3f5f"
            },
            "error_y": {
             "color": "#2a3f5f"
            },
            "marker": {
             "line": {
              "color": "#E5ECF6",
              "width": 0.5
             }
            },
            "type": "bar"
           }
          ],
          "barpolar": [
           {
            "marker": {
             "line": {
              "color": "#E5ECF6",
              "width": 0.5
             }
            },
            "type": "barpolar"
           }
          ],
          "carpet": [
           {
            "aaxis": {
             "endlinecolor": "#2a3f5f",
             "gridcolor": "white",
             "linecolor": "white",
             "minorgridcolor": "white",
             "startlinecolor": "#2a3f5f"
            },
            "baxis": {
             "endlinecolor": "#2a3f5f",
             "gridcolor": "white",
             "linecolor": "white",
             "minorgridcolor": "white",
             "startlinecolor": "#2a3f5f"
            },
            "type": "carpet"
           }
          ],
          "choropleth": [
           {
            "colorbar": {
             "outlinewidth": 0,
             "ticks": ""
            },
            "type": "choropleth"
           }
          ],
          "contour": [
           {
            "colorbar": {
             "outlinewidth": 0,
             "ticks": ""
            },
            "colorscale": [
             [
              0,
              "#0d0887"
             ],
             [
              0.1111111111111111,
              "#46039f"
             ],
             [
              0.2222222222222222,
              "#7201a8"
             ],
             [
              0.3333333333333333,
              "#9c179e"
             ],
             [
              0.4444444444444444,
              "#bd3786"
             ],
             [
              0.5555555555555556,
              "#d8576b"
             ],
             [
              0.6666666666666666,
              "#ed7953"
             ],
             [
              0.7777777777777778,
              "#fb9f3a"
             ],
             [
              0.8888888888888888,
              "#fdca26"
             ],
             [
              1,
              "#f0f921"
             ]
            ],
            "type": "contour"
           }
          ],
          "contourcarpet": [
           {
            "colorbar": {
             "outlinewidth": 0,
             "ticks": ""
            },
            "type": "contourcarpet"
           }
          ],
          "heatmap": [
           {
            "colorbar": {
             "outlinewidth": 0,
             "ticks": ""
            },
            "colorscale": [
             [
              0,
              "#0d0887"
             ],
             [
              0.1111111111111111,
              "#46039f"
             ],
             [
              0.2222222222222222,
              "#7201a8"
             ],
             [
              0.3333333333333333,
              "#9c179e"
             ],
             [
              0.4444444444444444,
              "#bd3786"
             ],
             [
              0.5555555555555556,
              "#d8576b"
             ],
             [
              0.6666666666666666,
              "#ed7953"
             ],
             [
              0.7777777777777778,
              "#fb9f3a"
             ],
             [
              0.8888888888888888,
              "#fdca26"
             ],
             [
              1,
              "#f0f921"
             ]
            ],
            "type": "heatmap"
           }
          ],
          "heatmapgl": [
           {
            "colorbar": {
             "outlinewidth": 0,
             "ticks": ""
            },
            "colorscale": [
             [
              0,
              "#0d0887"
             ],
             [
              0.1111111111111111,
              "#46039f"
             ],
             [
              0.2222222222222222,
              "#7201a8"
             ],
             [
              0.3333333333333333,
              "#9c179e"
             ],
             [
              0.4444444444444444,
              "#bd3786"
             ],
             [
              0.5555555555555556,
              "#d8576b"
             ],
             [
              0.6666666666666666,
              "#ed7953"
             ],
             [
              0.7777777777777778,
              "#fb9f3a"
             ],
             [
              0.8888888888888888,
              "#fdca26"
             ],
             [
              1,
              "#f0f921"
             ]
            ],
            "type": "heatmapgl"
           }
          ],
          "histogram": [
           {
            "marker": {
             "colorbar": {
              "outlinewidth": 0,
              "ticks": ""
             }
            },
            "type": "histogram"
           }
          ],
          "histogram2d": [
           {
            "colorbar": {
             "outlinewidth": 0,
             "ticks": ""
            },
            "colorscale": [
             [
              0,
              "#0d0887"
             ],
             [
              0.1111111111111111,
              "#46039f"
             ],
             [
              0.2222222222222222,
              "#7201a8"
             ],
             [
              0.3333333333333333,
              "#9c179e"
             ],
             [
              0.4444444444444444,
              "#bd3786"
             ],
             [
              0.5555555555555556,
              "#d8576b"
             ],
             [
              0.6666666666666666,
              "#ed7953"
             ],
             [
              0.7777777777777778,
              "#fb9f3a"
             ],
             [
              0.8888888888888888,
              "#fdca26"
             ],
             [
              1,
              "#f0f921"
             ]
            ],
            "type": "histogram2d"
           }
          ],
          "histogram2dcontour": [
           {
            "colorbar": {
             "outlinewidth": 0,
             "ticks": ""
            },
            "colorscale": [
             [
              0,
              "#0d0887"
             ],
             [
              0.1111111111111111,
              "#46039f"
             ],
             [
              0.2222222222222222,
              "#7201a8"
             ],
             [
              0.3333333333333333,
              "#9c179e"
             ],
             [
              0.4444444444444444,
              "#bd3786"
             ],
             [
              0.5555555555555556,
              "#d8576b"
             ],
             [
              0.6666666666666666,
              "#ed7953"
             ],
             [
              0.7777777777777778,
              "#fb9f3a"
             ],
             [
              0.8888888888888888,
              "#fdca26"
             ],
             [
              1,
              "#f0f921"
             ]
            ],
            "type": "histogram2dcontour"
           }
          ],
          "mesh3d": [
           {
            "colorbar": {
             "outlinewidth": 0,
             "ticks": ""
            },
            "type": "mesh3d"
           }
          ],
          "parcoords": [
           {
            "line": {
             "colorbar": {
              "outlinewidth": 0,
              "ticks": ""
             }
            },
            "type": "parcoords"
           }
          ],
          "pie": [
           {
            "automargin": true,
            "type": "pie"
           }
          ],
          "scatter": [
           {
            "marker": {
             "colorbar": {
              "outlinewidth": 0,
              "ticks": ""
             }
            },
            "type": "scatter"
           }
          ],
          "scatter3d": [
           {
            "line": {
             "colorbar": {
              "outlinewidth": 0,
              "ticks": ""
             }
            },
            "marker": {
             "colorbar": {
              "outlinewidth": 0,
              "ticks": ""
             }
            },
            "type": "scatter3d"
           }
          ],
          "scattercarpet": [
           {
            "marker": {
             "colorbar": {
              "outlinewidth": 0,
              "ticks": ""
             }
            },
            "type": "scattercarpet"
           }
          ],
          "scattergeo": [
           {
            "marker": {
             "colorbar": {
              "outlinewidth": 0,
              "ticks": ""
             }
            },
            "type": "scattergeo"
           }
          ],
          "scattergl": [
           {
            "marker": {
             "colorbar": {
              "outlinewidth": 0,
              "ticks": ""
             }
            },
            "type": "scattergl"
           }
          ],
          "scattermapbox": [
           {
            "marker": {
             "colorbar": {
              "outlinewidth": 0,
              "ticks": ""
             }
            },
            "type": "scattermapbox"
           }
          ],
          "scatterpolar": [
           {
            "marker": {
             "colorbar": {
              "outlinewidth": 0,
              "ticks": ""
             }
            },
            "type": "scatterpolar"
           }
          ],
          "scatterpolargl": [
           {
            "marker": {
             "colorbar": {
              "outlinewidth": 0,
              "ticks": ""
             }
            },
            "type": "scatterpolargl"
           }
          ],
          "scatterternary": [
           {
            "marker": {
             "colorbar": {
              "outlinewidth": 0,
              "ticks": ""
             }
            },
            "type": "scatterternary"
           }
          ],
          "surface": [
           {
            "colorbar": {
             "outlinewidth": 0,
             "ticks": ""
            },
            "colorscale": [
             [
              0,
              "#0d0887"
             ],
             [
              0.1111111111111111,
              "#46039f"
             ],
             [
              0.2222222222222222,
              "#7201a8"
             ],
             [
              0.3333333333333333,
              "#9c179e"
             ],
             [
              0.4444444444444444,
              "#bd3786"
             ],
             [
              0.5555555555555556,
              "#d8576b"
             ],
             [
              0.6666666666666666,
              "#ed7953"
             ],
             [
              0.7777777777777778,
              "#fb9f3a"
             ],
             [
              0.8888888888888888,
              "#fdca26"
             ],
             [
              1,
              "#f0f921"
             ]
            ],
            "type": "surface"
           }
          ],
          "table": [
           {
            "cells": {
             "fill": {
              "color": "#EBF0F8"
             },
             "line": {
              "color": "white"
             }
            },
            "header": {
             "fill": {
              "color": "#C8D4E3"
             },
             "line": {
              "color": "white"
             }
            },
            "type": "table"
           }
          ]
         },
         "layout": {
          "annotationdefaults": {
           "arrowcolor": "#2a3f5f",
           "arrowhead": 0,
           "arrowwidth": 1
          },
          "coloraxis": {
           "colorbar": {
            "outlinewidth": 0,
            "ticks": ""
           }
          },
          "colorscale": {
           "diverging": [
            [
             0,
             "#8e0152"
            ],
            [
             0.1,
             "#c51b7d"
            ],
            [
             0.2,
             "#de77ae"
            ],
            [
             0.3,
             "#f1b6da"
            ],
            [
             0.4,
             "#fde0ef"
            ],
            [
             0.5,
             "#f7f7f7"
            ],
            [
             0.6,
             "#e6f5d0"
            ],
            [
             0.7,
             "#b8e186"
            ],
            [
             0.8,
             "#7fbc41"
            ],
            [
             0.9,
             "#4d9221"
            ],
            [
             1,
             "#276419"
            ]
           ],
           "sequential": [
            [
             0,
             "#0d0887"
            ],
            [
             0.1111111111111111,
             "#46039f"
            ],
            [
             0.2222222222222222,
             "#7201a8"
            ],
            [
             0.3333333333333333,
             "#9c179e"
            ],
            [
             0.4444444444444444,
             "#bd3786"
            ],
            [
             0.5555555555555556,
             "#d8576b"
            ],
            [
             0.6666666666666666,
             "#ed7953"
            ],
            [
             0.7777777777777778,
             "#fb9f3a"
            ],
            [
             0.8888888888888888,
             "#fdca26"
            ],
            [
             1,
             "#f0f921"
            ]
           ],
           "sequentialminus": [
            [
             0,
             "#0d0887"
            ],
            [
             0.1111111111111111,
             "#46039f"
            ],
            [
             0.2222222222222222,
             "#7201a8"
            ],
            [
             0.3333333333333333,
             "#9c179e"
            ],
            [
             0.4444444444444444,
             "#bd3786"
            ],
            [
             0.5555555555555556,
             "#d8576b"
            ],
            [
             0.6666666666666666,
             "#ed7953"
            ],
            [
             0.7777777777777778,
             "#fb9f3a"
            ],
            [
             0.8888888888888888,
             "#fdca26"
            ],
            [
             1,
             "#f0f921"
            ]
           ]
          },
          "colorway": [
           "#636efa",
           "#EF553B",
           "#00cc96",
           "#ab63fa",
           "#FFA15A",
           "#19d3f3",
           "#FF6692",
           "#B6E880",
           "#FF97FF",
           "#FECB52"
          ],
          "font": {
           "color": "#2a3f5f"
          },
          "geo": {
           "bgcolor": "white",
           "lakecolor": "white",
           "landcolor": "#E5ECF6",
           "showlakes": true,
           "showland": true,
           "subunitcolor": "white"
          },
          "hoverlabel": {
           "align": "left"
          },
          "hovermode": "closest",
          "mapbox": {
           "style": "light"
          },
          "paper_bgcolor": "white",
          "plot_bgcolor": "#E5ECF6",
          "polar": {
           "angularaxis": {
            "gridcolor": "white",
            "linecolor": "white",
            "ticks": ""
           },
           "bgcolor": "#E5ECF6",
           "radialaxis": {
            "gridcolor": "white",
            "linecolor": "white",
            "ticks": ""
           }
          },
          "scene": {
           "xaxis": {
            "backgroundcolor": "#E5ECF6",
            "gridcolor": "white",
            "gridwidth": 2,
            "linecolor": "white",
            "showbackground": true,
            "ticks": "",
            "zerolinecolor": "white"
           },
           "yaxis": {
            "backgroundcolor": "#E5ECF6",
            "gridcolor": "white",
            "gridwidth": 2,
            "linecolor": "white",
            "showbackground": true,
            "ticks": "",
            "zerolinecolor": "white"
           },
           "zaxis": {
            "backgroundcolor": "#E5ECF6",
            "gridcolor": "white",
            "gridwidth": 2,
            "linecolor": "white",
            "showbackground": true,
            "ticks": "",
            "zerolinecolor": "white"
           }
          },
          "shapedefaults": {
           "line": {
            "color": "#2a3f5f"
           }
          },
          "ternary": {
           "aaxis": {
            "gridcolor": "white",
            "linecolor": "white",
            "ticks": ""
           },
           "baxis": {
            "gridcolor": "white",
            "linecolor": "white",
            "ticks": ""
           },
           "bgcolor": "#E5ECF6",
           "caxis": {
            "gridcolor": "white",
            "linecolor": "white",
            "ticks": ""
           }
          },
          "title": {
           "x": 0.05
          },
          "xaxis": {
           "automargin": true,
           "gridcolor": "white",
           "linecolor": "white",
           "ticks": "",
           "title": {
            "standoff": 15
           },
           "zerolinecolor": "white",
           "zerolinewidth": 2
          },
          "yaxis": {
           "automargin": true,
           "gridcolor": "white",
           "linecolor": "white",
           "ticks": "",
           "title": {
            "standoff": 15
           },
           "zerolinecolor": "white",
           "zerolinewidth": 2
          }
         }
        },
        "title": {
         "text": "Period III - optimistic scenario"
        },
        "width": 1050
       }
      },
      "text/html": [
       "<div>                            <div id=\"894d623e-d140-40b5-975d-11cc973ad1b1\" class=\"plotly-graph-div\" style=\"height:800px; width:1050px;\"></div>            <script type=\"text/javascript\">                require([\"plotly\"], function(Plotly) {                    window.PLOTLYENV=window.PLOTLYENV || {};                                    if (document.getElementById(\"894d623e-d140-40b5-975d-11cc973ad1b1\")) {                    Plotly.newPlot(                        \"894d623e-d140-40b5-975d-11cc973ad1b1\",                        [{\"line\": {\"color\": \"#00CC96\"}, \"name\": \"% lower adequate intake\", \"r\": [1.0, 1.0, 1.0, 1.0, 1.0, 1.0, 1.0, 1.0, 1.0, 1.0], \"subplot\": \"polar\", \"theta\": [\"Protein\", \"Fat total\", \"Saturated fats\", \"Trans fats\", \"Omega-3 (ALA)\", \"Omega-6 (LA)\", \"Carbohydrates\", \"Fiber\", \"Sugars\", \"Protein\"], \"type\": \"scatterpolar\"}, {\"line\": {\"color\": \"#EF553B\"}, \"name\": \"% upper adequate intake\", \"r\": [1.2618753202285715, 0.8920861428789286, 0.3141117870992285, 0.058282510330434786, 1.556235831360625, 0.930814625085565, 0.7504057606456249, 0.7138652865157143, 0.6167143860536191, 1.2618753202285715], \"subplot\": \"polar\", \"theta\": [\"Protein\", \"Fat total\", \"Saturated fats\", \"Trans fats\", \"Omega-3 (ALA)\", \"Omega-6 (LA)\", \"Carbohydrates\", \"Fiber\", \"Sugars\", \"Protein\"], \"type\": \"scatterpolar\"}, {\"line\": {\"color\": \"#00CC96\"}, \"name\": \"% lower adequate intake\", \"r\": [0.881386679387, 0.9001060634350001, 0.09974259975000001, 1.0, 1.0, 1.0, 1.0, 1.0, 0.27147683396875, 1.0, 1.0, 1.0, 0.881386679387], \"subplot\": \"polar2\", \"theta\": [\"Vitamin A\", \"Vitamin E\", \"Vitamin D\", \"Vitamin C\", \"Thiamine (B1)\", \"Riboflavin (B2)\", \"Niacin (B3)\", \"Vitamin B6\", \"Vitamin B12\", \"Vitamin K\", \"Folate (B9)\", \"Pantothenic Acid (B5)\", \"Vitamin A\"], \"type\": \"scatterpolar\"}, {\"line\": {\"color\": \"#EF553B\"}, \"name\": \"% upper adequate intake\", \"r\": [0.20565689185696664, 0.04500530317175001, 0.005984555985, 0.059628000377625, 2.54769427712e-99, 5.40017115735e-99, 0.7743541135857143, 0.07683398795255, 0.043436293435, 1.3085143970091e-97, 0.9674590890545001, 0.36247595626500007, 0.20565689185696664], \"subplot\": \"polar2\", \"theta\": [\"Vitamin A\", \"Vitamin E\", \"Vitamin D\", \"Vitamin C\", \"Thiamine (B1)\", \"Riboflavin (B2)\", \"Niacin (B3)\", \"Vitamin B6\", \"Vitamin B12\", \"Vitamin K\", \"Folate (B9)\", \"Pantothenic Acid (B5)\", \"Vitamin A\"], \"type\": \"scatterpolar\"}, {\"line\": {\"color\": \"#00CC96\"}, \"name\": \"% lower adequate intake\", \"r\": [0.7359259337425, 1.0, 1.0, 1.0, 1.0, 1.0, 1.0, 1.0, 1.0, 0.9241969068125, 1.0, 0.7359259337425], \"subplot\": \"polar3\", \"theta\": [\"Calcium\", \"Iron\", \"Magnesium\", \"Phosphorus\", \"Potassium\", \"Sodium\", \"Zinc\", \"Copper\", \"Manganese\", \"Selenium\", \"Iodine\", \"Calcium\"], \"type\": \"scatterpolar\"}, {\"line\": {\"color\": \"#EF553B\"}, \"name\": \"% upper adequate intake\", \"r\": [0.294370373497, 1.3252795514644444, 1.1693759492734998e-96, 0.49542657638125004, 0.8702293992907143, 1.4249608234810867, 0.517870925366, 1.432176840394, 0.9571649786340909, 0.21564594492291667, 22.153434299978002, 0.294370373497], \"subplot\": \"polar3\", \"theta\": [\"Calcium\", \"Iron\", \"Magnesium\", \"Phosphorus\", \"Potassium\", \"Sodium\", \"Zinc\", \"Copper\", \"Manganese\", \"Selenium\", \"Iodine\", \"Calcium\"], \"type\": \"scatterpolar\"}, {\"line\": {\"color\": \"#00CC96\"}, \"name\": \"% lower adequate intake\", \"r\": [1.0, 1.0, 1.0, 1.0, 1.0, 1.0, 1.0, 1.0, 1.0, 1.0, 1.0, 1.0], \"subplot\": \"polar4\", \"theta\": [\"Histidine\", \"Isoleucine\", \"Leucine\", \"Lysine\", \"Methionine\", \"Cysteine\", \"Phenylalanine\", \"Tyrosine\", \"Threonine\", \"Tryptophan\", \"Valine\", \"Histidine\"], \"type\": \"scatterpolar\"}, {\"line\": {\"color\": \"#EF553B\"}, \"name\": \"% upper adequate intake\", \"r\": [0.9266129486633067, 0.8483802761199597, 0.8043347000284325, 0.673781987501344, 0.798114301126008, 1.3948778608240928, 1.2695753116801076, 3.3736643972580644, 1.0747634845819893, 1.5570215820085687, 0.834434938519696, 0.9266129486633067], \"subplot\": \"polar4\", \"theta\": [\"Histidine\", \"Isoleucine\", \"Leucine\", \"Lysine\", \"Methionine\", \"Cysteine\", \"Phenylalanine\", \"Tyrosine\", \"Threonine\", \"Tryptophan\", \"Valine\", \"Histidine\"], \"type\": \"scatterpolar\"}],                        {\"height\": 800, \"polar\": {\"angularaxis\": {\"direction\": \"clockwise\", \"rotation\": 90}, \"domain\": {\"x\": [0.0, 0.45], \"y\": [0.575, 1.0]}, \"radialaxis\": {\"range\": [0, 2], \"visible\": true}}, \"polar2\": {\"angularaxis\": {\"direction\": \"clockwise\", \"rotation\": 90}, \"domain\": {\"x\": [0.55, 1.0], \"y\": [0.575, 1.0]}, \"radialaxis\": {\"range\": [0, 2], \"visible\": true}}, \"polar3\": {\"angularaxis\": {\"direction\": \"clockwise\", \"rotation\": 90}, \"domain\": {\"x\": [0.0, 0.45], \"y\": [0.0, 0.425]}, \"radialaxis\": {\"range\": [0, 2], \"visible\": true}}, \"polar4\": {\"angularaxis\": {\"direction\": \"clockwise\", \"rotation\": 90}, \"domain\": {\"x\": [0.55, 1.0], \"y\": [0.0, 0.425]}, \"radialaxis\": {\"range\": [0, 2], \"visible\": true}}, \"showlegend\": false, \"template\": {\"data\": {\"bar\": [{\"error_x\": {\"color\": \"#2a3f5f\"}, \"error_y\": {\"color\": \"#2a3f5f\"}, \"marker\": {\"line\": {\"color\": \"#E5ECF6\", \"width\": 0.5}}, \"type\": \"bar\"}], \"barpolar\": [{\"marker\": {\"line\": {\"color\": \"#E5ECF6\", \"width\": 0.5}}, \"type\": \"barpolar\"}], \"carpet\": [{\"aaxis\": {\"endlinecolor\": \"#2a3f5f\", \"gridcolor\": \"white\", \"linecolor\": \"white\", \"minorgridcolor\": \"white\", \"startlinecolor\": \"#2a3f5f\"}, \"baxis\": {\"endlinecolor\": \"#2a3f5f\", \"gridcolor\": \"white\", \"linecolor\": \"white\", \"minorgridcolor\": \"white\", \"startlinecolor\": \"#2a3f5f\"}, \"type\": \"carpet\"}], \"choropleth\": [{\"colorbar\": {\"outlinewidth\": 0, \"ticks\": \"\"}, \"type\": \"choropleth\"}], \"contour\": [{\"colorbar\": {\"outlinewidth\": 0, \"ticks\": \"\"}, \"colorscale\": [[0.0, \"#0d0887\"], [0.1111111111111111, \"#46039f\"], [0.2222222222222222, \"#7201a8\"], [0.3333333333333333, \"#9c179e\"], [0.4444444444444444, \"#bd3786\"], [0.5555555555555556, \"#d8576b\"], [0.6666666666666666, \"#ed7953\"], [0.7777777777777778, \"#fb9f3a\"], [0.8888888888888888, \"#fdca26\"], [1.0, \"#f0f921\"]], \"type\": \"contour\"}], \"contourcarpet\": [{\"colorbar\": {\"outlinewidth\": 0, \"ticks\": \"\"}, \"type\": \"contourcarpet\"}], \"heatmap\": [{\"colorbar\": {\"outlinewidth\": 0, \"ticks\": \"\"}, \"colorscale\": [[0.0, \"#0d0887\"], [0.1111111111111111, \"#46039f\"], [0.2222222222222222, \"#7201a8\"], [0.3333333333333333, \"#9c179e\"], [0.4444444444444444, \"#bd3786\"], [0.5555555555555556, \"#d8576b\"], [0.6666666666666666, \"#ed7953\"], [0.7777777777777778, \"#fb9f3a\"], [0.8888888888888888, \"#fdca26\"], [1.0, \"#f0f921\"]], \"type\": \"heatmap\"}], \"heatmapgl\": [{\"colorbar\": {\"outlinewidth\": 0, \"ticks\": \"\"}, \"colorscale\": [[0.0, \"#0d0887\"], [0.1111111111111111, \"#46039f\"], [0.2222222222222222, \"#7201a8\"], [0.3333333333333333, \"#9c179e\"], [0.4444444444444444, \"#bd3786\"], [0.5555555555555556, \"#d8576b\"], [0.6666666666666666, \"#ed7953\"], [0.7777777777777778, \"#fb9f3a\"], [0.8888888888888888, \"#fdca26\"], [1.0, \"#f0f921\"]], \"type\": \"heatmapgl\"}], \"histogram\": [{\"marker\": {\"colorbar\": {\"outlinewidth\": 0, \"ticks\": \"\"}}, \"type\": \"histogram\"}], \"histogram2d\": [{\"colorbar\": {\"outlinewidth\": 0, \"ticks\": \"\"}, \"colorscale\": [[0.0, \"#0d0887\"], [0.1111111111111111, \"#46039f\"], [0.2222222222222222, \"#7201a8\"], [0.3333333333333333, \"#9c179e\"], [0.4444444444444444, \"#bd3786\"], [0.5555555555555556, \"#d8576b\"], [0.6666666666666666, \"#ed7953\"], [0.7777777777777778, \"#fb9f3a\"], [0.8888888888888888, \"#fdca26\"], [1.0, \"#f0f921\"]], \"type\": \"histogram2d\"}], \"histogram2dcontour\": [{\"colorbar\": {\"outlinewidth\": 0, \"ticks\": \"\"}, \"colorscale\": [[0.0, \"#0d0887\"], [0.1111111111111111, \"#46039f\"], [0.2222222222222222, \"#7201a8\"], [0.3333333333333333, \"#9c179e\"], [0.4444444444444444, \"#bd3786\"], [0.5555555555555556, \"#d8576b\"], [0.6666666666666666, \"#ed7953\"], [0.7777777777777778, \"#fb9f3a\"], [0.8888888888888888, \"#fdca26\"], [1.0, \"#f0f921\"]], \"type\": \"histogram2dcontour\"}], \"mesh3d\": [{\"colorbar\": {\"outlinewidth\": 0, \"ticks\": \"\"}, \"type\": \"mesh3d\"}], \"parcoords\": [{\"line\": {\"colorbar\": {\"outlinewidth\": 0, \"ticks\": \"\"}}, \"type\": \"parcoords\"}], \"pie\": [{\"automargin\": true, \"type\": \"pie\"}], \"scatter\": [{\"marker\": {\"colorbar\": {\"outlinewidth\": 0, \"ticks\": \"\"}}, \"type\": \"scatter\"}], \"scatter3d\": [{\"line\": {\"colorbar\": {\"outlinewidth\": 0, \"ticks\": \"\"}}, \"marker\": {\"colorbar\": {\"outlinewidth\": 0, \"ticks\": \"\"}}, \"type\": \"scatter3d\"}], \"scattercarpet\": [{\"marker\": {\"colorbar\": {\"outlinewidth\": 0, \"ticks\": \"\"}}, \"type\": \"scattercarpet\"}], \"scattergeo\": [{\"marker\": {\"colorbar\": {\"outlinewidth\": 0, \"ticks\": \"\"}}, \"type\": \"scattergeo\"}], \"scattergl\": [{\"marker\": {\"colorbar\": {\"outlinewidth\": 0, \"ticks\": \"\"}}, \"type\": \"scattergl\"}], \"scattermapbox\": [{\"marker\": {\"colorbar\": {\"outlinewidth\": 0, \"ticks\": \"\"}}, \"type\": \"scattermapbox\"}], \"scatterpolar\": [{\"marker\": {\"colorbar\": {\"outlinewidth\": 0, \"ticks\": \"\"}}, \"type\": \"scatterpolar\"}], \"scatterpolargl\": [{\"marker\": {\"colorbar\": {\"outlinewidth\": 0, \"ticks\": \"\"}}, \"type\": \"scatterpolargl\"}], \"scatterternary\": [{\"marker\": {\"colorbar\": {\"outlinewidth\": 0, \"ticks\": \"\"}}, \"type\": \"scatterternary\"}], \"surface\": [{\"colorbar\": {\"outlinewidth\": 0, \"ticks\": \"\"}, \"colorscale\": [[0.0, \"#0d0887\"], [0.1111111111111111, \"#46039f\"], [0.2222222222222222, \"#7201a8\"], [0.3333333333333333, \"#9c179e\"], [0.4444444444444444, \"#bd3786\"], [0.5555555555555556, \"#d8576b\"], [0.6666666666666666, \"#ed7953\"], [0.7777777777777778, \"#fb9f3a\"], [0.8888888888888888, \"#fdca26\"], [1.0, \"#f0f921\"]], \"type\": \"surface\"}], \"table\": [{\"cells\": {\"fill\": {\"color\": \"#EBF0F8\"}, \"line\": {\"color\": \"white\"}}, \"header\": {\"fill\": {\"color\": \"#C8D4E3\"}, \"line\": {\"color\": \"white\"}}, \"type\": \"table\"}]}, \"layout\": {\"annotationdefaults\": {\"arrowcolor\": \"#2a3f5f\", \"arrowhead\": 0, \"arrowwidth\": 1}, \"coloraxis\": {\"colorbar\": {\"outlinewidth\": 0, \"ticks\": \"\"}}, \"colorscale\": {\"diverging\": [[0, \"#8e0152\"], [0.1, \"#c51b7d\"], [0.2, \"#de77ae\"], [0.3, \"#f1b6da\"], [0.4, \"#fde0ef\"], [0.5, \"#f7f7f7\"], [0.6, \"#e6f5d0\"], [0.7, \"#b8e186\"], [0.8, \"#7fbc41\"], [0.9, \"#4d9221\"], [1, \"#276419\"]], \"sequential\": [[0.0, \"#0d0887\"], [0.1111111111111111, \"#46039f\"], [0.2222222222222222, \"#7201a8\"], [0.3333333333333333, \"#9c179e\"], [0.4444444444444444, \"#bd3786\"], [0.5555555555555556, \"#d8576b\"], [0.6666666666666666, \"#ed7953\"], [0.7777777777777778, \"#fb9f3a\"], [0.8888888888888888, \"#fdca26\"], [1.0, \"#f0f921\"]], \"sequentialminus\": [[0.0, \"#0d0887\"], [0.1111111111111111, \"#46039f\"], [0.2222222222222222, \"#7201a8\"], [0.3333333333333333, \"#9c179e\"], [0.4444444444444444, \"#bd3786\"], [0.5555555555555556, \"#d8576b\"], [0.6666666666666666, \"#ed7953\"], [0.7777777777777778, \"#fb9f3a\"], [0.8888888888888888, \"#fdca26\"], [1.0, \"#f0f921\"]]}, \"colorway\": [\"#636efa\", \"#EF553B\", \"#00cc96\", \"#ab63fa\", \"#FFA15A\", \"#19d3f3\", \"#FF6692\", \"#B6E880\", \"#FF97FF\", \"#FECB52\"], \"font\": {\"color\": \"#2a3f5f\"}, \"geo\": {\"bgcolor\": \"white\", \"lakecolor\": \"white\", \"landcolor\": \"#E5ECF6\", \"showlakes\": true, \"showland\": true, \"subunitcolor\": \"white\"}, \"hoverlabel\": {\"align\": \"left\"}, \"hovermode\": \"closest\", \"mapbox\": {\"style\": \"light\"}, \"paper_bgcolor\": \"white\", \"plot_bgcolor\": \"#E5ECF6\", \"polar\": {\"angularaxis\": {\"gridcolor\": \"white\", \"linecolor\": \"white\", \"ticks\": \"\"}, \"bgcolor\": \"#E5ECF6\", \"radialaxis\": {\"gridcolor\": \"white\", \"linecolor\": \"white\", \"ticks\": \"\"}}, \"scene\": {\"xaxis\": {\"backgroundcolor\": \"#E5ECF6\", \"gridcolor\": \"white\", \"gridwidth\": 2, \"linecolor\": \"white\", \"showbackground\": true, \"ticks\": \"\", \"zerolinecolor\": \"white\"}, \"yaxis\": {\"backgroundcolor\": \"#E5ECF6\", \"gridcolor\": \"white\", \"gridwidth\": 2, \"linecolor\": \"white\", \"showbackground\": true, \"ticks\": \"\", \"zerolinecolor\": \"white\"}, \"zaxis\": {\"backgroundcolor\": \"#E5ECF6\", \"gridcolor\": \"white\", \"gridwidth\": 2, \"linecolor\": \"white\", \"showbackground\": true, \"ticks\": \"\", \"zerolinecolor\": \"white\"}}, \"shapedefaults\": {\"line\": {\"color\": \"#2a3f5f\"}}, \"ternary\": {\"aaxis\": {\"gridcolor\": \"white\", \"linecolor\": \"white\", \"ticks\": \"\"}, \"baxis\": {\"gridcolor\": \"white\", \"linecolor\": \"white\", \"ticks\": \"\"}, \"bgcolor\": \"#E5ECF6\", \"caxis\": {\"gridcolor\": \"white\", \"linecolor\": \"white\", \"ticks\": \"\"}}, \"title\": {\"x\": 0.05}, \"xaxis\": {\"automargin\": true, \"gridcolor\": \"white\", \"linecolor\": \"white\", \"ticks\": \"\", \"title\": {\"standoff\": 15}, \"zerolinecolor\": \"white\", \"zerolinewidth\": 2}, \"yaxis\": {\"automargin\": true, \"gridcolor\": \"white\", \"linecolor\": \"white\", \"ticks\": \"\", \"title\": {\"standoff\": 15}, \"zerolinecolor\": \"white\", \"zerolinewidth\": 2}}}, \"title\": {\"text\": \"Period III - optimistic scenario\"}, \"width\": 1050},                        {\"responsive\": true}                    ).then(function(){\n",
       "                            \n",
       "var gd = document.getElementById('894d623e-d140-40b5-975d-11cc973ad1b1');\n",
       "var x = new MutationObserver(function (mutations, observer) {{\n",
       "        var display = window.getComputedStyle(gd).display;\n",
       "        if (!display || display === 'none') {{\n",
       "            console.log([gd, 'removed!']);\n",
       "            Plotly.purge(gd);\n",
       "            observer.disconnect();\n",
       "        }}\n",
       "}});\n",
       "\n",
       "// Listen for the removal of the full notebook cells\n",
       "var notebookContainer = gd.closest('#notebook-container');\n",
       "if (notebookContainer) {{\n",
       "    x.observe(notebookContainer, {childList: true});\n",
       "}}\n",
       "\n",
       "// Listen for the clearing of the current output cell\n",
       "var outputEl = gd.closest('.output');\n",
       "if (outputEl) {{\n",
       "    x.observe(outputEl, {childList: true});\n",
       "}}\n",
       "\n",
       "                        })                };                });            </script>        </div>"
      ]
     },
     "metadata": {},
     "output_type": "display_data"
    },
    {
     "name": "stdout",
     "output_type": "stream",
     "text": [
      "III-wo greenhouses \n",
      "-------\n",
      " Protein                     73.894017\n",
      "Fat total                   58.012766\n",
      "Saturated fats               5.357008\n",
      "Trans fats                   0.178733\n",
      "Carbohydrates              321.813522\n",
      "Fiber                       50.368985\n",
      "Sugars                      49.815517\n",
      "Vitamin A                  581.313919\n",
      "Vitamin E                13805.841257\n",
      "Vitamin D                    1.555985\n",
      "Vitamin C                  161.289784\n",
      "Thiamine (B1)                2.380192\n",
      "Riboflavin (B2)              4.881039\n",
      "Niacin (B3)                 26.860577\n",
      "Vitamin B6                   2.844890\n",
      "Vitamin B12                  1.129344\n",
      "Vitamin K                   81.373315\n",
      "Folate (B9)                540.877865\n",
      "Pantothenic Acid (B5)        5.344268\n",
      "Calcium                    522.343553\n",
      "Iron                        57.686012\n",
      "Magnesium                  849.239567\n",
      "Phosphorus                1655.025268\n",
      "Potassium                 5552.272090\n",
      "Sodium                    3165.998031\n",
      "Zinc                        10.153082\n",
      "Copper                    6277.852198\n",
      "Manganese                    9.073079\n",
      "Selenium                    72.312670\n",
      "Iodine                    5555.825076\n",
      "Chromium                     0.000000\n",
      "Molybdenum                   0.000000\n",
      "Histidine                    1.630384\n",
      "Isoleucine                   3.079939\n",
      "Leucine                      5.308323\n",
      "Lysine                       3.663486\n",
      "Methionine                   1.615240\n",
      "Cysteine                     1.035417\n",
      "Phenylalanine                3.495101\n",
      "Tyrosine                     2.457314\n",
      "Threonine                    2.937675\n",
      "Tryptophan                   1.358860\n",
      "Valine                       4.136337\n",
      "Omega-3 (ALA)                4.625928\n",
      "Omega-6 (LA)                12.365671\n",
      "dtype: float64\n",
      "AI ['Protein', 'Fat total', 'Saturated fats', 'Trans fats', 'Carbohydrates', 'Fiber', 'Sugars', 'Vitamin C', 'Thiamine (B1)', 'Riboflavin (B2)', 'Niacin (B3)', 'Vitamin B6', 'Folate (B9)', 'Pantothenic Acid (B5)', 'Magnesium', 'Phosphorus', 'Potassium', 'Zinc', 'Manganese', 'Selenium', 'Histidine', 'Isoleucine', 'Leucine', 'Lysine', 'Methionine', 'Phenylalanine', 'Threonine', 'Valine'] \n",
      "\n",
      "MRAI ['Vitamin A 83%', 'Vitamin E 92%', 'Vitamin B12 28%', 'Vitamin K 77%', 'Calcium 52%', 'Iron 128%', 'Sodium 138%', 'Copper 126%', 'Cysteine 104%', 'Tyrosine 248%', 'Tryptophan 137%', 'Omega-3 (ALA) 165%', 'Omega-6 (LA) 85%'] \n",
      "\n",
      "SRAI ['Vitamin D 10%', 'Iodine 926%'] \n",
      "\n",
      "Danger ['Chromium 0%', 'Molybdenum 0%']\n"
     ]
    },
    {
     "data": {
      "application/vnd.plotly.v1+json": {
       "config": {
        "plotlyServerURL": "https://plot.ly"
       },
       "data": [
        {
         "line": {
          "color": "#00CC96"
         },
         "name": "% lower adequate intake",
         "r": [
          1,
          1,
          1,
          1,
          1,
          0.8528049270364138,
          1,
          1,
          1,
          1
         ],
         "subplot": "polar",
         "theta": [
          "Protein",
          "Fat total",
          "Saturated fats",
          "Trans fats",
          "Omega-3 (ALA)",
          "Omega-6 (LA)",
          "Carbohydrates",
          "Fiber",
          "Sugars",
          "Protein"
         ],
         "type": "scatterpolar"
        },
        {
         "line": {
          "color": "#EF553B"
         },
         "name": "% upper adequate intake",
         "r": [
          0.9383367295758731,
          0.8287537929494284,
          0.22961885904372054,
          0.07771001377391304,
          1.65211709017,
          0.6623284114637386,
          0.8045338054350001,
          0.719556927315,
          0.9488669940666666,
          0.9383367295758731
         ],
         "subplot": "polar",
         "theta": [
          "Protein",
          "Fat total",
          "Saturated fats",
          "Trans fats",
          "Omega-3 (ALA)",
          "Omega-6 (LA)",
          "Carbohydrates",
          "Fiber",
          "Sugars",
          "Protein"
         ],
         "type": "scatterpolar"
        },
        {
         "line": {
          "color": "#00CC96"
         },
         "name": "% lower adequate intake",
         "r": [
          0.8304484554517857,
          0.9203894171013333,
          0.10373230373999999,
          1,
          1,
          1,
          1,
          1,
          0.2823359073275,
          0.7749839537476191,
          1,
          1,
          0.8304484554517857
         ],
         "subplot": "polar2",
         "theta": [
          "Vitamin A",
          "Vitamin E",
          "Vitamin D",
          "Vitamin C",
          "Thiamine (B1)",
          "Riboflavin (B2)",
          "Niacin (B3)",
          "Vitamin B6",
          "Vitamin B12",
          "Vitamin K",
          "Folate (B9)",
          "Pantothenic Acid (B5)",
          "Vitamin A"
         ],
         "type": "scatterpolar"
        },
        {
         "line": {
          "color": "#EF553B"
         },
         "name": "% upper adequate intake",
         "r": [
          0.1937713062720833,
          0.04601947085506666,
          0.0062239382243999995,
          0.08064489189265,
          2.3801915164500002e-99,
          4.881038836839999e-99,
          0.7674450695885714,
          0.11379559485273999,
          0.045173745172400005,
          8.137331514350001e-98,
          0.5408778647920001,
          0.26721340112374997,
          0.1937713062720833
         ],
         "subplot": "polar2",
         "theta": [
          "Vitamin A",
          "Vitamin E",
          "Vitamin D",
          "Vitamin C",
          "Thiamine (B1)",
          "Riboflavin (B2)",
          "Niacin (B3)",
          "Vitamin B6",
          "Vitamin B12",
          "Vitamin K",
          "Folate (B9)",
          "Pantothenic Acid (B5)",
          "Vitamin A"
         ],
         "type": "scatterpolar"
        },
        {
         "line": {
          "color": "#00CC96"
         },
         "name": "% lower adequate intake",
         "r": [
          0.5223435532770001,
          1,
          1,
          1,
          1,
          1,
          1,
          1,
          1,
          1,
          1,
          0.5223435532770001
         ],
         "subplot": "polar3",
         "theta": [
          "Calcium",
          "Iron",
          "Magnesium",
          "Phosphorus",
          "Potassium",
          "Sodium",
          "Zinc",
          "Copper",
          "Manganese",
          "Selenium",
          "Iodine",
          "Calcium"
         ],
         "type": "scatterpolar"
        },
        {
         "line": {
          "color": "#EF553B"
         },
         "name": "% upper adequate intake",
         "r": [
          0.20893742131080004,
          1.2819113830155557,
          8.49239567482e-97,
          0.41375631699375004,
          0.7931817271899999,
          1.3765208828365216,
          0.40612326644119995,
          1.255570439664,
          0.8248253563054546,
          0.24104223216033333,
          9.25970846017125,
          0.20893742131080004
         ],
         "subplot": "polar3",
         "theta": [
          "Calcium",
          "Iron",
          "Magnesium",
          "Phosphorus",
          "Potassium",
          "Sodium",
          "Zinc",
          "Copper",
          "Manganese",
          "Selenium",
          "Iodine",
          "Calcium"
         ],
         "type": "scatterpolar"
        },
        {
         "line": {
          "color": "#00CC96"
         },
         "name": "% lower adequate intake",
         "r": [
          1,
          1,
          1,
          1,
          1,
          1,
          1,
          1,
          1,
          1,
          1,
          1
         ],
         "subplot": "polar4",
         "theta": [
          "Histidine",
          "Isoleucine",
          "Leucine",
          "Lysine",
          "Methionine",
          "Cysteine",
          "Phenylalanine",
          "Tyrosine",
          "Threonine",
          "Tryptophan",
          "Valine",
          "Histidine"
         ],
         "type": "scatterpolar"
        },
        {
         "line": {
          "color": "#EF553B"
         },
         "name": "% upper adequate intake",
         "r": [
          0.6574128474850807,
          0.6209553566008065,
          0.5488340179249379,
          0.49240402116801074,
          0.6513066172596775,
          1.0437674125786292,
          0.9395432969811828,
          2.477130929856855,
          0.7896975121989247,
          1.3698189432137098,
          0.6414913951240695,
          0.6574128474850807
         ],
         "subplot": "polar4",
         "theta": [
          "Histidine",
          "Isoleucine",
          "Leucine",
          "Lysine",
          "Methionine",
          "Cysteine",
          "Phenylalanine",
          "Tyrosine",
          "Threonine",
          "Tryptophan",
          "Valine",
          "Histidine"
         ],
         "type": "scatterpolar"
        }
       ],
       "layout": {
        "height": 800,
        "polar": {
         "angularaxis": {
          "direction": "clockwise",
          "rotation": 90
         },
         "domain": {
          "x": [
           0,
           0.45
          ],
          "y": [
           0.575,
           1
          ]
         },
         "radialaxis": {
          "range": [
           0,
           2
          ],
          "visible": true
         }
        },
        "polar2": {
         "angularaxis": {
          "direction": "clockwise",
          "rotation": 90
         },
         "domain": {
          "x": [
           0.55,
           1
          ],
          "y": [
           0.575,
           1
          ]
         },
         "radialaxis": {
          "range": [
           0,
           2
          ],
          "visible": true
         }
        },
        "polar3": {
         "angularaxis": {
          "direction": "clockwise",
          "rotation": 90
         },
         "domain": {
          "x": [
           0,
           0.45
          ],
          "y": [
           0,
           0.425
          ]
         },
         "radialaxis": {
          "range": [
           0,
           2
          ],
          "visible": true
         }
        },
        "polar4": {
         "angularaxis": {
          "direction": "clockwise",
          "rotation": 90
         },
         "domain": {
          "x": [
           0.55,
           1
          ],
          "y": [
           0,
           0.425
          ]
         },
         "radialaxis": {
          "range": [
           0,
           2
          ],
          "visible": true
         }
        },
        "showlegend": false,
        "template": {
         "data": {
          "bar": [
           {
            "error_x": {
             "color": "#2a3f5f"
            },
            "error_y": {
             "color": "#2a3f5f"
            },
            "marker": {
             "line": {
              "color": "#E5ECF6",
              "width": 0.5
             }
            },
            "type": "bar"
           }
          ],
          "barpolar": [
           {
            "marker": {
             "line": {
              "color": "#E5ECF6",
              "width": 0.5
             }
            },
            "type": "barpolar"
           }
          ],
          "carpet": [
           {
            "aaxis": {
             "endlinecolor": "#2a3f5f",
             "gridcolor": "white",
             "linecolor": "white",
             "minorgridcolor": "white",
             "startlinecolor": "#2a3f5f"
            },
            "baxis": {
             "endlinecolor": "#2a3f5f",
             "gridcolor": "white",
             "linecolor": "white",
             "minorgridcolor": "white",
             "startlinecolor": "#2a3f5f"
            },
            "type": "carpet"
           }
          ],
          "choropleth": [
           {
            "colorbar": {
             "outlinewidth": 0,
             "ticks": ""
            },
            "type": "choropleth"
           }
          ],
          "contour": [
           {
            "colorbar": {
             "outlinewidth": 0,
             "ticks": ""
            },
            "colorscale": [
             [
              0,
              "#0d0887"
             ],
             [
              0.1111111111111111,
              "#46039f"
             ],
             [
              0.2222222222222222,
              "#7201a8"
             ],
             [
              0.3333333333333333,
              "#9c179e"
             ],
             [
              0.4444444444444444,
              "#bd3786"
             ],
             [
              0.5555555555555556,
              "#d8576b"
             ],
             [
              0.6666666666666666,
              "#ed7953"
             ],
             [
              0.7777777777777778,
              "#fb9f3a"
             ],
             [
              0.8888888888888888,
              "#fdca26"
             ],
             [
              1,
              "#f0f921"
             ]
            ],
            "type": "contour"
           }
          ],
          "contourcarpet": [
           {
            "colorbar": {
             "outlinewidth": 0,
             "ticks": ""
            },
            "type": "contourcarpet"
           }
          ],
          "heatmap": [
           {
            "colorbar": {
             "outlinewidth": 0,
             "ticks": ""
            },
            "colorscale": [
             [
              0,
              "#0d0887"
             ],
             [
              0.1111111111111111,
              "#46039f"
             ],
             [
              0.2222222222222222,
              "#7201a8"
             ],
             [
              0.3333333333333333,
              "#9c179e"
             ],
             [
              0.4444444444444444,
              "#bd3786"
             ],
             [
              0.5555555555555556,
              "#d8576b"
             ],
             [
              0.6666666666666666,
              "#ed7953"
             ],
             [
              0.7777777777777778,
              "#fb9f3a"
             ],
             [
              0.8888888888888888,
              "#fdca26"
             ],
             [
              1,
              "#f0f921"
             ]
            ],
            "type": "heatmap"
           }
          ],
          "heatmapgl": [
           {
            "colorbar": {
             "outlinewidth": 0,
             "ticks": ""
            },
            "colorscale": [
             [
              0,
              "#0d0887"
             ],
             [
              0.1111111111111111,
              "#46039f"
             ],
             [
              0.2222222222222222,
              "#7201a8"
             ],
             [
              0.3333333333333333,
              "#9c179e"
             ],
             [
              0.4444444444444444,
              "#bd3786"
             ],
             [
              0.5555555555555556,
              "#d8576b"
             ],
             [
              0.6666666666666666,
              "#ed7953"
             ],
             [
              0.7777777777777778,
              "#fb9f3a"
             ],
             [
              0.8888888888888888,
              "#fdca26"
             ],
             [
              1,
              "#f0f921"
             ]
            ],
            "type": "heatmapgl"
           }
          ],
          "histogram": [
           {
            "marker": {
             "colorbar": {
              "outlinewidth": 0,
              "ticks": ""
             }
            },
            "type": "histogram"
           }
          ],
          "histogram2d": [
           {
            "colorbar": {
             "outlinewidth": 0,
             "ticks": ""
            },
            "colorscale": [
             [
              0,
              "#0d0887"
             ],
             [
              0.1111111111111111,
              "#46039f"
             ],
             [
              0.2222222222222222,
              "#7201a8"
             ],
             [
              0.3333333333333333,
              "#9c179e"
             ],
             [
              0.4444444444444444,
              "#bd3786"
             ],
             [
              0.5555555555555556,
              "#d8576b"
             ],
             [
              0.6666666666666666,
              "#ed7953"
             ],
             [
              0.7777777777777778,
              "#fb9f3a"
             ],
             [
              0.8888888888888888,
              "#fdca26"
             ],
             [
              1,
              "#f0f921"
             ]
            ],
            "type": "histogram2d"
           }
          ],
          "histogram2dcontour": [
           {
            "colorbar": {
             "outlinewidth": 0,
             "ticks": ""
            },
            "colorscale": [
             [
              0,
              "#0d0887"
             ],
             [
              0.1111111111111111,
              "#46039f"
             ],
             [
              0.2222222222222222,
              "#7201a8"
             ],
             [
              0.3333333333333333,
              "#9c179e"
             ],
             [
              0.4444444444444444,
              "#bd3786"
             ],
             [
              0.5555555555555556,
              "#d8576b"
             ],
             [
              0.6666666666666666,
              "#ed7953"
             ],
             [
              0.7777777777777778,
              "#fb9f3a"
             ],
             [
              0.8888888888888888,
              "#fdca26"
             ],
             [
              1,
              "#f0f921"
             ]
            ],
            "type": "histogram2dcontour"
           }
          ],
          "mesh3d": [
           {
            "colorbar": {
             "outlinewidth": 0,
             "ticks": ""
            },
            "type": "mesh3d"
           }
          ],
          "parcoords": [
           {
            "line": {
             "colorbar": {
              "outlinewidth": 0,
              "ticks": ""
             }
            },
            "type": "parcoords"
           }
          ],
          "pie": [
           {
            "automargin": true,
            "type": "pie"
           }
          ],
          "scatter": [
           {
            "marker": {
             "colorbar": {
              "outlinewidth": 0,
              "ticks": ""
             }
            },
            "type": "scatter"
           }
          ],
          "scatter3d": [
           {
            "line": {
             "colorbar": {
              "outlinewidth": 0,
              "ticks": ""
             }
            },
            "marker": {
             "colorbar": {
              "outlinewidth": 0,
              "ticks": ""
             }
            },
            "type": "scatter3d"
           }
          ],
          "scattercarpet": [
           {
            "marker": {
             "colorbar": {
              "outlinewidth": 0,
              "ticks": ""
             }
            },
            "type": "scattercarpet"
           }
          ],
          "scattergeo": [
           {
            "marker": {
             "colorbar": {
              "outlinewidth": 0,
              "ticks": ""
             }
            },
            "type": "scattergeo"
           }
          ],
          "scattergl": [
           {
            "marker": {
             "colorbar": {
              "outlinewidth": 0,
              "ticks": ""
             }
            },
            "type": "scattergl"
           }
          ],
          "scattermapbox": [
           {
            "marker": {
             "colorbar": {
              "outlinewidth": 0,
              "ticks": ""
             }
            },
            "type": "scattermapbox"
           }
          ],
          "scatterpolar": [
           {
            "marker": {
             "colorbar": {
              "outlinewidth": 0,
              "ticks": ""
             }
            },
            "type": "scatterpolar"
           }
          ],
          "scatterpolargl": [
           {
            "marker": {
             "colorbar": {
              "outlinewidth": 0,
              "ticks": ""
             }
            },
            "type": "scatterpolargl"
           }
          ],
          "scatterternary": [
           {
            "marker": {
             "colorbar": {
              "outlinewidth": 0,
              "ticks": ""
             }
            },
            "type": "scatterternary"
           }
          ],
          "surface": [
           {
            "colorbar": {
             "outlinewidth": 0,
             "ticks": ""
            },
            "colorscale": [
             [
              0,
              "#0d0887"
             ],
             [
              0.1111111111111111,
              "#46039f"
             ],
             [
              0.2222222222222222,
              "#7201a8"
             ],
             [
              0.3333333333333333,
              "#9c179e"
             ],
             [
              0.4444444444444444,
              "#bd3786"
             ],
             [
              0.5555555555555556,
              "#d8576b"
             ],
             [
              0.6666666666666666,
              "#ed7953"
             ],
             [
              0.7777777777777778,
              "#fb9f3a"
             ],
             [
              0.8888888888888888,
              "#fdca26"
             ],
             [
              1,
              "#f0f921"
             ]
            ],
            "type": "surface"
           }
          ],
          "table": [
           {
            "cells": {
             "fill": {
              "color": "#EBF0F8"
             },
             "line": {
              "color": "white"
             }
            },
            "header": {
             "fill": {
              "color": "#C8D4E3"
             },
             "line": {
              "color": "white"
             }
            },
            "type": "table"
           }
          ]
         },
         "layout": {
          "annotationdefaults": {
           "arrowcolor": "#2a3f5f",
           "arrowhead": 0,
           "arrowwidth": 1
          },
          "coloraxis": {
           "colorbar": {
            "outlinewidth": 0,
            "ticks": ""
           }
          },
          "colorscale": {
           "diverging": [
            [
             0,
             "#8e0152"
            ],
            [
             0.1,
             "#c51b7d"
            ],
            [
             0.2,
             "#de77ae"
            ],
            [
             0.3,
             "#f1b6da"
            ],
            [
             0.4,
             "#fde0ef"
            ],
            [
             0.5,
             "#f7f7f7"
            ],
            [
             0.6,
             "#e6f5d0"
            ],
            [
             0.7,
             "#b8e186"
            ],
            [
             0.8,
             "#7fbc41"
            ],
            [
             0.9,
             "#4d9221"
            ],
            [
             1,
             "#276419"
            ]
           ],
           "sequential": [
            [
             0,
             "#0d0887"
            ],
            [
             0.1111111111111111,
             "#46039f"
            ],
            [
             0.2222222222222222,
             "#7201a8"
            ],
            [
             0.3333333333333333,
             "#9c179e"
            ],
            [
             0.4444444444444444,
             "#bd3786"
            ],
            [
             0.5555555555555556,
             "#d8576b"
            ],
            [
             0.6666666666666666,
             "#ed7953"
            ],
            [
             0.7777777777777778,
             "#fb9f3a"
            ],
            [
             0.8888888888888888,
             "#fdca26"
            ],
            [
             1,
             "#f0f921"
            ]
           ],
           "sequentialminus": [
            [
             0,
             "#0d0887"
            ],
            [
             0.1111111111111111,
             "#46039f"
            ],
            [
             0.2222222222222222,
             "#7201a8"
            ],
            [
             0.3333333333333333,
             "#9c179e"
            ],
            [
             0.4444444444444444,
             "#bd3786"
            ],
            [
             0.5555555555555556,
             "#d8576b"
            ],
            [
             0.6666666666666666,
             "#ed7953"
            ],
            [
             0.7777777777777778,
             "#fb9f3a"
            ],
            [
             0.8888888888888888,
             "#fdca26"
            ],
            [
             1,
             "#f0f921"
            ]
           ]
          },
          "colorway": [
           "#636efa",
           "#EF553B",
           "#00cc96",
           "#ab63fa",
           "#FFA15A",
           "#19d3f3",
           "#FF6692",
           "#B6E880",
           "#FF97FF",
           "#FECB52"
          ],
          "font": {
           "color": "#2a3f5f"
          },
          "geo": {
           "bgcolor": "white",
           "lakecolor": "white",
           "landcolor": "#E5ECF6",
           "showlakes": true,
           "showland": true,
           "subunitcolor": "white"
          },
          "hoverlabel": {
           "align": "left"
          },
          "hovermode": "closest",
          "mapbox": {
           "style": "light"
          },
          "paper_bgcolor": "white",
          "plot_bgcolor": "#E5ECF6",
          "polar": {
           "angularaxis": {
            "gridcolor": "white",
            "linecolor": "white",
            "ticks": ""
           },
           "bgcolor": "#E5ECF6",
           "radialaxis": {
            "gridcolor": "white",
            "linecolor": "white",
            "ticks": ""
           }
          },
          "scene": {
           "xaxis": {
            "backgroundcolor": "#E5ECF6",
            "gridcolor": "white",
            "gridwidth": 2,
            "linecolor": "white",
            "showbackground": true,
            "ticks": "",
            "zerolinecolor": "white"
           },
           "yaxis": {
            "backgroundcolor": "#E5ECF6",
            "gridcolor": "white",
            "gridwidth": 2,
            "linecolor": "white",
            "showbackground": true,
            "ticks": "",
            "zerolinecolor": "white"
           },
           "zaxis": {
            "backgroundcolor": "#E5ECF6",
            "gridcolor": "white",
            "gridwidth": 2,
            "linecolor": "white",
            "showbackground": true,
            "ticks": "",
            "zerolinecolor": "white"
           }
          },
          "shapedefaults": {
           "line": {
            "color": "#2a3f5f"
           }
          },
          "ternary": {
           "aaxis": {
            "gridcolor": "white",
            "linecolor": "white",
            "ticks": ""
           },
           "baxis": {
            "gridcolor": "white",
            "linecolor": "white",
            "ticks": ""
           },
           "bgcolor": "#E5ECF6",
           "caxis": {
            "gridcolor": "white",
            "linecolor": "white",
            "ticks": ""
           }
          },
          "title": {
           "x": 0.05
          },
          "xaxis": {
           "automargin": true,
           "gridcolor": "white",
           "linecolor": "white",
           "ticks": "",
           "title": {
            "standoff": 15
           },
           "zerolinecolor": "white",
           "zerolinewidth": 2
          },
          "yaxis": {
           "automargin": true,
           "gridcolor": "white",
           "linecolor": "white",
           "ticks": "",
           "title": {
            "standoff": 15
           },
           "zerolinecolor": "white",
           "zerolinewidth": 2
          }
         }
        },
        "title": {
         "text": "Period III - without greenhouses"
        },
        "width": 1050
       }
      },
      "text/html": [
       "<div>                            <div id=\"35fb5767-18b7-470d-b815-e173eb9494a8\" class=\"plotly-graph-div\" style=\"height:800px; width:1050px;\"></div>            <script type=\"text/javascript\">                require([\"plotly\"], function(Plotly) {                    window.PLOTLYENV=window.PLOTLYENV || {};                                    if (document.getElementById(\"35fb5767-18b7-470d-b815-e173eb9494a8\")) {                    Plotly.newPlot(                        \"35fb5767-18b7-470d-b815-e173eb9494a8\",                        [{\"line\": {\"color\": \"#00CC96\"}, \"name\": \"% lower adequate intake\", \"r\": [1.0, 1.0, 1.0, 1.0, 1.0, 0.8528049270364138, 1.0, 1.0, 1.0, 1.0], \"subplot\": \"polar\", \"theta\": [\"Protein\", \"Fat total\", \"Saturated fats\", \"Trans fats\", \"Omega-3 (ALA)\", \"Omega-6 (LA)\", \"Carbohydrates\", \"Fiber\", \"Sugars\", \"Protein\"], \"type\": \"scatterpolar\"}, {\"line\": {\"color\": \"#EF553B\"}, \"name\": \"% upper adequate intake\", \"r\": [0.9383367295758731, 0.8287537929494284, 0.22961885904372054, 0.07771001377391304, 1.65211709017, 0.6623284114637386, 0.8045338054350001, 0.719556927315, 0.9488669940666666, 0.9383367295758731], \"subplot\": \"polar\", \"theta\": [\"Protein\", \"Fat total\", \"Saturated fats\", \"Trans fats\", \"Omega-3 (ALA)\", \"Omega-6 (LA)\", \"Carbohydrates\", \"Fiber\", \"Sugars\", \"Protein\"], \"type\": \"scatterpolar\"}, {\"line\": {\"color\": \"#00CC96\"}, \"name\": \"% lower adequate intake\", \"r\": [0.8304484554517857, 0.9203894171013333, 0.10373230373999999, 1.0, 1.0, 1.0, 1.0, 1.0, 0.2823359073275, 0.7749839537476191, 1.0, 1.0, 0.8304484554517857], \"subplot\": \"polar2\", \"theta\": [\"Vitamin A\", \"Vitamin E\", \"Vitamin D\", \"Vitamin C\", \"Thiamine (B1)\", \"Riboflavin (B2)\", \"Niacin (B3)\", \"Vitamin B6\", \"Vitamin B12\", \"Vitamin K\", \"Folate (B9)\", \"Pantothenic Acid (B5)\", \"Vitamin A\"], \"type\": \"scatterpolar\"}, {\"line\": {\"color\": \"#EF553B\"}, \"name\": \"% upper adequate intake\", \"r\": [0.1937713062720833, 0.04601947085506666, 0.0062239382243999995, 0.08064489189265, 2.3801915164500002e-99, 4.881038836839999e-99, 0.7674450695885714, 0.11379559485273999, 0.045173745172400005, 8.137331514350001e-98, 0.5408778647920001, 0.26721340112374997, 0.1937713062720833], \"subplot\": \"polar2\", \"theta\": [\"Vitamin A\", \"Vitamin E\", \"Vitamin D\", \"Vitamin C\", \"Thiamine (B1)\", \"Riboflavin (B2)\", \"Niacin (B3)\", \"Vitamin B6\", \"Vitamin B12\", \"Vitamin K\", \"Folate (B9)\", \"Pantothenic Acid (B5)\", \"Vitamin A\"], \"type\": \"scatterpolar\"}, {\"line\": {\"color\": \"#00CC96\"}, \"name\": \"% lower adequate intake\", \"r\": [0.5223435532770001, 1.0, 1.0, 1.0, 1.0, 1.0, 1.0, 1.0, 1.0, 1.0, 1.0, 0.5223435532770001], \"subplot\": \"polar3\", \"theta\": [\"Calcium\", \"Iron\", \"Magnesium\", \"Phosphorus\", \"Potassium\", \"Sodium\", \"Zinc\", \"Copper\", \"Manganese\", \"Selenium\", \"Iodine\", \"Calcium\"], \"type\": \"scatterpolar\"}, {\"line\": {\"color\": \"#EF553B\"}, \"name\": \"% upper adequate intake\", \"r\": [0.20893742131080004, 1.2819113830155557, 8.49239567482e-97, 0.41375631699375004, 0.7931817271899999, 1.3765208828365216, 0.40612326644119995, 1.255570439664, 0.8248253563054546, 0.24104223216033333, 9.25970846017125, 0.20893742131080004], \"subplot\": \"polar3\", \"theta\": [\"Calcium\", \"Iron\", \"Magnesium\", \"Phosphorus\", \"Potassium\", \"Sodium\", \"Zinc\", \"Copper\", \"Manganese\", \"Selenium\", \"Iodine\", \"Calcium\"], \"type\": \"scatterpolar\"}, {\"line\": {\"color\": \"#00CC96\"}, \"name\": \"% lower adequate intake\", \"r\": [1.0, 1.0, 1.0, 1.0, 1.0, 1.0, 1.0, 1.0, 1.0, 1.0, 1.0, 1.0], \"subplot\": \"polar4\", \"theta\": [\"Histidine\", \"Isoleucine\", \"Leucine\", \"Lysine\", \"Methionine\", \"Cysteine\", \"Phenylalanine\", \"Tyrosine\", \"Threonine\", \"Tryptophan\", \"Valine\", \"Histidine\"], \"type\": \"scatterpolar\"}, {\"line\": {\"color\": \"#EF553B\"}, \"name\": \"% upper adequate intake\", \"r\": [0.6574128474850807, 0.6209553566008065, 0.5488340179249379, 0.49240402116801074, 0.6513066172596775, 1.0437674125786292, 0.9395432969811828, 2.477130929856855, 0.7896975121989247, 1.3698189432137098, 0.6414913951240695, 0.6574128474850807], \"subplot\": \"polar4\", \"theta\": [\"Histidine\", \"Isoleucine\", \"Leucine\", \"Lysine\", \"Methionine\", \"Cysteine\", \"Phenylalanine\", \"Tyrosine\", \"Threonine\", \"Tryptophan\", \"Valine\", \"Histidine\"], \"type\": \"scatterpolar\"}],                        {\"height\": 800, \"polar\": {\"angularaxis\": {\"direction\": \"clockwise\", \"rotation\": 90}, \"domain\": {\"x\": [0.0, 0.45], \"y\": [0.575, 1.0]}, \"radialaxis\": {\"range\": [0, 2], \"visible\": true}}, \"polar2\": {\"angularaxis\": {\"direction\": \"clockwise\", \"rotation\": 90}, \"domain\": {\"x\": [0.55, 1.0], \"y\": [0.575, 1.0]}, \"radialaxis\": {\"range\": [0, 2], \"visible\": true}}, \"polar3\": {\"angularaxis\": {\"direction\": \"clockwise\", \"rotation\": 90}, \"domain\": {\"x\": [0.0, 0.45], \"y\": [0.0, 0.425]}, \"radialaxis\": {\"range\": [0, 2], \"visible\": true}}, \"polar4\": {\"angularaxis\": {\"direction\": \"clockwise\", \"rotation\": 90}, \"domain\": {\"x\": [0.55, 1.0], \"y\": [0.0, 0.425]}, \"radialaxis\": {\"range\": [0, 2], \"visible\": true}}, \"showlegend\": false, \"template\": {\"data\": {\"bar\": [{\"error_x\": {\"color\": \"#2a3f5f\"}, \"error_y\": {\"color\": \"#2a3f5f\"}, \"marker\": {\"line\": {\"color\": \"#E5ECF6\", \"width\": 0.5}}, \"type\": \"bar\"}], \"barpolar\": [{\"marker\": {\"line\": {\"color\": \"#E5ECF6\", \"width\": 0.5}}, \"type\": \"barpolar\"}], \"carpet\": [{\"aaxis\": {\"endlinecolor\": \"#2a3f5f\", \"gridcolor\": \"white\", \"linecolor\": \"white\", \"minorgridcolor\": \"white\", \"startlinecolor\": \"#2a3f5f\"}, \"baxis\": {\"endlinecolor\": \"#2a3f5f\", \"gridcolor\": \"white\", \"linecolor\": \"white\", \"minorgridcolor\": \"white\", \"startlinecolor\": \"#2a3f5f\"}, \"type\": \"carpet\"}], \"choropleth\": [{\"colorbar\": {\"outlinewidth\": 0, \"ticks\": \"\"}, \"type\": \"choropleth\"}], \"contour\": [{\"colorbar\": {\"outlinewidth\": 0, \"ticks\": \"\"}, \"colorscale\": [[0.0, \"#0d0887\"], [0.1111111111111111, \"#46039f\"], [0.2222222222222222, \"#7201a8\"], [0.3333333333333333, \"#9c179e\"], [0.4444444444444444, \"#bd3786\"], [0.5555555555555556, \"#d8576b\"], [0.6666666666666666, \"#ed7953\"], [0.7777777777777778, \"#fb9f3a\"], [0.8888888888888888, \"#fdca26\"], [1.0, \"#f0f921\"]], \"type\": \"contour\"}], \"contourcarpet\": [{\"colorbar\": {\"outlinewidth\": 0, \"ticks\": \"\"}, \"type\": \"contourcarpet\"}], \"heatmap\": [{\"colorbar\": {\"outlinewidth\": 0, \"ticks\": \"\"}, \"colorscale\": [[0.0, \"#0d0887\"], [0.1111111111111111, \"#46039f\"], [0.2222222222222222, \"#7201a8\"], [0.3333333333333333, \"#9c179e\"], [0.4444444444444444, \"#bd3786\"], [0.5555555555555556, \"#d8576b\"], [0.6666666666666666, \"#ed7953\"], [0.7777777777777778, \"#fb9f3a\"], [0.8888888888888888, \"#fdca26\"], [1.0, \"#f0f921\"]], \"type\": \"heatmap\"}], \"heatmapgl\": [{\"colorbar\": {\"outlinewidth\": 0, \"ticks\": \"\"}, \"colorscale\": [[0.0, \"#0d0887\"], [0.1111111111111111, \"#46039f\"], [0.2222222222222222, \"#7201a8\"], [0.3333333333333333, \"#9c179e\"], [0.4444444444444444, \"#bd3786\"], [0.5555555555555556, \"#d8576b\"], [0.6666666666666666, \"#ed7953\"], [0.7777777777777778, \"#fb9f3a\"], [0.8888888888888888, \"#fdca26\"], [1.0, \"#f0f921\"]], \"type\": \"heatmapgl\"}], \"histogram\": [{\"marker\": {\"colorbar\": {\"outlinewidth\": 0, \"ticks\": \"\"}}, \"type\": \"histogram\"}], \"histogram2d\": [{\"colorbar\": {\"outlinewidth\": 0, \"ticks\": \"\"}, \"colorscale\": [[0.0, \"#0d0887\"], [0.1111111111111111, \"#46039f\"], [0.2222222222222222, \"#7201a8\"], [0.3333333333333333, \"#9c179e\"], [0.4444444444444444, \"#bd3786\"], [0.5555555555555556, \"#d8576b\"], [0.6666666666666666, \"#ed7953\"], [0.7777777777777778, \"#fb9f3a\"], [0.8888888888888888, \"#fdca26\"], [1.0, \"#f0f921\"]], \"type\": \"histogram2d\"}], \"histogram2dcontour\": [{\"colorbar\": {\"outlinewidth\": 0, \"ticks\": \"\"}, \"colorscale\": [[0.0, \"#0d0887\"], [0.1111111111111111, \"#46039f\"], [0.2222222222222222, \"#7201a8\"], [0.3333333333333333, \"#9c179e\"], [0.4444444444444444, \"#bd3786\"], [0.5555555555555556, \"#d8576b\"], [0.6666666666666666, \"#ed7953\"], [0.7777777777777778, \"#fb9f3a\"], [0.8888888888888888, \"#fdca26\"], [1.0, \"#f0f921\"]], \"type\": \"histogram2dcontour\"}], \"mesh3d\": [{\"colorbar\": {\"outlinewidth\": 0, \"ticks\": \"\"}, \"type\": \"mesh3d\"}], \"parcoords\": [{\"line\": {\"colorbar\": {\"outlinewidth\": 0, \"ticks\": \"\"}}, \"type\": \"parcoords\"}], \"pie\": [{\"automargin\": true, \"type\": \"pie\"}], \"scatter\": [{\"marker\": {\"colorbar\": {\"outlinewidth\": 0, \"ticks\": \"\"}}, \"type\": \"scatter\"}], \"scatter3d\": [{\"line\": {\"colorbar\": {\"outlinewidth\": 0, \"ticks\": \"\"}}, \"marker\": {\"colorbar\": {\"outlinewidth\": 0, \"ticks\": \"\"}}, \"type\": \"scatter3d\"}], \"scattercarpet\": [{\"marker\": {\"colorbar\": {\"outlinewidth\": 0, \"ticks\": \"\"}}, \"type\": \"scattercarpet\"}], \"scattergeo\": [{\"marker\": {\"colorbar\": {\"outlinewidth\": 0, \"ticks\": \"\"}}, \"type\": \"scattergeo\"}], \"scattergl\": [{\"marker\": {\"colorbar\": {\"outlinewidth\": 0, \"ticks\": \"\"}}, \"type\": \"scattergl\"}], \"scattermapbox\": [{\"marker\": {\"colorbar\": {\"outlinewidth\": 0, \"ticks\": \"\"}}, \"type\": \"scattermapbox\"}], \"scatterpolar\": [{\"marker\": {\"colorbar\": {\"outlinewidth\": 0, \"ticks\": \"\"}}, \"type\": \"scatterpolar\"}], \"scatterpolargl\": [{\"marker\": {\"colorbar\": {\"outlinewidth\": 0, \"ticks\": \"\"}}, \"type\": \"scatterpolargl\"}], \"scatterternary\": [{\"marker\": {\"colorbar\": {\"outlinewidth\": 0, \"ticks\": \"\"}}, \"type\": \"scatterternary\"}], \"surface\": [{\"colorbar\": {\"outlinewidth\": 0, \"ticks\": \"\"}, \"colorscale\": [[0.0, \"#0d0887\"], [0.1111111111111111, \"#46039f\"], [0.2222222222222222, \"#7201a8\"], [0.3333333333333333, \"#9c179e\"], [0.4444444444444444, \"#bd3786\"], [0.5555555555555556, \"#d8576b\"], [0.6666666666666666, \"#ed7953\"], [0.7777777777777778, \"#fb9f3a\"], [0.8888888888888888, \"#fdca26\"], [1.0, \"#f0f921\"]], \"type\": \"surface\"}], \"table\": [{\"cells\": {\"fill\": {\"color\": \"#EBF0F8\"}, \"line\": {\"color\": \"white\"}}, \"header\": {\"fill\": {\"color\": \"#C8D4E3\"}, \"line\": {\"color\": \"white\"}}, \"type\": \"table\"}]}, \"layout\": {\"annotationdefaults\": {\"arrowcolor\": \"#2a3f5f\", \"arrowhead\": 0, \"arrowwidth\": 1}, \"coloraxis\": {\"colorbar\": {\"outlinewidth\": 0, \"ticks\": \"\"}}, \"colorscale\": {\"diverging\": [[0, \"#8e0152\"], [0.1, \"#c51b7d\"], [0.2, \"#de77ae\"], [0.3, \"#f1b6da\"], [0.4, \"#fde0ef\"], [0.5, \"#f7f7f7\"], [0.6, \"#e6f5d0\"], [0.7, \"#b8e186\"], [0.8, \"#7fbc41\"], [0.9, \"#4d9221\"], [1, \"#276419\"]], \"sequential\": [[0.0, \"#0d0887\"], [0.1111111111111111, \"#46039f\"], [0.2222222222222222, \"#7201a8\"], [0.3333333333333333, \"#9c179e\"], [0.4444444444444444, \"#bd3786\"], [0.5555555555555556, \"#d8576b\"], [0.6666666666666666, \"#ed7953\"], [0.7777777777777778, \"#fb9f3a\"], [0.8888888888888888, \"#fdca26\"], [1.0, \"#f0f921\"]], \"sequentialminus\": [[0.0, \"#0d0887\"], [0.1111111111111111, \"#46039f\"], [0.2222222222222222, \"#7201a8\"], [0.3333333333333333, \"#9c179e\"], [0.4444444444444444, \"#bd3786\"], [0.5555555555555556, \"#d8576b\"], [0.6666666666666666, \"#ed7953\"], [0.7777777777777778, \"#fb9f3a\"], [0.8888888888888888, \"#fdca26\"], [1.0, \"#f0f921\"]]}, \"colorway\": [\"#636efa\", \"#EF553B\", \"#00cc96\", \"#ab63fa\", \"#FFA15A\", \"#19d3f3\", \"#FF6692\", \"#B6E880\", \"#FF97FF\", \"#FECB52\"], \"font\": {\"color\": \"#2a3f5f\"}, \"geo\": {\"bgcolor\": \"white\", \"lakecolor\": \"white\", \"landcolor\": \"#E5ECF6\", \"showlakes\": true, \"showland\": true, \"subunitcolor\": \"white\"}, \"hoverlabel\": {\"align\": \"left\"}, \"hovermode\": \"closest\", \"mapbox\": {\"style\": \"light\"}, \"paper_bgcolor\": \"white\", \"plot_bgcolor\": \"#E5ECF6\", \"polar\": {\"angularaxis\": {\"gridcolor\": \"white\", \"linecolor\": \"white\", \"ticks\": \"\"}, \"bgcolor\": \"#E5ECF6\", \"radialaxis\": {\"gridcolor\": \"white\", \"linecolor\": \"white\", \"ticks\": \"\"}}, \"scene\": {\"xaxis\": {\"backgroundcolor\": \"#E5ECF6\", \"gridcolor\": \"white\", \"gridwidth\": 2, \"linecolor\": \"white\", \"showbackground\": true, \"ticks\": \"\", \"zerolinecolor\": \"white\"}, \"yaxis\": {\"backgroundcolor\": \"#E5ECF6\", \"gridcolor\": \"white\", \"gridwidth\": 2, \"linecolor\": \"white\", \"showbackground\": true, \"ticks\": \"\", \"zerolinecolor\": \"white\"}, \"zaxis\": {\"backgroundcolor\": \"#E5ECF6\", \"gridcolor\": \"white\", \"gridwidth\": 2, \"linecolor\": \"white\", \"showbackground\": true, \"ticks\": \"\", \"zerolinecolor\": \"white\"}}, \"shapedefaults\": {\"line\": {\"color\": \"#2a3f5f\"}}, \"ternary\": {\"aaxis\": {\"gridcolor\": \"white\", \"linecolor\": \"white\", \"ticks\": \"\"}, \"baxis\": {\"gridcolor\": \"white\", \"linecolor\": \"white\", \"ticks\": \"\"}, \"bgcolor\": \"#E5ECF6\", \"caxis\": {\"gridcolor\": \"white\", \"linecolor\": \"white\", \"ticks\": \"\"}}, \"title\": {\"x\": 0.05}, \"xaxis\": {\"automargin\": true, \"gridcolor\": \"white\", \"linecolor\": \"white\", \"ticks\": \"\", \"title\": {\"standoff\": 15}, \"zerolinecolor\": \"white\", \"zerolinewidth\": 2}, \"yaxis\": {\"automargin\": true, \"gridcolor\": \"white\", \"linecolor\": \"white\", \"ticks\": \"\", \"title\": {\"standoff\": 15}, \"zerolinecolor\": \"white\", \"zerolinewidth\": 2}}}, \"title\": {\"text\": \"Period III - without greenhouses\"}, \"width\": 1050},                        {\"responsive\": true}                    ).then(function(){\n",
       "                            \n",
       "var gd = document.getElementById('35fb5767-18b7-470d-b815-e173eb9494a8');\n",
       "var x = new MutationObserver(function (mutations, observer) {{\n",
       "        var display = window.getComputedStyle(gd).display;\n",
       "        if (!display || display === 'none') {{\n",
       "            console.log([gd, 'removed!']);\n",
       "            Plotly.purge(gd);\n",
       "            observer.disconnect();\n",
       "        }}\n",
       "}});\n",
       "\n",
       "// Listen for the removal of the full notebook cells\n",
       "var notebookContainer = gd.closest('#notebook-container');\n",
       "if (notebookContainer) {{\n",
       "    x.observe(notebookContainer, {childList: true});\n",
       "}}\n",
       "\n",
       "// Listen for the clearing of the current output cell\n",
       "var outputEl = gd.closest('.output');\n",
       "if (outputEl) {{\n",
       "    x.observe(outputEl, {childList: true});\n",
       "}}\n",
       "\n",
       "                        })                };                });            </script>        </div>"
      ]
     },
     "metadata": {},
     "output_type": "display_data"
    }
   ],
   "source": [
    "nutrients = [['Protein', 'Fat total', 'Saturated fats', 'Trans fats', 'Omega-3 (ALA)', 'Omega-6 (LA)',\n",
    "              'Carbohydrates','Fiber', 'Sugars'],\n",
    "             ['Vitamin A', 'Vitamin E', 'Vitamin D', 'Vitamin C', 'Thiamine (B1)', 'Riboflavin (B2)',\n",
    "              'Niacin (B3)', 'Vitamin B6','Vitamin B12', 'Vitamin K', 'Folate (B9)', 'Pantothenic Acid (B5)'],\n",
    "             ['Calcium', 'Iron', 'Magnesium', 'Phosphorus', 'Potassium', 'Sodium', 'Zinc', 'Copper',\n",
    "              'Manganese', 'Selenium', 'Iodine'],\n",
    "             ['Histidine', 'Isoleucine', 'Leucine', 'Lysine', 'Methionine', 'Cysteine', \n",
    "              'Phenylalanine', 'Tyrosine', 'Threonine', 'Tryptophan', 'Valine']]\n",
    "\n",
    "diets_excel=pd.ExcelFile(\"Diets by period.xlsx\")\n",
    "\n",
    "for sheet in diets_excel.sheet_names:\n",
    "    diets = pd.read_excel(\"Diets by period.xlsx\", index_col=0, sheet_name=sheet)\n",
    "    diets = diets.fillna(0)\n",
    "    diets = diets.drop('Total:')\n",
    "    food_subset_2 = diets.index\n",
    "    nut_calc_subset=nut_calc.loc[list(food_subset_2)]\n",
    "    fig = make_subplots(rows=2, cols=2, specs=[[{'type': 'polar'}]*2]*2)\n",
    "    nut_calc_subset_t=nut_calc_subset[nut_needs.columns].T\n",
    "    diet = nut_calc_subset_t @ (diets['kcal']/100)\n",
    "    diet_df = pd.DataFrame(diet, columns=['value'])\n",
    "    print(sheet, '\\n-------\\n', diet)\n",
    "    \n",
    "    SRAI = []\n",
    "    MRAI = []\n",
    "    AI = []\n",
    "    danger = []\n",
    "    for i in range(len(diet)): # for the solution, divide in categories for each nutrient\n",
    "        nutrient=diet[i]\n",
    "        nut=diet.index[i]\n",
    "        lower_severe = nut_needs.at['Lower (severe risk)', nut]\n",
    "        lower_moderate = nut_needs.at['Lower (moderate risk)', nut]\n",
    "        higher_safe = nut_needs.at['Higher (safe)', nut]\n",
    "        higher_moderate = nut_needs.at['Higher (moderate risk)', nut]\n",
    "        higher_severe = nut_needs.at['Higher (severe risk)', nut]\n",
    "        if (nutrient>= lower_moderate) and (nutrient<=higher_safe):\n",
    "            AI += [nut]\n",
    "        elif (nutrient==0):\n",
    "            danger+= [nut + ' 0%']\n",
    "        elif (nutrient>higher_severe):\n",
    "            danger+= [nut + ' ' + str(round(nutrient/higher_safe*100))+'%']\n",
    "        elif (nutrient<lower_severe):\n",
    "            SRAI += [nut + ' ' + str(round(nutrient/lower_moderate*100))+'%']\n",
    "        elif (nutrient>higher_moderate):\n",
    "            SRAI += [nut + ' ' + str(round(nutrient/higher_safe*100))+'%']\n",
    "        elif (nutrient< lower_moderate):\n",
    "            MRAI += [nut + ' ' + str(round(nutrient/lower_moderate*100))+'%']\n",
    "        elif (nutrient>higher_safe):\n",
    "            MRAI += [nut + ' ' + str(round(nutrient/higher_safe*100))+'%']\n",
    "    print('AI', AI, '\\n\\nMRAI', MRAI, '\\n\\nSRAI', SRAI, '\\n\\nDanger', danger)\n",
    "    \n",
    "    diet_df['lower adequate intake'] = pd.Series(nut_needs.T['Lower (moderate risk)'])\n",
    "    diet_df['upper adequate intake'] = pd.Series(nut_needs.T['Higher (safe)'])\n",
    "    diet_df['% lower adequate intake'] = diet_df['value']/diet_df['lower adequate intake']\n",
    "    diet_df.loc[diet_df['% lower adequate intake']>1, '% lower adequate intake']=1\n",
    "    diet_df['% upper adequate intake'] = diet_df['value']/diet_df['upper adequate intake']\n",
    "    diet_macro = diet_df.loc[nutrients[0]]\n",
    "    diet_macro = diet_macro.append(diet_macro.iloc[[0]])\n",
    "    fig.add_trace(go.Scatterpolar(r=diet_macro['% lower adequate intake'], theta=diet_macro.index,\n",
    "                                  name='% lower adequate intake', line_color='#00CC96'), 1, 1)\n",
    "    fig.add_trace(go.Scatterpolar(r=diet_macro['% upper adequate intake'], theta=diet_macro.index,\n",
    "                                  name='% upper adequate intake', line_color='#EF553B'), 1, 1)\n",
    "    \n",
    "    diet_vit = diet_df.loc[nutrients[1]]\n",
    "    diet_vit = diet_vit.append(diet_vit.iloc[[0]])\n",
    "    fig.add_trace(go.Scatterpolar(r=diet_vit['% lower adequate intake'], theta=diet_vit.index,\n",
    "                                  name='% lower adequate intake', line_color='#00CC96'), 1, 2)\n",
    "    fig.add_trace(go.Scatterpolar(r=diet_vit['% upper adequate intake'], theta=diet_vit.index,\n",
    "                                  name='% upper adequate intake', line_color='#EF553B'), 1, 2)\n",
    "    diet_min = diet_df.loc[nutrients[2]]\n",
    "    diet_min = diet_min.append(diet_min.iloc[[0]])\n",
    "    fig.add_trace(go.Scatterpolar(r=diet_min['% lower adequate intake'], theta=diet_min.index,\n",
    "                                  name='% lower adequate intake', line_color='#00CC96'), 2, 1)\n",
    "    fig.add_trace(go.Scatterpolar(r=diet_min['% upper adequate intake'], theta=diet_min.index,\n",
    "                                  name='% upper adequate intake', line_color='#EF553B'), 2, 1)\n",
    "    diet_aa = diet_df.loc[nutrients[3]]\n",
    "    diet_aa = diet_aa.append(diet_aa.iloc[[0]])\n",
    "    fig.add_trace(go.Scatterpolar(r=diet_aa['% lower adequate intake'], theta=diet_aa.index,\n",
    "                                  name='% lower adequate intake', line_color='#00CC96'), 2, 2)\n",
    "    fig.add_trace(go.Scatterpolar(r=diet_aa['% upper adequate intake'], theta=diet_aa.index,\n",
    "                                  name='% upper adequate intake', line_color='#EF553B'), 2, 2)\n",
    "    max_val = 2\n",
    "    text = sheet.split('-')\n",
    "    title='Period '+text[0]\n",
    "    if text[1]=='BCS':\n",
    "        title+=' - optimistic scenario'\n",
    "    elif text[1][:2]=='wo':\n",
    "        title+=' - without'+text[1][2:]\n",
    "        \n",
    "    fig.update_layout(\n",
    "        height=800, width=1050, title_text=title,\n",
    "      polar=dict(\n",
    "        radialaxis=dict(\n",
    "          visible=True,\n",
    "          range=[0, max_val]\n",
    "        ),\n",
    "      angularaxis = dict(\n",
    "        rotation = 90,\n",
    "        direction = \"clockwise\"\n",
    "      )),\n",
    "      polar2=dict(\n",
    "        radialaxis=dict(\n",
    "          visible=True,\n",
    "          range=[0, max_val]\n",
    "        ),\n",
    "          angularaxis = dict(\n",
    "        rotation = 90,\n",
    "        direction = \"clockwise\"\n",
    "      )),\n",
    "      polar3=dict(\n",
    "        radialaxis=dict(\n",
    "          visible=True,\n",
    "          range=[0, max_val]\n",
    "        ),\n",
    "      angularaxis = dict(\n",
    "        rotation = 90,\n",
    "        direction = \"clockwise\"\n",
    "      )),\n",
    "      polar4=dict(\n",
    "        radialaxis=dict(\n",
    "          visible=True,\n",
    "          range=[0, max_val]\n",
    "        ),\n",
    "      angularaxis = dict(\n",
    "        rotation = 90,\n",
    "        direction = \"clockwise\"\n",
    "      )),\n",
    "      showlegend=False\n",
    "    )\n",
    "    fig.show()\n",
    "    fig.write_image(title+'.jpeg')"
   ]
  },
  {
   "cell_type": "code",
   "execution_count": 7,
   "metadata": {
    "scrolled": true
   },
   "outputs": [],
   "source": [
    "diets_excel=pd.ExcelFile(\"Diets by period.xlsx\")\n",
    "\n",
    "for sheet in diets_excel.sheet_names:\n",
    "    diets = pd.read_excel(\"Diets by period.xlsx\", index_col=0, sheet_name=sheet)\n",
    "    diets = diets.fillna(0)\n",
    "    \n",
    "    text = sheet.split('-')\n",
    "    title='Period '+text[0]\n",
    "    if text[1]=='BCS':\n",
    "        title+=' - optimistic scenario'\n",
    "    elif text[1][:2]=='wo':\n",
    "        title+=' - without'+text[1][2:]\n",
    "\n",
    "    dfi.export(diets, title+' table.png')"
   ]
  },
  {
   "cell_type": "code",
   "execution_count": null,
   "metadata": {},
   "outputs": [],
   "source": []
  }
 ],
 "metadata": {
  "kernelspec": {
   "display_name": "Python 3",
   "language": "python",
   "name": "python3"
  },
  "language_info": {
   "codemirror_mode": {
    "name": "ipython",
    "version": 3
   },
   "file_extension": ".py",
   "mimetype": "text/x-python",
   "name": "python",
   "nbconvert_exporter": "python",
   "pygments_lexer": "ipython3",
   "version": "3.7.7"
  }
 },
 "nbformat": 4,
 "nbformat_minor": 4
}
